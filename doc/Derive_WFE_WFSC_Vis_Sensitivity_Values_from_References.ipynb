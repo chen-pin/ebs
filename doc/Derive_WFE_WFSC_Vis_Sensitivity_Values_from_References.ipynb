{
 "cells": [
  {
   "cell_type": "code",
   "execution_count": 1,
   "id": "8cd41f39",
   "metadata": {},
   "outputs": [],
   "source": [
    "import numpy as np"
   ]
  },
  {
   "cell_type": "markdown",
   "id": "8d9f4a47",
   "metadata": {},
   "source": [
    "# An Example in Deriving Values for WFE, WFS&C Factors, and Sensitivities  \n",
    "This write-up's intent is to document a preliminary example following the guidelines below:\n",
    "- State the underlying assumption, rationale, or reference for each assumed value\n",
    "- Maintain internal consistency\n",
    "    * Relationships between different values should be consistent with underlying rationales and physical principles\n",
    "    * Avoid double counting\n",
    "\n",
    "## Assumed spatial-frequency, temporal-frequency and angular-separation bins  \n",
    "###  Temporal-Frequency Bins (row labels in WFE and WFS&C arrays)  \n",
    "#### Based on USORT Bins (L. Coyle, B. Sitarsky).  Ref:  slide # 6 in \"2023.03.31_ULTRA_Stability_Budgets.pptx\" by L. Coyle\n",
    "* Static:  0 Hz  \n",
    "* LF1:  5.8$\\times$10$^{-6}$ - 0.001 Hz\n",
    "    - 48 hr - 1000 s.  Observing scenario and coronagraph HOWFS bandwidth, depending on target-star brightness\n",
    "* LF2:  0.001 - 0.01 Hz\n",
    "    - Coronagraph LOWFS bandwidth, depending on target-star brightness  \n",
    "* LF3:  0.01 - 1 Hz\n",
    "    - Telescope alignment (PM/SM rigid body motion) bandwidth  \n",
    "* MF:  1 - 10 Hz  \n",
    "    - PM segment-level, rigid-body sensing & control  \n",
    "* HF:  > 10 Hz  \n",
    "    - Uncontrolled or effects removed w/ image processing  \n",
    "    \n",
    "### Spatial-Frequency Bins (column labels in WFE, WFS&C factor, and sensitivity arrays)  \n",
    "#### Based on USORT Bins (L. Coyle, B. Sitarsky).  Ref:  slide # 6 in \"2023.03.31_ULTRA_Stability_Budgets.pptx\" by L. Coyle\n",
    "* Low:  Noll Z2 - Z11\n",
    "    - Global alignment of PM; low order PM modes (backplane); Can be compensated w/ SM motion  \n",
    "* Mid:  4 - 15 cyc/dia  \n",
    "    - PMSA rigid body motion; low order PMSA modes  \n",
    "* High:  15 - 60 cyc/dia  \n",
    "    - PMSA mid spatial modes (i.e. mount print through)  \n",
    "* High+:  > 60 cyc/dia  \n",
    "    - PMSA high spatial modes above the DM correction range (outside dark hole but considering aliasing into the science field)  \n",
    "\n",
    "### Angular-Separation Bins (row labels in sensitivity arrays)  \n",
    "* HZs of fiducial stars span 53.5 - 124.0 mas angular range, from inner to outer edges.  \n",
    "* For D=6.52 m (USORT pupil incribed diameter), \n",
    "    - 6.8 - 15.7 $\\lambda$/D @250nm, \n",
    "    - 3.1 - 7.1 $\\lambda$/D @550nm, \n",
    "    - 1.0 - 2.3 $\\lambda$/D @1.7$\\mu$m  \n",
    "* For vis, let's use the following bins:  \n",
    "    1. 35 - 52 mas (2 - 3 $\\lambda/D$)  \n",
    "    2. 52 - 70 mas (3 - 4 $\\lambda/D$)  \n",
    "    3. 70 - 87 mas (4 - 5 $\\lambda/D$)  \n",
    "    4. 87 - 104 mas (5 - 6 $\\lambda/D$)    \n",
    "    5. 104 - 122 mas (6 - 7 $\\lambda/D$)  \n",
    "    6. 122 - 139 mas (6 - 8 $\\lambda/D$)  "
   ]
  },
  {
   "cell_type": "code",
   "execution_count": 2,
   "id": "35de6dc7",
   "metadata": {},
   "outputs": [
    {
     "name": "stdout",
     "output_type": "stream",
     "text": [
      "HZ inner to outer edge @ 250 nm:  6.8 -  15.7\n",
      "HZ inner to outer edge @ 550 nm:  3.1 -  7.1\n",
      "HZ inner to outer edge @ 1700 nm:  1.0 -  2.3\n"
     ]
    }
   ],
   "source": [
    "print(f\"HZ inner to outer edge @ 250 nm:  {(53.5e-3/(206266*250e-9/6.52)):.1f} -  {(124e-3/(206266*250e-9/6.52)):.1f}\")\n",
    "print(f\"HZ inner to outer edge @ 550 nm:  {(53.5e-3/(206266*550e-9/6.52)):.1f} -  {(124e-3/(206266*550e-9/6.52)):.1f}\")\n",
    "print(f\"HZ inner to outer edge @ 1700 nm:  {(53.5e-3/(206266*1700e-9/6.52)):.1f} -  {(124e-3/(206266*1700e-9/6.52)):.1f}\")"
   ]
  },
  {
   "cell_type": "code",
   "execution_count": 3,
   "id": "5b1a5a56",
   "metadata": {},
   "outputs": [
    {
     "name": "stdout",
     "output_type": "stream",
     "text": [
      "35 mas @ 2 lambda/D\n",
      "52 mas @ 3 lambda/D\n",
      "70 mas @ 4 lambda/D\n",
      "87 mas @ 5 lambda/D\n",
      "104 mas @ 6 lambda/D\n",
      "122 mas @ 7 lambda/D\n",
      "139 mas @ 8 lambda/D\n"
     ]
    }
   ],
   "source": [
    "for i in range(2, 9):\n",
    "    print(f\"{1e3*206266*i*550e-9/6.52:.0f} mas @ {i} lambda/D\")"
   ]
  },
  {
   "cell_type": "markdown",
   "id": "6337dd16",
   "metadata": {},
   "source": [
    "## WFE  \n",
    "Based on slide # 10 in \"2023.03.31_ULTRA_Stability_Budgets.pptx\" by L. Coyle    \n",
    "\n",
    "|      |Low|Mid|High|High+|  \n",
    "|------|---|---|----|-----|  \n",
    "|Static|194029|174.4|0.2|0|  \n",
    "|LF1   |194029|174.4|0.2|0|    \n",
    "|LF2   |194029|34.7|0.2|0|\n",
    "|LF3   |19403|22.6|0.2|0|  \n",
    "|MF    |9701|22.6|0.2|0|\n",
    "|HF    |1940|12.2|0.2|0|  \n"
   ]
  },
  {
   "cell_type": "markdown",
   "id": "bb10b69f",
   "metadata": {},
   "source": [
    "## WFSC  \n",
    "### Account for only LOWFS here.  HOWFS or dark-hole digging is folded into sensitivities.  \n",
    "- In the \"low\" spatial frequency column:  \n",
    "    - \"Static\" value\n",
    "        - Just a guess  \n",
    "    - \"LF1,\" \"LF2\" and \"LF3\" values \n",
    "        - Fig. 6(a), g = 0.2 curve, in Potier et al. 2022  \n",
    "        - The curve is approximately $|H|^2 = \\left(\\frac{f/f_s}{0.03}\\right)^2$, the sampling frequency was 100 Hz.    \n",
    "    - Therefore, average over a frequency interval is $|H|_{avg} = \\sqrt{\\frac{370\\left[(f_2/f_s)^3 - (f_1/f_s)^3\\right]}{(f_2/f_s) - (f_1/f_s)}}$    \n",
    "- Other columns:  assume no suppression \n",
    "\n",
    "|      |Low|Mid|High|High+|  \n",
    "|------|---|---|----|-----|  \n",
    "|Static|3$\\times$10$^{-6}$|1|1|1|  \n",
    "|LF1   |2$\\times$10$^{-4}$|1|1|1|    \n",
    "|LF2   |2$\\times$10$^{-3}$|1|1|1|\n",
    "|LF3   |0.2|1|1|1|  \n",
    "|MF    |1|1|1|1|\n",
    "|HF    |1|1|1|1|  \n",
    "    "
   ]
  },
  {
   "cell_type": "code",
   "execution_count": 4,
   "id": "93633e81",
   "metadata": {},
   "outputs": [],
   "source": [
    "def wfsc(f1, f2, fs=100):\n",
    "    return np.sqrt(370*((f2/fs)**3 - (f1/fs)**3)/((f2/fs - f1/fs)))"
   ]
  },
  {
   "cell_type": "code",
   "execution_count": 5,
   "id": "6013c285",
   "metadata": {},
   "outputs": [
    {
     "name": "stdout",
     "output_type": "stream",
     "text": [
      "0.00019291408626639995\n",
      "0.002026573462769115\n",
      "0.19332278706867434\n"
     ]
    }
   ],
   "source": [
    "print(wfsc(5.8e-6, 0.001))\n",
    "print(wfsc(0.001, 0.01))\n",
    "print(wfsc(0.01, 1))"
   ]
  },
  {
   "cell_type": "markdown",
   "id": "4c342583",
   "metadata": {},
   "source": [
    "# Sensitivity  \n",
    "- For \"low\" spatial frequency\n",
    "    * For the first 2 angular-separation bins  \n",
    "        * Fig. 26(b) in Nemati et al. 2020  \n",
    "        * Use the RSS allocation (40 ppt) divided by the RSS tolerances (6.21 pm) $\\frac{40}{6.21} = 6.4$ ppt/pm \n",
    "- For \"mid\" spatial-frequency bins  \n",
    "    * Eyeball the Lowest curve in \"Piston/tip/tilt\" panel in lower row of Fig. 12 in Juanola-Parramon et al. 2022 (for VVC LUVOIR-B), which corresponds to contrast change cause by 2.9 pm RMS WFE.  \n",
    "        - 10 ppt/pm @ 2 & 3 $\\lambda$/D  \n",
    "        - 3 ppt/pm @ 4 & 5 $\\lambda$/D  \n",
    "        - 1.5 ppt/pm @ 6 - 8 $\\lambda$/D  \n",
    "    * Mainly affect angular bins 3 - 6 \n",
    "- For \"high\" spatial-frequency bin:  Above the considered angular range, although can have frequency-mixing effects.  Assume null values for now.  \n",
    "- For \"high+\" spatial-frequency bin.  No speckle suppression because the spatial frequencies are above DM correction range. \n",
    "    * For each mode, $I_{speckle} = \\left(\\frac{\\pi h}{\\lambda}\\right)^2$   \n",
    "    * Differentiate:  $\\frac{dI}{dh} = \\frac{2\\pi}{\\lambda}\\sqrt{I}$. This yields 114 ppt/pm for $I=1\\times10^{-10}$.\n",
    "    * The spatial frequencies are far above the considered angular range, but can have frequency-mixing effects.  For now, assume null values  \n",
    "    \n",
    "|      |Low|Mid|High|High+|  \n",
    "|------|---|---|----|-----|  \n",
    "|A1   |6.4|10|0|0|  \n",
    "|A2   |6.4|5|0|0|    \n",
    "|A3   |0|3|0|0|\n",
    "|A4   |0|3|0|0|  \n",
    "|A5    |0|1.5|0|0|\n",
    "|A6    |0|1.5|0|0|  "
   ]
  },
  {
   "cell_type": "code",
   "execution_count": 6,
   "id": "139f4c7c",
   "metadata": {},
   "outputs": [
    {
     "data": {
      "text/plain": [
       "1.1423973285781064"
      ]
     },
     "execution_count": 6,
     "metadata": {},
     "output_type": "execute_result"
    }
   ],
   "source": [
    "2*np.pi/(550e3*np.sqrt(1e-10))"
   ]
  }
 ],
 "metadata": {
  "kernelspec": {
   "display_name": "Python 3 (ipykernel)",
   "language": "python",
   "name": "python3"
  },
  "language_info": {
   "codemirror_mode": {
    "name": "ipython",
    "version": 3
   },
   "file_extension": ".py",
   "mimetype": "text/x-python",
   "name": "python",
   "nbconvert_exporter": "python",
   "pygments_lexer": "ipython3",
   "version": "3.9.13"
  }
 },
 "nbformat": 4,
 "nbformat_minor": 5
}
