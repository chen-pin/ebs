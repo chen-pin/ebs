{
 "cells": [
  {
   "cell_type": "markdown",
   "metadata": {},
   "source": [
    "# Computation of the Postprocessing Factor\n",
    "Pin Chen"
   ]
  },
  {
   "cell_type": "markdown",
   "metadata": {},
   "source": [
    "## Definition of Variables  \n",
    "### Yield  \n",
    "Let $\\mathbf{y}$ be the exo-Earth yield of a nominal coronagraphic mission.  $\\mathbf{y}$ is a function of the coronaph's IWA ($\\theta_I$), OWA ($\\theta_O$), 2-D contrast, 2-D thrgoughput, and astrophysical (+ other) parameters (which we we lump into a vector, $\\vec{a}$).  \n",
    "\n",
    "Let's first reduce the dimensionality of contrast and throughput by averaging each over a discrete number of $n$ annular bands between the IWA and OWA.  Thus, we denote contrast and throughput as vectors $\\vec{c}$ and $\\vec{\\eta}$, respectively  \n",
    "\n",
    "$\\vec{c} = \\{c_1, c_2, \\dots, c_n\\}$  \n",
    "$\\vec{\\eta} = \\{\\eta_1, \\eta_2, \\dots, \\eta_n\\}$  \n",
    "\n",
    "$\\therefore$  \n",
    "\n",
    "$\\mathbf{y}  = \\mathbf{y} (\\theta_I, \\theta_O, \\vec{c}, \\vec{\\eta}, \\vec{a})$\n",
    "\n",
    "Let's also group all the coronagraph parameters into a vector, $\\vec{k}$   \n",
    "\n",
    "$\\therefore$   \n",
    "\n",
    "$\\vec{k} \\equiv \\{\\theta_I, \\theta_O, \\vec{c}, \\vec{\\eta}\\}$  \n",
    "\n",
    "Thus,  \n",
    "\n",
    "$\\mathbf{y} = \\mathbf{y} (\\vec{k}, \\vec{a})$  \n"
   ]
  },
  {
   "cell_type": "markdown",
   "metadata": {},
   "source": [
    "### Sensitivity  \n",
    "\n",
    "Now, let's define coronagraphic yield sensitivity, $\\mathbf{s}$, to an applied perturbation, $\\mathbf{x}$, as $\\frac{d\\mathbf{y}}{d\\mathbf{x}}$.  For example, $\\mathbf{x}$ can be the amplitude of dynamical wavefront errors or  aberration.  Thus,  \n",
    "$\\mathbf{s} \\equiv \\frac{d\\mathbf{y}}{d\\mathbf{x}} $\n",
    "\n",
    "$\\mathbf{s} = \\frac{\\partial \\mathbf{y}}{\\partial \\theta_I}\\frac{d\\theta_I}{d\\mathbf{x}} + \\frac{\\partial \\mathbf{y}}{\\partial \\theta_O}\\frac{d\\theta_O}{d\\mathbf{x}} + \\frac{\\partial \\mathbf{y}}{\\partial c_1}\\frac{dc_1}{d\\mathbf{x}} + \\dots + \\frac{\\partial \\mathbf{y}}{\\partial c_n}\\frac{dc_n}{d\\mathbf{x}} + \\frac{\\partial \\mathbf{y}}{\\partial \\eta_1}\\frac{d\\eta_1}{d\\mathbf{x}} + \\dots + \\frac{\\partial \\mathbf{y}}{\\partial \\eta_n}\\frac{d\\eta_n}{d\\mathbf{x}} $  \n",
    "\n",
    "More compactly, we can express $\\mathbf{s}$ as follows: \n",
    "\n",
    "$\\mathbf{s} = \\sum_{i=1}^{2n+2} \\frac{\\partial \\mathbf{y}}{\\partial k_i}\\frac{dk_i}{d\\mathbf{x}}$, \n",
    "\n",
    "or  \n",
    "\n",
    "$\\mathbf{s} = \\sum_{i=1}^{2n+2} \\Phi_{k_i} \\frac{\\mathbf{y}}{k_i} \\frac{dk_i}{d\\mathbf{x}}$,\n",
    "\n",
    "where $\\Phi_{k_i} \\equiv \\frac{\\partial \\mathbf{y}}{\\partial k_i} \\frac{k_i}{\\mathbf{y}}$\n",
    "\n",
    "Stark et al. (2014) _ApJ_ showed that the dependence of $\\mathbf{y}$ on each parameter $k_i$ is of the following form:  \n",
    "\n",
    "$\\mathrm{y}_i = f_i + g_i k_i^{h_i}$\n",
    "\n",
    "where $f_i$, $g_i$, and $h_i$ are constants, and $\\mathrm{y}_i$ indicates yield computed where $k_i$, and only $k_i$, is varied; i.e. $\\mathrm{y}_i = \\mathbf{y}(k_i)$.    \n",
    "\n",
    "Moreover, the following approximation holds in most situations    \n",
    "\n",
    "$\\Phi_{k_i} \\approx h_i$ \n",
    "\n",
    "This is equivalent to the condition $f_i < g_i k_i^{h_i}$.\n",
    "\n",
    "(ref. Stark _et al._ 2014, 2015, 2019).  \n",
    "\n",
    "$\\therefore$  \n",
    "\\begin{equation}  \n",
    "\\mathbf{s} \\approx \\sum_{i=1}^{2n+2} h_i \\frac{\\mathbf{y}}{k_i} \\frac{dk_i}{d\\mathbf{x}}  \n",
    "\\tag{1}\n",
    "\\end{equation}"
   ]
  },
  {
   "cell_type": "markdown",
   "metadata": {},
   "source": [
    "## Computation of Approximate Yield Sensitivity  \n",
    "\n",
    "### Draft Procedure\n",
    "\n",
    "1. Define nominal mission parameters (ref. _e.g._ Stark _et al._ 2019, Table 1 \\& Table 2) and compute the yield to obtain $\\mathbf{y}$.  \n",
    "2. Compute yields iteratively over a range of $m$ values for each of the $(2n+2)$ parameters $k_i$.  This generates a matrix of yield values $\\mathbf{Y} = |y_{ij}|$, where $j = \\{1, 2, \\dots, m\\}$.  Thus, $\\mathbf{Y}$ is a $(2n+2) \\times m$ matrix.    \n",
    "3. Fit each row in $\\mathbf{Y}$ to derive $f_i$, $g_i$, and $h_i$ values.  \n",
    "4. Produce a vector, $\\vec{h}$, of $h_{i} $ values.  $\\vec{h}$ has $(2n+2)$ components.  It can be saved as a look-up table.      \n",
    "6. Compute changes in coronagraph performance parameters, $\\Delta k_i$, as a function of changes in perturbation, $\\Delta x$.  \n",
    "7. Use Eq. 1 to compute sensitivity, assuming $\\frac{dk_i}{d\\mathbf{x}} \\approx \\frac{\\Delta k_i}{\\Delta x}$.  \n",
    "\n",
    "### Notes:  \n",
    "* To fit the three parametes in step 4 above, $m$ must be $\\ge 4$.  Thus, the total number of yield computations $\\ge 4(2n+2)$.  \n",
    "    * For example, using $n = 14$ (15 bands of 1$\\lambda$/D width cetered at $\\{2.5, 3.5, \\dots, 15.5\\}\\lambda/D$) and m = 6 requires 180 yield computations to produce the $h_i$ values.  \n",
    "* An initial survery of suitable sampling of $k_i$ values is required, for example, by examining yield plots in Start _et al._ 2014, 2015, and 2019 and performing some test yield computations. \n",
    "* We can use previous SCDA yield-sensitivity results to this approach's range of validity.  \n",
    "* Single-visit completeness has a slowly varying contour w.r.t. coronagraph performance (see e.g. Figure 2 in Brown 2005 _ApJ_).  Therefore, this approach should be fairly robust _unless_ a particular change in coronagraph performance significantly alters the mission's target prioritization.  \n"
   ]
  }
 ],
 "metadata": {
  "kernelspec": {
   "display_name": "Python 3",
   "language": "python",
   "name": "python3"
  },
  "language_info": {
   "codemirror_mode": {
    "name": "ipython",
    "version": 3
   },
   "file_extension": ".py",
   "mimetype": "text/x-python",
   "name": "python",
   "nbconvert_exporter": "python",
   "pygments_lexer": "ipython3",
   "version": "3.7.4"
  }
 },
 "nbformat": 4,
 "nbformat_minor": 2
}
