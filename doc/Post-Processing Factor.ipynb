{
 "cells": [
  {
   "cell_type": "markdown",
   "metadata": {},
   "source": [
    "# Computation of the Postprocessing Factor\n",
    "Pin Chen"
   ]
  },
  {
   "cell_type": "markdown",
   "metadata": {},
   "source": [
    "## Definition of Variables  "
   ]
  },
  {
   "cell_type": "markdown",
   "metadata": {},
   "source": [
    "|Symbol in this Document|Variable name in <ebs.py>|Description| \n",
    "|---|---|---|  \n",
    "|$i$ subscript|-|Temporal modes (see below for definition)|  \n",
    "|$j$ subscript| -|Spatial modes (see below for definition)| \n",
    "|$k$ substript|-|Annular bands of angular separation (see below for definition)|\n",
    "|$C_k$|contrast|average reference contrast in $k$ annular band|  \n",
    "|$\\delta_{ij}$|wfe|wavefront error at the coronagraph's entrance pupil, in $i$ and $j$ temporal-spatial mode [pm]|    \n",
    "|$\\gamma_{ij}$|wfsc_factor|Damping factors representing performance of a WFS&C subsystem in the coronagraph instrument, in $i$ and $j$ temporal-spatial mode. A smaller value represents better damping. $0\\le\\gamma_{ij}\\le 1$|  \n",
    "|$s_{kj}$|sensitivity|$\\frac{\\partial \\mathbf{C_k}}{\\partial \\delta_j}$ [ppt/pm]|  \n",
    "|$r_{ij}$|post_wfsc_wfe|Residual wavefront error in $i$ and $j$ temporal-spatial mode after WFS&C [pm]|\n",
    "|$\\Delta C_k$|delta_contrast|Change in constrast between reference and target acquistions due to residual wavefront changes after WFS&C|  \n",
    "|$f_k$|ppFact|Post-processing factor for angular band $k$. All values are capped at 1.|"
   ]
  },
  {
   "cell_type": "markdown",
   "metadata": {},
   "source": [
    "* The $i$ temporal modes and $j$ spatial modes are defined in the \"Glossary\" tab of <input_parameters_reference.xlsx>  \n",
    "* The $k$ angular separations are as defined in the <r_as> column of the FREAK input files <contrast.csv> and <thruput.csv>.  The two files must use the same <r_as> values.  \n",
    "   "
   ]
  },
  {
   "cell_type": "markdown",
   "metadata": {},
   "source": [
    "## Computation in the EBS Code  \n",
    "\\begin{equation}\n",
    "r_{ij} = \\gamma_{ij} \\delta_{ij}\n",
    "\\end{equation}\n",
    "\n",
    "\\begin{equation}\n",
    "\\overline{r_j} = \\sqrt{\\sum_i{r_{ij}^2}} \n",
    "\\end{equation}\n",
    "\n",
    "\\begin{equation}\n",
    "\\Delta C_{k=k'} = 10^{-12}\\sqrt{\\sum_i\\sum_j{\\left(s_{k'j}{r_{ij}}\\right)^2}}\n",
    "\\end{equation}   \n",
    "\n",
    "---\n",
    "**Derivation Note**  \n",
    "\n",
    "\\begin{equation}\n",
    "\\begin{split}\n",
    "\\Delta C_{k=k'} &= 10^{-12}\\sqrt{\\sum_j{\\left(s_{k'j}\\overline{r_j}\\right)^2}} \\\\\n",
    "&= 10^{-12}\\sqrt{\\sum_j{\\left(s_{k'j}^2\\overline{r_{ij}^2}\\right)}} \\\\\n",
    "&= 10^{-12}\\sqrt{\\sum_j{\\left(s_{k'j}^2\\sum_i{r_{ij}^2}\\right)}} \\\\\n",
    "&= 10^{-12}\\sqrt{\\sum_i\\sum_j{\\left(s_{k'j}^2{r_{ij}^2}\\right)}}\\\\\n",
    "&= 10^{-12}\\sqrt{\\sum_i\\sum_j{\\left(s_{k'j}{r_{ij}}\\right)^2}}\n",
    "\\end{split}\n",
    "\\end{equation}  \n",
    "\n",
    "---"
   ]
  },
  {
   "cell_type": "markdown",
   "metadata": {},
   "source": [
    "\\begin{equation}  \n",
    "f_k = \\min\\left\\{ 1, \\frac{\\Delta C_k}{C_k}\\right\\}\n",
    "\\end{equation}  "
   ]
  }
 ],
 "metadata": {
  "kernelspec": {
   "display_name": "Python 3 (ipykernel)",
   "language": "python",
   "name": "python3"
  },
  "language_info": {
   "codemirror_mode": {
    "name": "ipython",
    "version": 3
   },
   "file_extension": ".py",
   "mimetype": "text/x-python",
   "name": "python",
   "nbconvert_exporter": "python",
   "pygments_lexer": "ipython3",
   "version": "3.9.13"
  }
 },
 "nbformat": 4,
 "nbformat_minor": 2
}
