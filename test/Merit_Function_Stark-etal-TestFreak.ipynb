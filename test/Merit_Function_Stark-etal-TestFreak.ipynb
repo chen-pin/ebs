{
 "cells": [
  {
   "cell_type": "markdown",
   "metadata": {},
   "source": [
    "# Coronagraph Merit Function  "
   ]
  },
  {
   "cell_type": "markdown",
   "metadata": {},
   "source": [
    "**Reference**  \n",
    "Stark _et al._ (2014) _ApJ_"
   ]
  },
  {
   "cell_type": "markdown",
   "metadata": {},
   "source": [
    "## Preamble  \n",
    "Stark _et al._ list four elements in optimizing exoEarth detection:    \n",
    "1. Target list selection\n",
    "2. Completeness  \n",
    "3. Exposure time  \n",
    "4. Yield maximization  \n",
    "\n",
    "Coronagraph design pertains to only 2 and 3:  \n",
    "* Detection limit ($\\Delta mag_{obs}$), inner working andgle (IWA) and, to a lesser degree, outer working angle (OWA) determine completeness, $C_i(\\Delta mag_{obs}, IWA, OWA)$.  \n",
    "* Exposure time ($\\tau$) depends on the following coronagraphic metrics:  \n",
    "    * $\\Upsilon$:  the fraction of the diffraction-limited PSF contained within the aperture defined by the angular radius $\\theta = X\\lambda /D$. Stark _et al._ assume simple aperture photometry with $X=0.7$ such that $\\Upsilon=0.69$, which roughly maximizes the planet-to-background flux ratio.  \n",
    "    * $T$:  throughput (P. Chen note:  throughput is the overall transmittance, ratio of photons on the camera to photons on the entrance pupil for the targeted object)  \n",
    "    * $\\Delta\\lambda$:  wavelength badnwidth     \n",
    "    * $\\zeta$:  uniform contrast level of suppressed starlight measured relative to the PSF peak per unit solid angle, $PSF_{peak} = \\pi D^2/(4\\lambda ^2)$ expresses the theoretical Airy pattern peak per unit solid angle under the assumption of a diffraction-limited PSF, and $\\Omega = \\pi(X\\lambda /D)^2$ is the solid angle subtended by the photometric aperture.  \n",
    "\n",
    "Completeness is not described by an analytical formula, so we focus on exposure time in deriving a merit function and devise _ad hoc_ ways to account for completeness.  \n"
   ]
  },
  {
   "cell_type": "markdown",
   "metadata": {},
   "source": [
    "## Relevant Equations from Stark _et al._   \n",
    "\n",
    "### Required Exposure Time\n",
    "\\begin{equation}\n",
    "\\tau = (S/N)^2\\left( \\frac{CR_p+2CR_b}{CR_p^2} \\right)\n",
    "\\end{equation}  \n",
    "* $CR_p$ is the photon count rate for the planet  \n",
    "* $CR_b$ is the photon count rate for the background \n",
    "* Factor of two in fron of $CR_b$ is due to the necessity of background subtraction    \n",
    "\n",
    "### Planet Photon Rate\n",
    "\\begin{equation}\n",
    "CR_p = F_0 10^{-0.4(m_V+\\Delta mag_{obs})} \\frac{\\pi D^2}{4}\\Upsilon T\\Delta\\lambda\n",
    "\\end{equation}  \n",
    "* $F_0$ is zero-magnitude flux at $V$ band \n",
    "* $\\Delta mag_{obs}$:  contrast magnitude representing the faintest planet that can be detected at the desired S/N in a certain exposure time. \n",
    "\n",
    "### Background Photon Rate  \n",
    "\n",
    "#### Leaked Stellar Light  \n",
    "\\begin{equation}\n",
    "CR_{b,\\star} = F_0 10^{-0.4m_V}\\zeta \\frac{\\pi^2 X^2}{4}\\frac{\\pi D^2}{4} T\\Delta\\lambda\n",
    "\\end{equation}  \n",
    "\n",
    "#### Local Zodiacal Light  \n",
    "\\begin{equation}\n",
    "CR_{b,zodi} = F_0 10^{-0.4z} \\frac{\\pi^2 X^2}{4(4.848\\times10^{-6})^2}\\lambda_V^2 T\\Delta\\lambda\n",
    "\\end{equation} \n",
    "* $z$ is the typical surface brightness of the zodiacal light in magnitudes per unit solid angle at $V$ band. +\n",
    "* $(4.848\\times10^{-6})^2$ is the number of radians in one arcsecond.  \n",
    "\n",
    "#### Exozodiacal Light  \n",
    "\\begin{equation}\n",
    "CR_{b,exozodi} = F_0 n10^{-0.4x} \\frac{\\pi^2 X^2}{4(4.848\\times10^{-6})^2}\\lambda_V^2 T\\Delta\\lambda\n",
    "\\end{equation}   \n",
    "* $x$ is the surface brightness of 1 zodi of exozodiacal light in magnitudes per unit solid angle  \n",
    "* $n$ is the typical number of zodis assumed for all stars  "
   ]
  },
  {
   "cell_type": "markdown",
   "metadata": {},
   "source": [
    "## Combine the above Equations  \n",
    "\n",
    "\\begin{equation}\n",
    "\\tau = (S/N)^2\\left( \\frac{1+2(CR_b/CR_p)}{CR_p} \\right)\n",
    "\\end{equation}   "
   ]
  },
  {
   "cell_type": "markdown",
   "metadata": {},
   "source": [
    "\\begin{equation}\n",
    "\\frac{CR_b}{CR_p} = \\frac{F_0 10^{-0.4m_V}\\zeta \\frac{\\pi^2 X^2}{4}\\frac{\\pi D^2}{4} T\\Delta\\lambda + F_0 10^{-0.4z} \\frac{\\pi^2 X^2}{4(4.848\\times10^{-6})^2}\\lambda_V^2 T\\Delta\\lambda + F_0 n10^{-0.4x} \\frac{\\pi^2 X^2}{4(4.848\\times10^{-6})^2}\\lambda_V^2 T\\Delta\\lambda}{F_0 10^{-0.4(m_V+\\Delta mag_{obs})} \\frac{\\pi D^2}{4}\\Upsilon T\\Delta\\lambda}\n",
    "\\end{equation} "
   ]
  },
  {
   "cell_type": "markdown",
   "metadata": {},
   "source": [
    "\\begin{equation}\n",
    "\\frac{CR_b}{CR_p} = \\frac{\\frac{\\pi^2 X^2}{4}\\left[10^{-0.4m_V}\\zeta \\frac{\\pi D^2}{4}  + 10^{-0.4(z-26.57)} \\lambda_V^2  +  n10^{-0.4(x-26.57)} \\lambda_V^2 \\right]}{ 10^{-0.4(m_V+\\Delta mag_{obs})} \\frac{\\pi D^2}{4}\\Upsilon }\n",
    "\\end{equation}"
   ]
  },
  {
   "cell_type": "markdown",
   "metadata": {},
   "source": [
    "\\begin{equation}\n",
    "\\tau = (S/N)^2\\left( \\frac{1 + 2\\left(\\frac{\\frac{\\pi^2 X^2}{4}\\left[10^{-0.4m_V}\\zeta \\frac{\\pi D^2}{4}  + 10^{-0.4(z-26.57)} \\lambda_V^2  +  n10^{-0.4(x-26.57)} \\lambda_V^2 \\right]}{ 10^{-0.4(m_V+\\Delta mag_{obs})} \\frac{\\pi D^2}{4}\\Upsilon }\\right)}{F_0 10^{-0.4(m_V+\\Delta mag_{obs})} \\frac{\\pi D^2}{4}\\Upsilon T\\Delta\\lambda} \\right)\n",
    "\\end{equation}  "
   ]
  },
  {
   "cell_type": "markdown",
   "metadata": {},
   "source": [
    "\\begin{equation}\n",
    "\\tau = (S/N)^2\\left( \\frac{ 10^{-0.4(m_V+\\Delta mag_{obs})} \\frac{\\pi D^2}{4}\\Upsilon  + 2\\left(\\frac{\\pi^2 X^2}{4}\\left[10^{-0.4m_V}\\zeta \\frac{\\pi D^2}{4}  + 10^{-0.4(z-26.57)} \\lambda_V^2  +  n10^{-0.4(x-26.57)} \\lambda_V^2 \\right]\\right)}{\\left( 10^{-0.4(m_V+\\Delta mag_{obs})} \\frac{\\pi D^2}{4}\\Upsilon \\right) \\left( F_0 10^{-0.4(m_V+\\Delta mag_{obs})} \\frac{\\pi D^2}{4}\\Upsilon T\\Delta\\lambda \\right)}  \\right)\n",
    "\\end{equation}  "
   ]
  },
  {
   "cell_type": "markdown",
   "metadata": {},
   "source": [
    "\\begin{equation}\n",
    "\\tau = (S/N)^2\\left( \\frac{ 10^{-0.4(m_V+\\Delta mag_{obs})} \\frac{\\pi D^2}{4}\\Upsilon  + 2\\left(\\frac{\\pi^2 X^2}{4}\\left[10^{-0.4m_V}\\zeta \\frac{\\pi D^2}{4}  + 10^{-0.4(z-26.57)} \\lambda_V^2  +  n10^{-0.4(x-26.57)} \\lambda_V^2 \\right]\\right)}{\\left( 10^{-0.4(m_V+\\Delta mag_{obs})} \\frac{\\pi D^2}{4}\\Upsilon \\right)^2 \\left( F_0  T\\Delta\\lambda \\right)}  \\right)\n",
    "\\end{equation}  "
   ]
  },
  {
   "cell_type": "markdown",
   "metadata": {},
   "source": [
    "## Merit Function  \n",
    "\n",
    "Maximizing the following function minimizes exposure time.  \n",
    "\n",
    "\\begin{equation}\n",
    "\\mathcal{M} =  \\frac{\\left( 10^{-0.4(m_V+\\Delta mag_{obs})} \\frac{\\pi D^2}{4}\\Upsilon \\right)^2 \\left( F_0  T\\Delta\\lambda \\right)} { 10^{-0.4(m_V+\\Delta mag_{obs})} \\frac{\\pi D^2}{4}\\Upsilon  + 2\\left(\\frac{\\pi^2 X^2}{4}\\left[10^{-0.4m_V}\\zeta \\frac{\\pi D^2}{4}  + 10^{-0.4(z-26.57)} \\lambda_V^2  +  n10^{-0.4(x-26.57)} \\lambda_V^2 \\right]\\right)}\n",
    "\\end{equation}  "
   ]
  },
  {
   "cell_type": "markdown",
   "metadata": {},
   "source": [
    "\\begin{equation}\n",
    "\\mathcal{M} = \\frac{F_0 B_1^2 \\Upsilon^2 T\\Delta\\lambda}{B_1 \\Upsilon +  B_2 B_3 \\zeta  +  B_2 B_4  } \n",
    "\\end{equation}\n",
    "\n",
    "* $B_1 \\equiv 10^{-0.4(m_V+\\Delta mag_{obs})}\\left(\\frac{\\pi D^2}{4}\\right)$\n",
    "* $B_2 \\equiv 2 \\left(\\frac{\\pi^2 X^2}{4}\\right)$  \n",
    "* $B_3 \\equiv 10^{-0.4m_V}\\left(\\frac{\\pi D^2}{4}\\right)$  \n",
    "* $B_4 \\equiv \\left[10^{-0.4(z-26.57)}   +  n10^{-0.4(x-26.57)}\\right] \\lambda_V^2$\n",
    "* Use weighting w.r.t. angular position to account for completeness  "
   ]
  },
  {
   "cell_type": "code",
   "execution_count": 1,
   "metadata": {},
   "outputs": [],
   "source": [
    "import numpy as np"
   ]
  },
  {
   "cell_type": "code",
   "execution_count": 2,
   "metadata": {},
   "outputs": [],
   "source": [
    "F_0 = 9993e13  # [photon/(m^3*s)] Stark et al. 2014 uses 9500E13.  Wikipedia \"Apparent Magnitude\" page ==> 9993E13\n",
    "m_v = 4.85  # HIP 15457 (Sun at 10 pc = 4.7)\n",
    "delta_mag = -2.5*np.log10(1.35e-10)  # @EEID for HIP 15457\n",
    "D = 6.0  # Aperture diameter [m]\n",
    "encircled_psf = 0.69  # Fraction of Airy pattern contained w/in photometric aperture\n",
    "z = 23  # Surface brightness of zodiacal light [mag/arcsec^2] \n",
    "x = 22  # Surface brightness of 1 zodi of exozodiacal dust [mag/arcsec^2]\n",
    "n = 3.0  # Number of zodis for all stars\n",
    "X = 0.702  # Photometry aperture radius in wvl/D (Nemati et al. 2020 Fig 8, semi-major axes: 0.818, 0.603)\n",
    "wvl = 550e-9  \n",
    "throughput = 0.225*0.9  # 0.9 is for mirror obscuration \n",
    "    # (more realistic throughput value ~ 0.04:  0.28 overall reflectance (0.92^15) * 0.15 coronagraph core throughput)\n",
    "wvl_bw = wvl*0.2  # Wavelength bandwidth [micron]\n",
    "contrast = 1E-10\n",
    "time_multiplier = 1  # 2 if the observing scenario includes background subtraction \n",
    "SNR = 7.0"
   ]
  },
  {
   "cell_type": "code",
   "execution_count": 3,
   "metadata": {},
   "outputs": [
    {
     "name": "stdout",
     "output_type": "stream",
     "text": [
      "un-occulted stellar photon rate:  4.99E+08 photons/s\n"
     ]
    }
   ],
   "source": [
    "print(\"un-occulted stellar photon rate:  {:.2E} photons/s\".format(F_0*10**(-0.4*m_v)*throughput*encircled_psf*wvl_bw*np.pi*D**2/4))"
   ]
  },
  {
   "cell_type": "code",
   "execution_count": 4,
   "metadata": {},
   "outputs": [],
   "source": [
    "CR_p = F_0*10**(-0.4*(m_v+delta_mag))*(np.pi*D**2/4.0)*encircled_psf*throughput*wvl_bw"
   ]
  },
  {
   "cell_type": "code",
   "execution_count": 5,
   "metadata": {},
   "outputs": [
    {
     "name": "stdout",
     "output_type": "stream",
     "text": [
      "planet count rate:  6.73E-02 photons/s\n"
     ]
    }
   ],
   "source": [
    "print(\"planet count rate:  {:.2E} photons/s\".format(CR_p))"
   ]
  },
  {
   "cell_type": "code",
   "execution_count": 6,
   "metadata": {},
   "outputs": [],
   "source": [
    "CR_b_star = F_0*10**(-0.4*m_v)*contrast*((np.pi**2)*(X**2)/4.0)*(np.pi*D**2/4.0)*throughput*wvl_bw"
   ]
  },
  {
   "cell_type": "code",
   "execution_count": 7,
   "metadata": {},
   "outputs": [
    {
     "name": "stdout",
     "output_type": "stream",
     "text": [
      "residual stellar count rate:  8.79E-02 photons/s\n"
     ]
    }
   ],
   "source": [
    "print(\"residual stellar count rate:  {:.2E} photons/s\".format(CR_b_star))"
   ]
  },
  {
   "cell_type": "code",
   "execution_count": 8,
   "metadata": {},
   "outputs": [],
   "source": [
    "CR_b_zodi = F_0*10**(-0.4*z)*(np.pi**2)*(X**2)/(4.0*np.radians(1/3600.0)**2)*wvl**2*throughput*wvl_bw"
   ]
  },
  {
   "cell_type": "code",
   "execution_count": 9,
   "metadata": {},
   "outputs": [
    {
     "name": "stdout",
     "output_type": "stream",
     "text": [
      "local zodiacal count rate:  2.20E-02 photons/s\n"
     ]
    }
   ],
   "source": [
    "print(\"local zodiacal count rate:  {:.2E} photons/s\".format(CR_b_zodi))"
   ]
  },
  {
   "cell_type": "code",
   "execution_count": 10,
   "metadata": {},
   "outputs": [],
   "source": [
    "CR_b_exozodi = F_0*n*10**(-0.4*x)*(np.pi**2)*(X**2)/(4.0*np.radians(1/3600.0)**2)*wvl**2*throughput*wvl_bw"
   ]
  },
  {
   "cell_type": "code",
   "execution_count": 11,
   "metadata": {},
   "outputs": [
    {
     "name": "stdout",
     "output_type": "stream",
     "text": [
      "exozodiacal count rate:  1.66E-01 photons/s\n"
     ]
    }
   ],
   "source": [
    "print(\"exozodiacal count rate:  {:.2E} photons/s\".format(CR_b_exozodi))"
   ]
  },
  {
   "cell_type": "code",
   "execution_count": 12,
   "metadata": {},
   "outputs": [],
   "source": [
    "CR_b = CR_b_star + CR_b_zodi + CR_b_exozodi"
   ]
  },
  {
   "cell_type": "code",
   "execution_count": 13,
   "metadata": {},
   "outputs": [
    {
     "name": "stdout",
     "output_type": "stream",
     "text": [
      "total background count rate:  2.75E-01 photons/s\n"
     ]
    }
   ],
   "source": [
    "print(\"total background count rate:  {:.2E} photons/s\".format(CR_b))"
   ]
  },
  {
   "cell_type": "code",
   "execution_count": 14,
   "metadata": {},
   "outputs": [],
   "source": [
    "tau = SNR**2*(CR_p+time_multiplier*CR_b)/CR_p**2"
   ]
  },
  {
   "cell_type": "code",
   "execution_count": 15,
   "metadata": {},
   "outputs": [
    {
     "name": "stdout",
     "output_type": "stream",
     "text": [
      "required exposure time:  3.71E+03 s\n",
      "required exposure time:  1.03E+00 h\n",
      "required exposure time:  0.043 d\n"
     ]
    }
   ],
   "source": [
    "print(\"required exposure time:  {:.2E} s\".format(tau))\n",
    "print(\"required exposure time:  {:.2E} h\".format(tau/3600.0))\n",
    "print(\"required exposure time:  {:.3f} d\".format(tau/(24*3600.0)))"
   ]
  },
  {
   "cell_type": "code",
   "execution_count": null,
   "metadata": {},
   "outputs": [],
   "source": []
  }
 ],
 "metadata": {
  "kernelspec": {
   "display_name": "Python 3 (ipykernel)",
   "language": "python",
   "name": "python3"
  },
  "language_info": {
   "codemirror_mode": {
    "name": "ipython",
    "version": 3
   },
   "file_extension": ".py",
   "mimetype": "text/x-python",
   "name": "python",
   "nbconvert_exporter": "python",
   "pygments_lexer": "ipython3",
   "version": "3.9.13"
  }
 },
 "nbformat": 4,
 "nbformat_minor": 2
}
