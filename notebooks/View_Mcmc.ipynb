{
 "cells": [
  {
   "cell_type": "code",
   "execution_count": 1,
   "id": "001e7138",
   "metadata": {},
   "outputs": [],
   "source": [
    "import os \n",
    "import numpy as np\n",
    "import matplotlib.pyplot as plt\n",
    "import emcee\n",
    "import corner"
   ]
  },
  {
   "cell_type": "code",
   "execution_count": 2,
   "id": "79d66ac7",
   "metadata": {},
   "outputs": [],
   "source": [
    "folder = os.path.join('..', 'outputs', 'saved_run_20231122t153648')"
   ]
  },
  {
   "cell_type": "code",
   "execution_count": 3,
   "id": "a3cfe528",
   "metadata": {
    "scrolled": true
   },
   "outputs": [],
   "source": [
    "reader = emcee.backends.HDFBackend(os.path.join(folder, 'backend.hdf'))"
   ]
  },
  {
   "cell_type": "code",
   "execution_count": 4,
   "id": "4d766fbf",
   "metadata": {},
   "outputs": [],
   "source": [
    "chain = reader.get_chain()"
   ]
  },
  {
   "cell_type": "code",
   "execution_count": 5,
   "id": "824c15e4",
   "metadata": {},
   "outputs": [
    {
     "name": "stdout",
     "output_type": "stream",
     "text": [
      "(nstep, nwalker, ndim):  (3, 4, 2)\n"
     ]
    }
   ],
   "source": [
    "print(f\"(nstep, nwalker, ndim):  {chain.shape}\")"
   ]
  },
  {
   "cell_type": "code",
   "execution_count": 6,
   "id": "cc0634ff",
   "metadata": {},
   "outputs": [],
   "source": [
    "blobs = reader.get_blobs()"
   ]
  },
  {
   "cell_type": "code",
   "execution_count": 7,
   "id": "77c800e4",
   "metadata": {},
   "outputs": [
    {
     "name": "stdout",
     "output_type": "stream",
     "text": [
      "(3, 4, 1, 3)\n"
     ]
    }
   ],
   "source": [
    "print(blobs['int_time'].shape)"
   ]
  },
  {
   "cell_type": "code",
   "execution_count": 8,
   "id": "ade21a73",
   "metadata": {},
   "outputs": [
    {
     "name": "stdout",
     "output_type": "stream",
     "text": [
      "[[[[nan nan nan]]\n",
      "\n",
      "  [[nan nan nan]]\n",
      "\n",
      "  [[nan nan nan]]\n",
      "\n",
      "  [[nan nan nan]]]\n",
      "\n",
      "\n",
      " [[[nan nan nan]]\n",
      "\n",
      "  [[nan nan nan]]\n",
      "\n",
      "  [[nan nan nan]]\n",
      "\n",
      "  [[nan nan nan]]]\n",
      "\n",
      "\n",
      " [[[nan nan nan]]\n",
      "\n",
      "  [[nan nan nan]]\n",
      "\n",
      "  [[nan nan nan]]\n",
      "\n",
      "  [[nan nan nan]]]]\n"
     ]
    }
   ],
   "source": [
    "print(blobs['int_time'])"
   ]
  },
  {
   "cell_type": "code",
   "execution_count": 9,
   "id": "e10c1550",
   "metadata": {},
   "outputs": [],
   "source": [
    "# tau = reader.get_autocorr_time(tol=1)"
   ]
  },
  {
   "cell_type": "code",
   "execution_count": 10,
   "id": "1d850c27",
   "metadata": {},
   "outputs": [],
   "source": [
    "# acc_rate = reader.accepted/chain.shape[0]"
   ]
  },
  {
   "cell_type": "code",
   "execution_count": 11,
   "id": "2472a064",
   "metadata": {},
   "outputs": [],
   "source": [
    "# print(acc_rate.mean())"
   ]
  },
  {
   "cell_type": "code",
   "execution_count": 12,
   "id": "82c1a39b",
   "metadata": {},
   "outputs": [],
   "source": [
    "# print(tau.mean())\n",
    "# print(np.median(tau))"
   ]
  },
  {
   "cell_type": "code",
   "execution_count": 13,
   "id": "0c226c4a",
   "metadata": {},
   "outputs": [],
   "source": [
    "# print(tau)"
   ]
  },
  {
   "cell_type": "code",
   "execution_count": 14,
   "id": "070735f7",
   "metadata": {},
   "outputs": [],
   "source": [
    "# plt.plot(chain[:, :, 10])"
   ]
  },
  {
   "cell_type": "code",
   "execution_count": 15,
   "id": "b4059cc5",
   "metadata": {},
   "outputs": [],
   "source": [
    "# flat_chain = reader.get_chain(discard=225, flat=True)\n",
    "# print(flat_chain.shape)"
   ]
  },
  {
   "cell_type": "code",
   "execution_count": 16,
   "id": "874c1eca",
   "metadata": {},
   "outputs": [],
   "source": [
    "# labels = [\"idrk\", \"W11\", \"W12\", \"W21\", \"W22\", \"W31\", \"W32\", \"W41\", \"W42\", \"W51\", \"W52\", \"W61\", \"W62\"\n",
    "#           , \"C3\", \"C4\", \"C5\", \"T3\", \"T4\", \"T5\"]"
   ]
  },
  {
   "cell_type": "code",
   "execution_count": 17,
   "id": "4d0de9b6",
   "metadata": {},
   "outputs": [],
   "source": [
    "# for i in range(flat_chain.shape[1]):\n",
    "#     fig = corner.corner(flat_chain[:, i:i+1], labels=labels[i])"
   ]
  },
  {
   "cell_type": "code",
   "execution_count": 18,
   "id": "65f3708b",
   "metadata": {},
   "outputs": [],
   "source": [
    "# fig = corner.corner(flat_chain, labels=labels)"
   ]
  },
  {
   "cell_type": "code",
   "execution_count": null,
   "id": "453020fb",
   "metadata": {},
   "outputs": [],
   "source": []
  }
 ],
 "metadata": {
  "kernelspec": {
   "display_name": "Python 3 (ipykernel)",
   "language": "python",
   "name": "python3"
  },
  "language_info": {
   "codemirror_mode": {
    "name": "ipython",
    "version": 3
   },
   "file_extension": ".py",
   "mimetype": "text/x-python",
   "name": "python",
   "nbconvert_exporter": "python",
   "pygments_lexer": "ipython3",
   "version": "3.11.2"
  }
 },
 "nbformat": 4,
 "nbformat_minor": 5
}
