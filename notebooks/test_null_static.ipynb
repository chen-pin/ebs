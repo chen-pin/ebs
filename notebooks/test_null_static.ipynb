{
 "cells": [
  {
   "cell_type": "code",
   "execution_count": 1,
   "metadata": {},
   "outputs": [
    {
     "ename": "ModuleNotFoundError",
     "evalue": "No module named 'ebs'",
     "output_type": "error",
     "traceback": [
      "\u001b[0;31m---------------------------------------------------------------------------\u001b[0m",
      "\u001b[0;31mModuleNotFoundError\u001b[0m                       Traceback (most recent call last)",
      "\u001b[0;32m<ipython-input-1-1f0aeece8492>\u001b[0m in \u001b[0;36m<module>\u001b[0;34m\u001b[0m\n\u001b[1;32m      1\u001b[0m \u001b[0;32mimport\u001b[0m \u001b[0mos\u001b[0m\u001b[0;34m\u001b[0m\u001b[0;34m\u001b[0m\u001b[0m\n\u001b[1;32m      2\u001b[0m \u001b[0;32mimport\u001b[0m \u001b[0mnumpy\u001b[0m \u001b[0;32mas\u001b[0m \u001b[0mnp\u001b[0m\u001b[0;34m\u001b[0m\u001b[0;34m\u001b[0m\u001b[0m\n\u001b[0;32m----> 3\u001b[0;31m \u001b[0;32mfrom\u001b[0m \u001b[0mebs\u001b[0m \u001b[0;32mimport\u001b[0m \u001b[0merror_budget\u001b[0m \u001b[0;32mas\u001b[0m \u001b[0meb\u001b[0m\u001b[0;34m\u001b[0m\u001b[0;34m\u001b[0m\u001b[0m\n\u001b[0m",
      "\u001b[0;31mModuleNotFoundError\u001b[0m: No module named 'ebs'"
     ]
    }
   ],
   "source": [
    "import os\n",
    "import numpy as np\n",
    "from ebs import error_budget as eb"
   ]
  },
  {
   "cell_type": "code",
   "execution_count": 2,
   "metadata": {},
   "outputs": [],
   "source": [
    "ebo = eb.ErrorBudgetMcmc('../inputs/config_quick.yml')"
   ]
  },
  {
   "cell_type": "code",
   "execution_count": 3,
   "metadata": {},
   "outputs": [],
   "source": [
    "ebo.config['paths']['input'] = os.path.join('..', 'inputs')"
   ]
  },
  {
   "cell_type": "code",
   "execution_count": 4,
   "metadata": {},
   "outputs": [],
   "source": [
    "ebo.initialize_for_exosims()"
   ]
  },
  {
   "cell_type": "code",
   "execution_count": 5,
   "metadata": {},
   "outputs": [
    {
     "name": "stdout",
     "output_type": "stream",
     "text": [
      "[[5.00e-05 6.67e-05 2.00e-04 2.00e-04]\n",
      " [1.15e-02 3.82e-02 1.00e+00 1.00e+00]\n",
      " [1.15e-02 3.82e-02 1.00e+00 1.00e+00]\n",
      " [1.15e-02 1.92e-01 2.86e-01 1.00e+00]\n",
      " [5.71e-02 1.92e-01 2.86e-01 1.00e+00]\n",
      " [5.71e-02 1.92e-01 2.86e-01 1.00e+00]]\n"
     ]
    }
   ],
   "source": [
    "print(ebo.wfsc_factor)"
   ]
  },
  {
   "cell_type": "code",
   "execution_count": 6,
   "metadata": {},
   "outputs": [
    {
     "name": "stdout",
     "output_type": "stream",
     "text": [
      "[0.02908757 0.09955891 0.07345265 0.07345265 0.03672633 0.03672633]\n"
     ]
    }
   ],
   "source": [
    "print(ebo.ppFact)"
   ]
  },
  {
   "cell_type": "code",
   "execution_count": 7,
   "metadata": {},
   "outputs": [
    {
     "name": "stdout",
     "output_type": "stream",
     "text": [
      "idark: 3e-05\n",
      "Imported SurveySimulation (prototype) from EXOSIMS.Prototypes.SurveySimulation\n",
      "Numpy random seed is: 842732203\n",
      "Imported SimulatedUniverse (prototype) from EXOSIMS.Prototypes.SimulatedUniverse\n",
      "Imported TargetList (prototype) from EXOSIMS.Prototypes.TargetList\n",
      "Imported HWOMissionStars (implementation) from EXOSIMS.StarCatalog.HWOMissionStars\n",
      "Loaded data from /home/pinchen/.EXOSIMS/downloads/HWOStarList_20230523183444.pkl\n",
      "Imported Nemati (implementation) from EXOSIMS.OpticalSystem.Nemati\n",
      "Imported ZodiacalLight (prototype) from EXOSIMS.Prototypes.ZodiacalLight\n",
      "Imported PostProcessing (prototype) from EXOSIMS.Prototypes.PostProcessing\n",
      "Imported BackgroundSources (prototype) from EXOSIMS.Prototypes.BackgroundSources\n",
      "Imported Completeness (prototype) from EXOSIMS.Prototypes.Completeness\n",
      "Imported PlanetPopulation (prototype) from EXOSIMS.Prototypes.PlanetPopulation\n",
      "Imported PlanetPhysicalModel (prototype) from EXOSIMS.Prototypes.PlanetPhysicalModel\n",
      "Loaded star fluxes values from /home/pinchen/.EXOSIMS/cache/TargetList_HWOMissionStars_nStars_1_mode_5fe1d68b5d9c41176a24bb99fee478e0.star_fluxes\n",
      "Loaded intCutoff_dMag values from /home/pinchen/.EXOSIMS/cache/TargetList_HWOMissionStars_Nemati_ZodiacalLight_vals_b33e8e19fb04c1d2402304ea8878b1e7_mode_5fe1d68b5d9c41176a24bb99fee478e0.intCutoff_dMag\n",
      "Loaded intCutoff_comp values from /home/pinchen/.EXOSIMS/cache/TargetList_HWOMissionStars_Completeness_vals_f2be2d5cd2f0b7858a77dad24ff72eba.intCutoff_comp\n",
      "No planets were generated. Creating single fake planet.\n",
      "Imported Observatory (prototype) from EXOSIMS.Prototypes.Observatory\n",
      "Imported TimeKeeping (prototype) from EXOSIMS.Prototypes.TimeKeeping\n",
      "OBendTimes is: [36.525] d\n",
      "Loading cached keepout map file from /home/pinchen/.EXOSIMS/cache/koMap_84bbdc79d44541590648c6d6783c829d.komap\n",
      "Keepout Map loaded from cache.\n",
      "coronagraph-550\n",
      "Loading cached fZ from /home/pinchen/.EXOSIMS/cache/CompletenessTargetListNematicc10d2dc13f22f8e1b246c7cfa2027d9_1_coronagraph-550.starkfZ\n",
      "Loading cached fZmins from /home/pinchen/.EXOSIMS/cache/CompletenessTargetListNematicc10d2dc13f22f8e1b246c7cfa2027d9_1_coronagraph-550.fZmin\n",
      "Imported SurveyEnsemble (prototype) from EXOSIMS.Prototypes.SurveyEnsemble\n",
      "\n",
      "The following keywords are used in multiple inits (this is ok):\n",
      "\tcachedir\n",
      "\tmissionStart\n",
      "\n",
      "132 keywords were set to their default values.\n"
     ]
    },
    {
     "name": "stderr",
     "output_type": "stream",
     "text": [
      "/home/pinchen/EXOSIMS-master/EXOSIMS/Prototypes/OpticalSystem.py:1418: UserWarning: core_contrast has smaller OWA than current system value for coronagraph-550. Updating to match table, but you should check your inputs.\n",
      "  warnings.warn(\n",
      "/home/pinchen/EXOSIMS-master/EXOSIMS/MissionSim.py:265: UserWarning: \n",
      "The following outspec keywords were not used in any module init:\n",
      "\t  default_vals_extra (Nemati)\n",
      "\n",
      "  warnings.warn(warnstr)\n"
     ]
    }
   ],
   "source": [
    "etc = ebo.run_exosims()"
   ]
  },
  {
   "cell_type": "code",
   "execution_count": 8,
   "metadata": {},
   "outputs": [
    {
     "name": "stdout",
     "output_type": "stream",
     "text": [
      "[[ 1.43995596  4.09137641 10.27504984]] d\n",
      "5.2687940684271295 d\n",
      "0.18979675178280894 1 / d\n"
     ]
    }
   ],
   "source": [
    "print(etc[0])\n",
    "print(etc[0].mean())\n",
    "print(1/etc[0].mean())\n",
    "ebo.clean_files()"
   ]
  },
  {
   "cell_type": "code",
   "execution_count": 9,
   "metadata": {},
   "outputs": [
    {
     "name": "stdout",
     "output_type": "stream",
     "text": [
      "[[0.     0.     0.     0.    ]\n",
      " [0.0115 0.0382 1.     1.    ]\n",
      " [0.0115 0.0382 1.     1.    ]\n",
      " [0.0115 0.192  0.286  1.    ]\n",
      " [0.0571 0.192  0.286  1.    ]\n",
      " [0.0571 0.192  0.286  1.    ]]\n"
     ]
    }
   ],
   "source": [
    "ebo.wfsc_factor[0, :] = 0.0\n",
    "print(ebo.wfsc_factor)"
   ]
  },
  {
   "cell_type": "code",
   "execution_count": 10,
   "metadata": {},
   "outputs": [
    {
     "name": "stdout",
     "output_type": "stream",
     "text": [
      "[0.02655234 0.09089748 0.06704023 0.06704023 0.03352011 0.03352011]\n"
     ]
    }
   ],
   "source": [
    "print(ebo.ppFact)"
   ]
  },
  {
   "cell_type": "code",
   "execution_count": 11,
   "metadata": {},
   "outputs": [],
   "source": [
    "ebo.write_ppFact_fits()\n",
    "ebo.exosims_pars_dict['ppFact'] = ebo.ppFact_filename"
   ]
  },
  {
   "cell_type": "code",
   "execution_count": 12,
   "metadata": {},
   "outputs": [
    {
     "name": "stdout",
     "output_type": "stream",
     "text": [
      "idark: 3e-05\n",
      "Imported SurveySimulation (prototype) from EXOSIMS.Prototypes.SurveySimulation\n",
      "Numpy random seed is: 328629948\n",
      "Imported SimulatedUniverse (prototype) from EXOSIMS.Prototypes.SimulatedUniverse\n",
      "Imported TargetList (prototype) from EXOSIMS.Prototypes.TargetList\n",
      "Imported HWOMissionStars (implementation) from EXOSIMS.StarCatalog.HWOMissionStars\n",
      "Loaded data from /home/pinchen/.EXOSIMS/downloads/HWOStarList_20230523183444.pkl\n",
      "Imported Nemati (implementation) from EXOSIMS.OpticalSystem.Nemati\n",
      "Imported ZodiacalLight (prototype) from EXOSIMS.Prototypes.ZodiacalLight\n",
      "Imported PostProcessing (prototype) from EXOSIMS.Prototypes.PostProcessing\n",
      "Imported BackgroundSources (prototype) from EXOSIMS.Prototypes.BackgroundSources\n",
      "Imported Completeness (prototype) from EXOSIMS.Prototypes.Completeness\n",
      "Imported PlanetPopulation (prototype) from EXOSIMS.Prototypes.PlanetPopulation\n",
      "Imported PlanetPhysicalModel (prototype) from EXOSIMS.Prototypes.PlanetPhysicalModel\n",
      "Loaded star fluxes values from /home/pinchen/.EXOSIMS/cache/TargetList_HWOMissionStars_nStars_1_mode_5fe1d68b5d9c41176a24bb99fee478e0.star_fluxes\n",
      "Loaded intCutoff_dMag values from /home/pinchen/.EXOSIMS/cache/TargetList_HWOMissionStars_Nemati_ZodiacalLight_vals_b33e8e19fb04c1d2402304ea8878b1e7_mode_5fe1d68b5d9c41176a24bb99fee478e0.intCutoff_dMag\n",
      "Loaded intCutoff_comp values from /home/pinchen/.EXOSIMS/cache/TargetList_HWOMissionStars_Completeness_vals_f2be2d5cd2f0b7858a77dad24ff72eba.intCutoff_comp\n",
      "No planets were generated. Creating single fake planet.\n",
      "Imported Observatory (prototype) from EXOSIMS.Prototypes.Observatory\n",
      "Imported TimeKeeping (prototype) from EXOSIMS.Prototypes.TimeKeeping\n",
      "OBendTimes is: [36.525] d\n",
      "Loading cached keepout map file from /home/pinchen/.EXOSIMS/cache/koMap_84bbdc79d44541590648c6d6783c829d.komap\n",
      "Keepout Map loaded from cache.\n",
      "coronagraph-550\n",
      "Loading cached fZ from /home/pinchen/.EXOSIMS/cache/CompletenessTargetListNematicc10d2dc13f22f8e1b246c7cfa2027d9_1_coronagraph-550.starkfZ\n",
      "Loading cached fZmins from /home/pinchen/.EXOSIMS/cache/CompletenessTargetListNematicc10d2dc13f22f8e1b246c7cfa2027d9_1_coronagraph-550.fZmin\n",
      "Imported SurveyEnsemble (prototype) from EXOSIMS.Prototypes.SurveyEnsemble\n",
      "\n",
      "The following keywords are used in multiple inits (this is ok):\n",
      "\tcachedir\n",
      "\tmissionStart\n",
      "\n",
      "132 keywords were set to their default values.\n"
     ]
    },
    {
     "name": "stderr",
     "output_type": "stream",
     "text": [
      "/home/pinchen/EXOSIMS-master/EXOSIMS/Prototypes/OpticalSystem.py:1418: UserWarning: core_contrast has smaller OWA than current system value for coronagraph-550. Updating to match table, but you should check your inputs.\n",
      "  warnings.warn(\n",
      "/home/pinchen/EXOSIMS-master/EXOSIMS/MissionSim.py:265: UserWarning: \n",
      "The following outspec keywords were not used in any module init:\n",
      "\t  default_vals_extra (Nemati)\n",
      "\n",
      "  warnings.warn(warnstr)\n"
     ]
    }
   ],
   "source": [
    "etc = ebo.run_exosims()"
   ]
  },
  {
   "cell_type": "code",
   "execution_count": 13,
   "metadata": {},
   "outputs": [
    {
     "name": "stdout",
     "output_type": "stream",
     "text": [
      "[[1.26487113 3.45045867 9.95386675]] d\n",
      "4.889732184394616 d\n",
      "0.2045101781221188 1 / d\n"
     ]
    }
   ],
   "source": [
    "print(etc[0])\n",
    "print(etc[0].mean())\n",
    "print(1/etc[0].mean())\n",
    "ebo.clean_files()"
   ]
  },
  {
   "cell_type": "code",
   "execution_count": null,
   "metadata": {},
   "outputs": [],
   "source": []
  }
 ],
 "metadata": {
  "kernelspec": {
   "display_name": "Python 3",
   "language": "python",
   "name": "python3"
  },
  "language_info": {
   "codemirror_mode": {
    "name": "ipython",
    "version": 3
   },
   "file_extension": ".py",
   "mimetype": "text/x-python",
   "name": "python",
   "nbconvert_exporter": "python",
   "pygments_lexer": "ipython3",
   "version": "3.7.4"
  }
 },
 "nbformat": 4,
 "nbformat_minor": 5
}
