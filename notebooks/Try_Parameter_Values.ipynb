{
 "cells": [
  {
   "cell_type": "code",
   "execution_count": 1,
   "id": "b1f3ca10",
   "metadata": {},
   "outputs": [],
   "source": [
    "import os\n",
    "import numpy as np\n",
    "from ebs import error_budget as eb"
   ]
  },
  {
   "cell_type": "code",
   "execution_count": 2,
   "id": "df652006",
   "metadata": {},
   "outputs": [],
   "source": [
    "ebo = eb.ErrorBudgetMcmc('../inputs/config_quick.yml')"
   ]
  },
  {
   "cell_type": "code",
   "execution_count": 3,
   "id": "01a9adb5",
   "metadata": {},
   "outputs": [],
   "source": [
    "ebo.config['paths']['input'] = os.path.join('..', 'inputs')"
   ]
  },
  {
   "cell_type": "code",
   "execution_count": 4,
   "id": "d9f0609a",
   "metadata": {},
   "outputs": [],
   "source": [
    "ebo.initialize_for_exosims()"
   ]
  },
  {
   "cell_type": "code",
   "execution_count": 5,
   "id": "7db6db0e",
   "metadata": {},
   "outputs": [],
   "source": [
    "states = ebo.initialize_walkers()"
   ]
  },
  {
   "cell_type": "code",
   "execution_count": 6,
   "id": "a626b7da",
   "metadata": {},
   "outputs": [
    {
     "name": "stdout",
     "output_type": "stream",
     "text": [
      "[0.14956786 0.14997289 0.14965077]\n"
     ]
    }
   ],
   "source": [
    "print(states[0])"
   ]
  },
  {
   "cell_type": "code",
   "execution_count": 7,
   "id": "6ac52d9c",
   "metadata": {},
   "outputs": [],
   "source": [
    "ebo.update_attributes(states[0])"
   ]
  },
  {
   "cell_type": "code",
   "execution_count": 8,
   "id": "c0cd112c",
   "metadata": {},
   "outputs": [
    {
     "name": "stdout",
     "output_type": "stream",
     "text": [
      "idark: 3e-05\n",
      "Imported SurveySimulation (prototype) from EXOSIMS.Prototypes.SurveySimulation\n",
      "Numpy random seed is: 386839156\n",
      "Imported SimulatedUniverse (prototype) from EXOSIMS.Prototypes.SimulatedUniverse\n"
     ]
    },
    {
     "name": "stderr",
     "output_type": "stream",
     "text": [
      "/home/pinchen/EXOSIMS-master/EXOSIMS/Prototypes/OpticalSystem.py:1418: UserWarning: core_contrast has smaller OWA than current system value for coronagraph-550. Updating to match table, but you should check your inputs.\n",
      "  warnings.warn(\n"
     ]
    },
    {
     "name": "stdout",
     "output_type": "stream",
     "text": [
      "Imported TargetList (prototype) from EXOSIMS.Prototypes.TargetList\n",
      "Imported HWOMissionStars (implementation) from EXOSIMS.StarCatalog.HWOMissionStars\n",
      "Loaded data from /home/pinchen/.EXOSIMS/downloads/HWOStarList_20230523183444.pkl\n",
      "Imported Nemati (implementation) from EXOSIMS.OpticalSystem.Nemati\n",
      "Imported ZodiacalLight (prototype) from EXOSIMS.Prototypes.ZodiacalLight\n",
      "Imported PostProcessing (prototype) from EXOSIMS.Prototypes.PostProcessing\n",
      "Imported BackgroundSources (prototype) from EXOSIMS.Prototypes.BackgroundSources\n",
      "Imported Completeness (prototype) from EXOSIMS.Prototypes.Completeness\n",
      "Imported PlanetPopulation (prototype) from EXOSIMS.Prototypes.PlanetPopulation\n",
      "Imported PlanetPhysicalModel (prototype) from EXOSIMS.Prototypes.PlanetPhysicalModel\n",
      "Star fluxes stored in /home/pinchen/.EXOSIMS/cache/TargetList_HWOMissionStars_nStars_1_mode_710a08a0b0e6cb3f36fe2d4d8caf7fac.star_fluxes\n",
      "Calculating intCutoff_dMag\n",
      "intCutoff_dMag values stored in /home/pinchen/.EXOSIMS/cache/TargetList_HWOMissionStars_Nemati_ZodiacalLight_vals_b33e8e19fb04c1d2402304ea8878b1e7_mode_710a08a0b0e6cb3f36fe2d4d8caf7fac.intCutoff_dMag\n",
      "Calculating the integration cutoff time completeness\n",
      "intCutoff_comp values stored in /home/pinchen/.EXOSIMS/cache/TargetList_HWOMissionStars_Completeness_vals_e2ea50805c3bca1cc2c29a191687bc77.intCutoff_comp\n",
      "No planets were generated. Creating single fake planet.\n",
      "Imported Observatory (prototype) from EXOSIMS.Prototypes.Observatory\n",
      "Imported TimeKeeping (prototype) from EXOSIMS.Prototypes.TimeKeeping\n",
      "OBendTimes is: [36.525] d\n",
      "Loading cached keepout map file from /home/pinchen/.EXOSIMS/cache/koMap_84bbdc79d44541590648c6d6783c829d.komap\n",
      "Keepout Map loaded from cache.\n",
      "coronagraph-550\n",
      "Loading cached fZ from /home/pinchen/.EXOSIMS/cache/CompletenessTargetListNematicc10d2dc13f22f8e1b246c7cfa2027d9_1_coronagraph-550.starkfZ\n",
      "Loading cached fZmins from /home/pinchen/.EXOSIMS/cache/CompletenessTargetListNematicc10d2dc13f22f8e1b246c7cfa2027d9_1_coronagraph-550.fZmin\n",
      "Imported SurveyEnsemble (prototype) from EXOSIMS.Prototypes.SurveyEnsemble\n",
      "\n",
      "The following keywords are used in multiple inits (this is ok):\n",
      "\tcachedir\n",
      "\tmissionStart\n",
      "\n",
      "132 keywords were set to their default values.\n"
     ]
    },
    {
     "name": "stderr",
     "output_type": "stream",
     "text": [
      "/home/pinchen/EXOSIMS-master/EXOSIMS/MissionSim.py:265: UserWarning: \n",
      "The following outspec keywords were not used in any module init:\n",
      "\t  default_vals_extra (Nemati)\n",
      "\n",
      "  warnings.warn(warnstr)\n"
     ]
    }
   ],
   "source": [
    "etc = ebo.run_exosims()"
   ]
  },
  {
   "cell_type": "code",
   "execution_count": 9,
   "id": "ecedcec6",
   "metadata": {},
   "outputs": [
    {
     "name": "stdout",
     "output_type": "stream",
     "text": [
      "[[ 1.44538092  4.0970549  10.30080617]] d\n",
      "5.281080662374938 d\n",
      "0.18935518389720887 1 / d\n"
     ]
    }
   ],
   "source": [
    "print(etc[0])\n",
    "print(etc[0].mean())\n",
    "print(1/etc[0].mean())\n",
    "ebo.clean_files()"
   ]
  },
  {
   "cell_type": "code",
   "execution_count": 10,
   "id": "e72d76d8",
   "metadata": {
    "scrolled": true
   },
   "outputs": [
    {
     "name": "stdout",
     "output_type": "stream",
     "text": [
      "idark: 3e-05\n",
      "Imported SurveySimulation (prototype) from EXOSIMS.Prototypes.SurveySimulation\n",
      "Numpy random seed is: 835617970\n",
      "Imported SimulatedUniverse (prototype) from EXOSIMS.Prototypes.SimulatedUniverse\n",
      "Imported TargetList (prototype) from EXOSIMS.Prototypes.TargetList\n",
      "Imported HWOMissionStars (implementation) from EXOSIMS.StarCatalog.HWOMissionStars\n",
      "Loaded data from /home/pinchen/.EXOSIMS/downloads/HWOStarList_20230523183444.pkl\n",
      "Imported Nemati (implementation) from EXOSIMS.OpticalSystem.Nemati\n"
     ]
    },
    {
     "name": "stderr",
     "output_type": "stream",
     "text": [
      "/home/pinchen/EXOSIMS-master/EXOSIMS/Prototypes/OpticalSystem.py:1418: UserWarning: core_contrast has smaller OWA than current system value for coronagraph-550. Updating to match table, but you should check your inputs.\n",
      "  warnings.warn(\n"
     ]
    },
    {
     "name": "stdout",
     "output_type": "stream",
     "text": [
      "Imported ZodiacalLight (prototype) from EXOSIMS.Prototypes.ZodiacalLight\n",
      "Imported PostProcessing (prototype) from EXOSIMS.Prototypes.PostProcessing\n"
     ]
    },
    {
     "ename": "AssertionError",
     "evalue": "../inputs/ppFact_892416206.fits is not a valid file.",
     "output_type": "error",
     "traceback": [
      "\u001b[0;31m---------------------------------------------------------------------------\u001b[0m",
      "\u001b[0;31mAssertionError\u001b[0m                            Traceback (most recent call last)",
      "Cell \u001b[0;32mIn[10], line 1\u001b[0m\n\u001b[0;32m----> 1\u001b[0m lm \u001b[38;5;241m=\u001b[39m ebo\u001b[38;5;241m.\u001b[39mlog_merit(states[\u001b[38;5;241m0\u001b[39m])\n\u001b[1;32m      2\u001b[0m ebo\u001b[38;5;241m.\u001b[39mclean_files()\n",
      "File \u001b[0;32m~/anaconda3/envs/exosims/lib/python3.11/site-packages/ebs-0.5-py3.11.egg/ebs/error_budget.py:689\u001b[0m, in \u001b[0;36mErrorBudgetMcmc.log_merit\u001b[0;34m(self, values)\u001b[0m\n\u001b[1;32m    686\u001b[0m \u001b[38;5;28;01mdef\u001b[39;00m \u001b[38;5;21mlog_merit\u001b[39m(\u001b[38;5;28mself\u001b[39m, values):\n\u001b[1;32m    687\u001b[0m     \u001b[38;5;28mself\u001b[39m\u001b[38;5;241m.\u001b[39mupdate_attributes(values)\n\u001b[1;32m    688\u001b[0m     int_time, C_p, C_b, C_sp, C_sr, C_z, C_ez, C_dc, C_rn, C_star \\\n\u001b[0;32m--> 689\u001b[0m             \u001b[38;5;241m=\u001b[39m \u001b[38;5;28mself\u001b[39m\u001b[38;5;241m.\u001b[39mrun_exosims()\n\u001b[1;32m    690\u001b[0m     \u001b[38;5;28;01mif\u001b[39;00m np\u001b[38;5;241m.\u001b[39misnan(int_time\u001b[38;5;241m.\u001b[39mvalue)\u001b[38;5;241m.\u001b[39many():\n\u001b[1;32m    691\u001b[0m         \u001b[38;5;28;01mreturn\u001b[39;00m \u001b[38;5;241m-\u001b[39mnp\u001b[38;5;241m.\u001b[39minf, int_time, C_p, C_b, C_sp, C_sr, C_z, C_ez, C_dc\\\n\u001b[1;32m    692\u001b[0m                , C_rn, C_star\n",
      "File \u001b[0;32m~/anaconda3/envs/exosims/lib/python3.11/site-packages/ebs-0.5-py3.11.egg/ebs/error_budget.py:766\u001b[0m, in \u001b[0;36mErrorBudgetMcmc.run_exosims\u001b[0;34m(self, file_cleanup)\u001b[0m\n\u001b[1;32m    764\u001b[0m \u001b[38;5;66;03m#        print(f\"exosims_pars_dict: {self.exosims_pars_dict}\")\u001b[39;00m\n\u001b[1;32m    765\u001b[0m         \u001b[38;5;28mprint\u001b[39m(\u001b[38;5;124mf\u001b[39m\u001b[38;5;124m\"\u001b[39m\u001b[38;5;124midark: \u001b[39m\u001b[38;5;132;01m{\u001b[39;00m\u001b[38;5;28mself\u001b[39m\u001b[38;5;241m.\u001b[39mexosims_pars_dict[\u001b[38;5;124m'\u001b[39m\u001b[38;5;124mscienceInstruments\u001b[39m\u001b[38;5;124m'\u001b[39m][\u001b[38;5;241m0\u001b[39m][\u001b[38;5;124m'\u001b[39m\u001b[38;5;124midark\u001b[39m\u001b[38;5;124m'\u001b[39m]\u001b[38;5;132;01m}\u001b[39;00m\u001b[38;5;124m\"\u001b[39m)\n\u001b[0;32m--> 766\u001b[0m         sim \u001b[38;5;241m=\u001b[39m ems\u001b[38;5;241m.\u001b[39mMissionSim(use_core_thruput_for_ez\u001b[38;5;241m=\u001b[39m\u001b[38;5;28;01mFalse\u001b[39;00m\n\u001b[1;32m    767\u001b[0m                              , \u001b[38;5;241m*\u001b[39m\u001b[38;5;241m*\u001b[39mdeepcopy(\u001b[38;5;28mself\u001b[39m\u001b[38;5;241m.\u001b[39mexosims_pars_dict))\n\u001b[1;32m    769\u001b[0m         \u001b[38;5;66;03m# identify targets of interest\u001b[39;00m\n\u001b[1;32m    770\u001b[0m         sInds \u001b[38;5;241m=\u001b[39m np\u001b[38;5;241m.\u001b[39marray([np\u001b[38;5;241m.\u001b[39mwhere(sim\u001b[38;5;241m.\u001b[39mTargetList\u001b[38;5;241m.\u001b[39mName \u001b[38;5;241m==\u001b[39m t)[\u001b[38;5;241m0\u001b[39m][\u001b[38;5;241m0\u001b[39m] \u001b[38;5;28;01mfor\u001b[39;00m t \n\u001b[1;32m    771\u001b[0m                          \u001b[38;5;129;01min\u001b[39;00m target_list])\n",
      "File \u001b[0;32m~/EXOSIMS-master/EXOSIMS/MissionSim.py:165\u001b[0m, in \u001b[0;36mMissionSim.__init__\u001b[0;34m(self, scriptfile, nopar, verbose, logfile, loglevel, checkInputs, **specs)\u001b[0m\n\u001b[1;32m    162\u001b[0m         \u001b[38;5;28mself\u001b[39m\u001b[38;5;241m.\u001b[39m_outspec[att] \u001b[38;5;241m=\u001b[39m \u001b[38;5;28mself\u001b[39m\u001b[38;5;241m.\u001b[39m\u001b[38;5;18m__dict__\u001b[39m[att]\n\u001b[1;32m    164\u001b[0m \u001b[38;5;66;03m# create a surveysimulation object (triggering init of everything else)\u001b[39;00m\n\u001b[0;32m--> 165\u001b[0m \u001b[38;5;28mself\u001b[39m\u001b[38;5;241m.\u001b[39mSurveySimulation \u001b[38;5;241m=\u001b[39m get_module(\n\u001b[1;32m    166\u001b[0m     specs[\u001b[38;5;124m\"\u001b[39m\u001b[38;5;124mmodules\u001b[39m\u001b[38;5;124m\"\u001b[39m][\u001b[38;5;124m\"\u001b[39m\u001b[38;5;124mSurveySimulation\u001b[39m\u001b[38;5;124m\"\u001b[39m], \u001b[38;5;124m\"\u001b[39m\u001b[38;5;124mSurveySimulation\u001b[39m\u001b[38;5;124m\"\u001b[39m\n\u001b[1;32m    167\u001b[0m )(\u001b[38;5;241m*\u001b[39m\u001b[38;5;241m*\u001b[39mspecs)\n\u001b[1;32m    169\u001b[0m \u001b[38;5;66;03m# collect sub-initializations\u001b[39;00m\n\u001b[1;32m    170\u001b[0m SS \u001b[38;5;241m=\u001b[39m \u001b[38;5;28mself\u001b[39m\u001b[38;5;241m.\u001b[39mSurveySimulation\n",
      "File \u001b[0;32m~/EXOSIMS-master/EXOSIMS/Prototypes/SurveySimulation.py:245\u001b[0m, in \u001b[0;36mSurveySimulation.__init__\u001b[0;34m(self, scriptfile, ntFlux, nVisitsMax, charMargin, dt_max, record_counts_path, nokoMap, nofZ, cachedir, defaultAddExoplanetObsTime, find_known_RV, include_known_RV, **specs)\u001b[0m\n\u001b[1;32m    240\u001b[0m \u001b[38;5;66;03m# if any of the modules is a string, assume that they are all strings\u001b[39;00m\n\u001b[1;32m    241\u001b[0m \u001b[38;5;66;03m# and we need to initalize\u001b[39;00m\n\u001b[1;32m    242\u001b[0m \u001b[38;5;28;01mif\u001b[39;00m \u001b[38;5;28misinstance\u001b[39m(\u001b[38;5;28mnext\u001b[39m(\u001b[38;5;28miter\u001b[39m(specs[\u001b[38;5;124m\"\u001b[39m\u001b[38;5;124mmodules\u001b[39m\u001b[38;5;124m\"\u001b[39m]\u001b[38;5;241m.\u001b[39mvalues())), \u001b[38;5;28mstr\u001b[39m):\n\u001b[1;32m    243\u001b[0m \n\u001b[1;32m    244\u001b[0m     \u001b[38;5;66;03m# import desired module names (prototype or specific)\u001b[39;00m\n\u001b[0;32m--> 245\u001b[0m     \u001b[38;5;28mself\u001b[39m\u001b[38;5;241m.\u001b[39mSimulatedUniverse \u001b[38;5;241m=\u001b[39m get_module(\n\u001b[1;32m    246\u001b[0m         specs[\u001b[38;5;124m\"\u001b[39m\u001b[38;5;124mmodules\u001b[39m\u001b[38;5;124m\"\u001b[39m][\u001b[38;5;124m\"\u001b[39m\u001b[38;5;124mSimulatedUniverse\u001b[39m\u001b[38;5;124m\"\u001b[39m], \u001b[38;5;124m\"\u001b[39m\u001b[38;5;124mSimulatedUniverse\u001b[39m\u001b[38;5;124m\"\u001b[39m\n\u001b[1;32m    247\u001b[0m     )(\u001b[38;5;241m*\u001b[39m\u001b[38;5;241m*\u001b[39mspecs)\n\u001b[1;32m    248\u001b[0m     \u001b[38;5;28mself\u001b[39m\u001b[38;5;241m.\u001b[39mObservatory \u001b[38;5;241m=\u001b[39m get_module(\n\u001b[1;32m    249\u001b[0m         specs[\u001b[38;5;124m\"\u001b[39m\u001b[38;5;124mmodules\u001b[39m\u001b[38;5;124m\"\u001b[39m][\u001b[38;5;124m\"\u001b[39m\u001b[38;5;124mObservatory\u001b[39m\u001b[38;5;124m\"\u001b[39m], \u001b[38;5;124m\"\u001b[39m\u001b[38;5;124mObservatory\u001b[39m\u001b[38;5;124m\"\u001b[39m\n\u001b[1;32m    250\u001b[0m     )(\u001b[38;5;241m*\u001b[39m\u001b[38;5;241m*\u001b[39mspecs)\n\u001b[1;32m    251\u001b[0m     \u001b[38;5;28mself\u001b[39m\u001b[38;5;241m.\u001b[39mTimeKeeping \u001b[38;5;241m=\u001b[39m get_module(\n\u001b[1;32m    252\u001b[0m         specs[\u001b[38;5;124m\"\u001b[39m\u001b[38;5;124mmodules\u001b[39m\u001b[38;5;124m\"\u001b[39m][\u001b[38;5;124m\"\u001b[39m\u001b[38;5;124mTimeKeeping\u001b[39m\u001b[38;5;124m\"\u001b[39m], \u001b[38;5;124m\"\u001b[39m\u001b[38;5;124mTimeKeeping\u001b[39m\u001b[38;5;124m\"\u001b[39m\n\u001b[1;32m    253\u001b[0m     )(\u001b[38;5;241m*\u001b[39m\u001b[38;5;241m*\u001b[39mspecs)\n",
      "File \u001b[0;32m~/EXOSIMS-master/EXOSIMS/Prototypes/SimulatedUniverse.py:208\u001b[0m, in \u001b[0;36mSimulatedUniverse.__init__\u001b[0;34m(self, fixedPlanPerStar, Min, cachedir, lucky_planets, commonSystemPlane, commonSystemPlaneParams, **specs)\u001b[0m\n\u001b[1;32m    202\u001b[0m     \u001b[38;5;28;01massert\u001b[39;00m \u001b[38;5;129;01mnot\u001b[39;00m (val), (\n\u001b[1;32m    203\u001b[0m         \u001b[38;5;124m\"\u001b[39m\u001b[38;5;124mKnownRVPlanetsTargetList or KnownRVPlanets should not be used \u001b[39m\u001b[38;5;124m\"\u001b[39m\n\u001b[1;32m    204\u001b[0m         \u001b[38;5;124m\"\u001b[39m\u001b[38;5;124mwith this SimulatedUniverse\u001b[39m\u001b[38;5;124m\"\u001b[39m\n\u001b[1;32m    205\u001b[0m     )\n\u001b[1;32m    207\u001b[0m \u001b[38;5;66;03m# import TargetList class\u001b[39;00m\n\u001b[0;32m--> 208\u001b[0m \u001b[38;5;28mself\u001b[39m\u001b[38;5;241m.\u001b[39mTargetList \u001b[38;5;241m=\u001b[39m get_module(specs[\u001b[38;5;124m\"\u001b[39m\u001b[38;5;124mmodules\u001b[39m\u001b[38;5;124m\"\u001b[39m][\u001b[38;5;124m\"\u001b[39m\u001b[38;5;124mTargetList\u001b[39m\u001b[38;5;124m\"\u001b[39m], \u001b[38;5;124m\"\u001b[39m\u001b[38;5;124mTargetList\u001b[39m\u001b[38;5;124m\"\u001b[39m)(\n\u001b[1;32m    209\u001b[0m     \u001b[38;5;241m*\u001b[39m\u001b[38;5;241m*\u001b[39mspecs\n\u001b[1;32m    210\u001b[0m )\n\u001b[1;32m    212\u001b[0m \u001b[38;5;66;03m# bring inherited class objects to top level of Simulated Universe\u001b[39;00m\n\u001b[1;32m    213\u001b[0m TL \u001b[38;5;241m=\u001b[39m \u001b[38;5;28mself\u001b[39m\u001b[38;5;241m.\u001b[39mTargetList\n",
      "File \u001b[0;32m~/EXOSIMS-master/EXOSIMS/Prototypes/TargetList.py:389\u001b[0m, in \u001b[0;36mTargetList.__init__\u001b[0;34m(self, missionStart, staticStars, keepStarCatalog, fillPhotometry, fillMissingBandMags, explainFiltering, filterBinaries, cachedir, filter_for_char, earths_only, getKnownPlanets, int_WA, int_dMag, scaleWAdMag, popStars, cherryPickStars, skipSaturationCalcs, **specs)\u001b[0m\n\u001b[1;32m    383\u001b[0m \u001b[38;5;28mself\u001b[39m\u001b[38;5;241m.\u001b[39mOpticalSystem \u001b[38;5;241m=\u001b[39m get_module(\n\u001b[1;32m    384\u001b[0m     specs[\u001b[38;5;124m\"\u001b[39m\u001b[38;5;124mmodules\u001b[39m\u001b[38;5;124m\"\u001b[39m][\u001b[38;5;124m\"\u001b[39m\u001b[38;5;124mOpticalSystem\u001b[39m\u001b[38;5;124m\"\u001b[39m], \u001b[38;5;124m\"\u001b[39m\u001b[38;5;124mOpticalSystem\u001b[39m\u001b[38;5;124m\"\u001b[39m\n\u001b[1;32m    385\u001b[0m )(\u001b[38;5;241m*\u001b[39m\u001b[38;5;241m*\u001b[39mspecs)\n\u001b[1;32m    386\u001b[0m \u001b[38;5;28mself\u001b[39m\u001b[38;5;241m.\u001b[39mZodiacalLight \u001b[38;5;241m=\u001b[39m get_module(\n\u001b[1;32m    387\u001b[0m     specs[\u001b[38;5;124m\"\u001b[39m\u001b[38;5;124mmodules\u001b[39m\u001b[38;5;124m\"\u001b[39m][\u001b[38;5;124m\"\u001b[39m\u001b[38;5;124mZodiacalLight\u001b[39m\u001b[38;5;124m\"\u001b[39m], \u001b[38;5;124m\"\u001b[39m\u001b[38;5;124mZodiacalLight\u001b[39m\u001b[38;5;124m\"\u001b[39m\n\u001b[1;32m    388\u001b[0m )(\u001b[38;5;241m*\u001b[39m\u001b[38;5;241m*\u001b[39mspecs)\n\u001b[0;32m--> 389\u001b[0m \u001b[38;5;28mself\u001b[39m\u001b[38;5;241m.\u001b[39mPostProcessing \u001b[38;5;241m=\u001b[39m get_module(\n\u001b[1;32m    390\u001b[0m     specs[\u001b[38;5;124m\"\u001b[39m\u001b[38;5;124mmodules\u001b[39m\u001b[38;5;124m\"\u001b[39m][\u001b[38;5;124m\"\u001b[39m\u001b[38;5;124mPostProcessing\u001b[39m\u001b[38;5;124m\"\u001b[39m], \u001b[38;5;124m\"\u001b[39m\u001b[38;5;124mPostProcessing\u001b[39m\u001b[38;5;124m\"\u001b[39m\n\u001b[1;32m    391\u001b[0m )(\u001b[38;5;241m*\u001b[39m\u001b[38;5;241m*\u001b[39mspecs)\n\u001b[1;32m    392\u001b[0m \u001b[38;5;28mself\u001b[39m\u001b[38;5;241m.\u001b[39mCompleteness \u001b[38;5;241m=\u001b[39m get_module(\n\u001b[1;32m    393\u001b[0m     specs[\u001b[38;5;124m\"\u001b[39m\u001b[38;5;124mmodules\u001b[39m\u001b[38;5;124m\"\u001b[39m][\u001b[38;5;124m\"\u001b[39m\u001b[38;5;124mCompleteness\u001b[39m\u001b[38;5;124m\"\u001b[39m], \u001b[38;5;124m\"\u001b[39m\u001b[38;5;124mCompleteness\u001b[39m\u001b[38;5;124m\"\u001b[39m\n\u001b[1;32m    394\u001b[0m )(\u001b[38;5;241m*\u001b[39m\u001b[38;5;241m*\u001b[39mspecs)\n\u001b[1;32m    396\u001b[0m \u001b[38;5;66;03m# bring inherited class objects to top level of Simulated Universe\u001b[39;00m\n",
      "File \u001b[0;32m~/EXOSIMS-master/EXOSIMS/Prototypes/PostProcessing.py:94\u001b[0m, in \u001b[0;36mPostProcessing.__init__\u001b[0;34m(self, FAP, MDP, ppFact, ppFact_char, FAdMag0, cachedir, **specs)\u001b[0m\n\u001b[1;32m     92\u001b[0m \u001b[38;5;28;01mif\u001b[39;00m \u001b[38;5;28misinstance\u001b[39m(ppFact, \u001b[38;5;28mstr\u001b[39m):\n\u001b[1;32m     93\u001b[0m     pth \u001b[38;5;241m=\u001b[39m os\u001b[38;5;241m.\u001b[39mpath\u001b[38;5;241m.\u001b[39mnormpath(os\u001b[38;5;241m.\u001b[39mpath\u001b[38;5;241m.\u001b[39mexpandvars(ppFact))\n\u001b[0;32m---> 94\u001b[0m     \u001b[38;5;28;01massert\u001b[39;00m os\u001b[38;5;241m.\u001b[39mpath\u001b[38;5;241m.\u001b[39misfile(pth), \u001b[38;5;124m\"\u001b[39m\u001b[38;5;132;01m%s\u001b[39;00m\u001b[38;5;124m is not a valid file.\u001b[39m\u001b[38;5;124m\"\u001b[39m \u001b[38;5;241m%\u001b[39m pth\n\u001b[1;32m     95\u001b[0m     \u001b[38;5;28;01mwith\u001b[39;00m fits\u001b[38;5;241m.\u001b[39mopen(pth) \u001b[38;5;28;01mas\u001b[39;00m ff:\n\u001b[1;32m     96\u001b[0m         dat \u001b[38;5;241m=\u001b[39m ff[\u001b[38;5;241m0\u001b[39m]\u001b[38;5;241m.\u001b[39mdata\n",
      "\u001b[0;31mAssertionError\u001b[0m: ../inputs/ppFact_892416206.fits is not a valid file."
     ]
    }
   ],
   "source": [
    "lm = ebo.log_merit(states[0])\n",
    "ebo.clean_files()"
   ]
  },
  {
   "cell_type": "code",
   "execution_count": 11,
   "id": "d367c1a0",
   "metadata": {},
   "outputs": [
    {
     "ename": "NameError",
     "evalue": "name 'lm' is not defined",
     "output_type": "error",
     "traceback": [
      "\u001b[0;31m---------------------------------------------------------------------------\u001b[0m",
      "\u001b[0;31mNameError\u001b[0m                                 Traceback (most recent call last)",
      "Cell \u001b[0;32mIn[11], line 1\u001b[0m\n\u001b[0;32m----> 1\u001b[0m \u001b[38;5;28mprint\u001b[39m(lm)\n\u001b[1;32m      2\u001b[0m \u001b[38;5;28mprint\u001b[39m(np\u001b[38;5;241m.\u001b[39mexp(lm))\n",
      "\u001b[0;31mNameError\u001b[0m: name 'lm' is not defined"
     ]
    }
   ],
   "source": [
    "print(lm)\n",
    "print(np.exp(lm))"
   ]
  },
  {
   "cell_type": "code",
   "execution_count": 12,
   "id": "835f8a49",
   "metadata": {},
   "outputs": [
    {
     "data": {
      "text/plain": [
       "['BW',\n",
       " 'CIC',\n",
       " 'ENF',\n",
       " 'FoV',\n",
       " 'IWA',\n",
       " 'QE',\n",
       " 'Rs',\n",
       " 'SNR',\n",
       " '__class__',\n",
       " '__delattr__',\n",
       " '__dict__',\n",
       " '__dir__',\n",
       " '__doc__',\n",
       " '__eq__',\n",
       " '__format__',\n",
       " '__ge__',\n",
       " '__getattribute__',\n",
       " '__getstate__',\n",
       " '__gt__',\n",
       " '__hash__',\n",
       " '__init__',\n",
       " '__init_subclass__',\n",
       " '__le__',\n",
       " '__lt__',\n",
       " '__module__',\n",
       " '__ne__',\n",
       " '__new__',\n",
       " '__reduce__',\n",
       " '__reduce_ex__',\n",
       " '__repr__',\n",
       " '__setattr__',\n",
       " '__sizeof__',\n",
       " '__str__',\n",
       " '__subclasshook__',\n",
       " '__weakref__',\n",
       " 'angles',\n",
       " 'clean_files',\n",
       " 'config',\n",
       " 'config_file',\n",
       " 'contrast',\n",
       " 'contrast_filename',\n",
       " 'delta_contrast',\n",
       " 'eeid',\n",
       " 'eepsr',\n",
       " 'exo_zodi',\n",
       " 'exosims_pars_dict',\n",
       " 'idark',\n",
       " 'initialize_for_exosims',\n",
       " 'initialize_walkers',\n",
       " 'lensSamp',\n",
       " 'log_merit',\n",
       " 'log_prior',\n",
       " 'name',\n",
       " 'optics',\n",
       " 'pixelNumber',\n",
       " 'pixelScale',\n",
       " 'pixelSize',\n",
       " 'post_wfsc_wfe',\n",
       " 'ppFact',\n",
       " 'ppFact_filename',\n",
       " 'run_exosims',\n",
       " 'run_mcmc',\n",
       " 'sensitivity',\n",
       " 'sread',\n",
       " 'target_list',\n",
       " 'texp',\n",
       " 'throughput',\n",
       " 'throughput_filename',\n",
       " 'trash_can',\n",
       " 'update_attributes',\n",
       " 'wfe',\n",
       " 'wfsc_factor',\n",
       " 'write_csv',\n",
       " 'write_ppFact_fits']"
      ]
     },
     "execution_count": 12,
     "metadata": {},
     "output_type": "execute_result"
    }
   ],
   "source": [
    "dir(ebo)"
   ]
  },
  {
   "cell_type": "code",
   "execution_count": null,
   "id": "5d8f99d7",
   "metadata": {},
   "outputs": [],
   "source": []
  }
 ],
 "metadata": {
  "kernelspec": {
   "display_name": "Python 3 (ipykernel)",
   "language": "python",
   "name": "python3"
  },
  "language_info": {
   "codemirror_mode": {
    "name": "ipython",
    "version": 3
   },
   "file_extension": ".py",
   "mimetype": "text/x-python",
   "name": "python",
   "nbconvert_exporter": "python",
   "pygments_lexer": "ipython3",
   "version": "3.11.2"
  }
 },
 "nbformat": 4,
 "nbformat_minor": 5
}
