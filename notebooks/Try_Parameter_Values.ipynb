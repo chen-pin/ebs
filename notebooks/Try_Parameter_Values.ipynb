{
 "cells": [
  {
   "cell_type": "code",
   "execution_count": 1,
   "id": "b1f3ca10",
   "metadata": {},
   "outputs": [],
   "source": [
    "import numpy as np\n",
    "from ebs import error_budget as eb"
   ]
  },
  {
   "cell_type": "code",
   "execution_count": 2,
   "id": "c1678a43",
   "metadata": {},
   "outputs": [
    {
     "data": {
      "text/plain": [
       "['ErrorBudget',\n",
       " 'ErrorBudgetMcmc',\n",
       " 'ParameterSweep',\n",
       " 'Pool',\n",
       " '__builtins__',\n",
       " '__cached__',\n",
       " '__doc__',\n",
       " '__file__',\n",
       " '__loader__',\n",
       " '__name__',\n",
       " '__package__',\n",
       " '__spec__',\n",
       " 'deepcopy',\n",
       " 'emcee',\n",
       " 'ems',\n",
       " 'fits',\n",
       " 'generate_pp_json',\n",
       " 'js',\n",
       " 'log_probability',\n",
       " 'np',\n",
       " 'os',\n",
       " 'pdf',\n",
       " 'plt',\n",
       " 'pprint',\n",
       " 'read_csv',\n",
       " 'u',\n",
       " 'yaml']"
      ]
     },
     "execution_count": 2,
     "metadata": {},
     "output_type": "execute_result"
    }
   ],
   "source": [
    "dir(eb)"
   ]
  },
  {
   "cell_type": "code",
   "execution_count": 3,
   "id": "df652006",
   "metadata": {},
   "outputs": [],
   "source": [
    "ebo = eb.ErrorBudgetMcmc('../config20231115t1006.yml')"
   ]
  },
  {
   "cell_type": "code",
   "execution_count": 4,
   "id": "01a9adb5",
   "metadata": {},
   "outputs": [
    {
     "ename": "NameError",
     "evalue": "name 'os' is not defined",
     "output_type": "error",
     "traceback": [
      "\u001b[0;31m---------------------------------------------------------------------------\u001b[0m",
      "\u001b[0;31mNameError\u001b[0m                                 Traceback (most recent call last)",
      "Cell \u001b[0;32mIn[4], line 1\u001b[0m\n\u001b[0;32m----> 1\u001b[0m ebo\u001b[38;5;241m.\u001b[39mconfig[\u001b[38;5;124m'\u001b[39m\u001b[38;5;124mpaths\u001b[39m\u001b[38;5;124m'\u001b[39m][\u001b[38;5;124m'\u001b[39m\u001b[38;5;124minput\u001b[39m\u001b[38;5;124m'\u001b[39m] \u001b[38;5;241m=\u001b[39m os\u001b[38;5;241m.\u001b[39mpath\u001b[38;5;241m.\u001b[39mjoin(\u001b[38;5;124m'\u001b[39m\u001b[38;5;124m..\u001b[39m\u001b[38;5;124m'\u001b[39m, \u001b[38;5;124m'\u001b[39m\u001b[38;5;124minputs\u001b[39m\u001b[38;5;124m'\u001b[39m)\n",
      "\u001b[0;31mNameError\u001b[0m: name 'os' is not defined"
     ]
    }
   ],
   "source": [
    "ebo.config['paths']['input'] = os.path.join('..', 'inputs')"
   ]
  },
  {
   "cell_type": "code",
   "execution_count": null,
   "id": "d9f0609a",
   "metadata": {},
   "outputs": [],
   "source": [
    "ebo.initialize_for_exosims()"
   ]
  },
  {
   "cell_type": "code",
   "execution_count": null,
   "id": "7db6db0e",
   "metadata": {},
   "outputs": [],
   "source": [
    "states = ebo.initialize_walkers()"
   ]
  },
  {
   "cell_type": "code",
   "execution_count": null,
   "id": "a626b7da",
   "metadata": {},
   "outputs": [],
   "source": [
    "print(states[0])"
   ]
  },
  {
   "cell_type": "code",
   "execution_count": null,
   "id": "ba67c690",
   "metadata": {},
   "outputs": [],
   "source": [
    "ebo.update_attributes(states[0])\n",
    "etc = ebo.run_exosims()"
   ]
  },
  {
   "cell_type": "code",
   "execution_count": null,
   "id": "ecedcec6",
   "metadata": {},
   "outputs": [],
   "source": [
    "print(etc[0])\n",
    "print(etc[0].mean())\n",
    "print(1/etc[0].mean())\n",
    "ebo.clean_files()"
   ]
  },
  {
   "cell_type": "code",
   "execution_count": null,
   "id": "e72d76d8",
   "metadata": {
    "scrolled": true
   },
   "outputs": [],
   "source": [
    "lm = ebo.log_merit(states[0])\n",
    "ebo.clean_files()"
   ]
  },
  {
   "cell_type": "code",
   "execution_count": null,
   "id": "d367c1a0",
   "metadata": {},
   "outputs": [],
   "source": [
    "print(lm)\n",
    "print(np.exp(lm))"
   ]
  }
 ],
 "metadata": {
  "kernelspec": {
   "display_name": "Python 3 (ipykernel)",
   "language": "python",
   "name": "python3"
  },
  "language_info": {
   "codemirror_mode": {
    "name": "ipython",
    "version": 3
   },
   "file_extension": ".py",
   "mimetype": "text/x-python",
   "name": "python",
   "nbconvert_exporter": "python",
   "pygments_lexer": "ipython3",
   "version": "3.11.2"
  }
 },
 "nbformat": 4,
 "nbformat_minor": 5
}
