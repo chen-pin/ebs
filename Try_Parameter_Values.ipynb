{
 "cells": [
  {
   "cell_type": "code",
   "execution_count": 1,
   "id": "b1f3ca10",
   "metadata": {},
   "outputs": [],
   "source": [
    "import numpy as np\n",
    "import ebs.error_budget as eb"
   ]
  },
  {
   "cell_type": "code",
   "execution_count": 2,
   "id": "df652006",
   "metadata": {},
   "outputs": [],
   "source": [
    "ebo = eb.ErrorBudgetMcmc('config4.yml')"
   ]
  },
  {
   "cell_type": "code",
   "execution_count": 3,
   "id": "d9f0609a",
   "metadata": {},
   "outputs": [],
   "source": [
    "ebo.initialize_for_exosims()"
   ]
  },
  {
   "cell_type": "code",
   "execution_count": 4,
   "id": "7db6db0e",
   "metadata": {},
   "outputs": [],
   "source": [
    "states = ebo.initialize_walkers()"
   ]
  },
  {
   "cell_type": "code",
   "execution_count": 5,
   "id": "a626b7da",
   "metadata": {},
   "outputs": [
    {
     "name": "stdout",
     "output_type": "stream",
     "text": [
      "[1.00392880e-05 4.99734007e-06 5.01873702e-03 4.99580790e-06\n",
      " 5.04782662e-03 1.00029812e-05 4.96306176e-03 1.00003839e-04\n",
      " 4.98017272e-03 1.99997722e-04 5.02558462e-03 1.99999959e-03\n",
      " 5.00100464e-02 9.92148069e-11 1.00310167e-10 1.00852987e-10\n",
      " 5.00511517e-01 5.00231016e-01 5.00612559e-01]\n"
     ]
    }
   ],
   "source": [
    "print(states[0])"
   ]
  },
  {
   "cell_type": "code",
   "execution_count": 6,
   "id": "ba67c690",
   "metadata": {},
   "outputs": [
    {
     "name": "stdout",
     "output_type": "stream",
     "text": [
      "Imported SurveySimulation (prototype) from EXOSIMS.Prototypes.SurveySimulation\n",
      "Numpy random seed is: 950203396\n",
      "Imported SimulatedUniverse (prototype) from EXOSIMS.Prototypes.SimulatedUniverse\n"
     ]
    },
    {
     "name": "stderr",
     "output_type": "stream",
     "text": [
      "/home/pinchen/EXOSIMS-master/EXOSIMS/Prototypes/OpticalSystem.py:580: UserWarning: Input FoV (9.5 arcsec) is larger than FoV computed from pixelScale (4.75 arcsec) for instrument CONS_NF_Imager. This feels like a mistkae.\n",
      "  warnings.warn(\n",
      "/home/pinchen/EXOSIMS-master/EXOSIMS/Prototypes/OpticalSystem.py:1418: UserWarning: core_contrast has smaller OWA than current system value for coronagraph-550. Updating to match table, but you should check your inputs.\n",
      "  warnings.warn(\n"
     ]
    },
    {
     "name": "stdout",
     "output_type": "stream",
     "text": [
      "Imported TargetList (prototype) from EXOSIMS.Prototypes.TargetList\n",
      "Imported HWOMissionStars (implementation) from EXOSIMS.StarCatalog.HWOMissionStars\n",
      "Loaded data from /home/pinchen/.EXOSIMS/downloads/HWOStarList_20230523183444.pkl\n",
      "Imported Nemati (implementation) from EXOSIMS.OpticalSystem.Nemati\n",
      "Imported ZodiacalLight (prototype) from EXOSIMS.Prototypes.ZodiacalLight\n",
      "Imported PostProcessing (prototype) from EXOSIMS.Prototypes.PostProcessing\n",
      "Imported BackgroundSources (prototype) from EXOSIMS.Prototypes.BackgroundSources\n",
      "Imported Completeness (prototype) from EXOSIMS.Prototypes.Completeness\n",
      "Imported PlanetPopulation (prototype) from EXOSIMS.Prototypes.PlanetPopulation\n",
      "Imported PlanetPhysicalModel (prototype) from EXOSIMS.Prototypes.PlanetPhysicalModel\n",
      "Star fluxes stored in /home/pinchen/.EXOSIMS/cache/TargetList_HWOMissionStars_nStars_1_mode_c8764587ede80ecaf531fdd288cca917.star_fluxes\n",
      "Calculating intCutoff_dMag\n",
      "intCutoff_dMag values stored in /home/pinchen/.EXOSIMS/cache/TargetList_HWOMissionStars_Nemati_ZodiacalLight_vals_b33e8e19fb04c1d2402304ea8878b1e7_mode_c8764587ede80ecaf531fdd288cca917.intCutoff_dMag\n",
      "Calculating the integration cutoff time completeness\n",
      "intCutoff_comp values stored in /home/pinchen/.EXOSIMS/cache/TargetList_HWOMissionStars_Completeness_vals_62647d36328d8384049fa0102439a261.intCutoff_comp\n",
      "No planets were generated. Creating single fake planet.\n",
      "Imported Observatory (prototype) from EXOSIMS.Prototypes.Observatory\n",
      "Imported TimeKeeping (prototype) from EXOSIMS.Prototypes.TimeKeeping\n",
      "OBendTimes is: [36.525] d\n",
      "Loading cached keepout map file from /home/pinchen/.EXOSIMS/cache/koMap_84bbdc79d44541590648c6d6783c829d.komap\n",
      "Keepout Map loaded from cache.\n",
      "coronagraph-550\n",
      "Loading cached fZ from /home/pinchen/.EXOSIMS/cache/CompletenessTargetListNematicc10d2dc13f22f8e1b246c7cfa2027d9_1_coronagraph-550.starkfZ\n",
      "Loading cached fZmins from /home/pinchen/.EXOSIMS/cache/CompletenessTargetListNematicc10d2dc13f22f8e1b246c7cfa2027d9_1_coronagraph-550.fZmin\n",
      "Imported SurveyEnsemble (prototype) from EXOSIMS.Prototypes.SurveyEnsemble\n",
      "\n",
      "The following keywords are used in multiple inits (this is ok):\n",
      "\tcachedir\n",
      "\tmissionStart\n",
      "\n",
      "132 keywords were set to their default values.\n"
     ]
    },
    {
     "name": "stderr",
     "output_type": "stream",
     "text": [
      "/home/pinchen/EXOSIMS-master/EXOSIMS/MissionSim.py:265: UserWarning: \n",
      "The following outspec keywords were not used in any module init:\n",
      "\t  default_vals_extra (Nemati)\n",
      "\n",
      "  warnings.warn(warnstr)\n"
     ]
    }
   ],
   "source": [
    "ebo.update_attributes(states[0])\n",
    "etc = ebo.run_exosims()"
   ]
  },
  {
   "cell_type": "code",
   "execution_count": 7,
   "id": "ecedcec6",
   "metadata": {},
   "outputs": [
    {
     "name": "stdout",
     "output_type": "stream",
     "text": [
      "[[0.48258269 0.13632901 0.63545629]] d\n",
      "0.4181226630769173 d\n",
      "2.391642664478202 1 / d\n"
     ]
    }
   ],
   "source": [
    "print(etc[0])\n",
    "print(etc[0].mean())\n",
    "print(1/etc[0].mean())\n",
    "ebo.clean_files()"
   ]
  },
  {
   "cell_type": "code",
   "execution_count": 8,
   "id": "e72d76d8",
   "metadata": {
    "scrolled": true
   },
   "outputs": [
    {
     "name": "stdout",
     "output_type": "stream",
     "text": [
      "Imported SurveySimulation (prototype) from EXOSIMS.Prototypes.SurveySimulation\n",
      "Numpy random seed is: 475753593\n",
      "Imported SimulatedUniverse (prototype) from EXOSIMS.Prototypes.SimulatedUniverse\n",
      "Imported TargetList (prototype) from EXOSIMS.Prototypes.TargetList\n",
      "Imported HWOMissionStars (implementation) from EXOSIMS.StarCatalog.HWOMissionStars\n",
      "Loaded data from /home/pinchen/.EXOSIMS/downloads/HWOStarList_20230523183444.pkl\n",
      "Imported Nemati (implementation) from EXOSIMS.OpticalSystem.Nemati\n"
     ]
    },
    {
     "name": "stderr",
     "output_type": "stream",
     "text": [
      "/home/pinchen/EXOSIMS-master/EXOSIMS/Prototypes/OpticalSystem.py:580: UserWarning: Input FoV (9.5 arcsec) is larger than FoV computed from pixelScale (4.75 arcsec) for instrument CONS_NF_Imager. This feels like a mistkae.\n",
      "  warnings.warn(\n",
      "/home/pinchen/EXOSIMS-master/EXOSIMS/Prototypes/OpticalSystem.py:1418: UserWarning: core_contrast has smaller OWA than current system value for coronagraph-550. Updating to match table, but you should check your inputs.\n",
      "  warnings.warn(\n"
     ]
    },
    {
     "name": "stdout",
     "output_type": "stream",
     "text": [
      "Imported ZodiacalLight (prototype) from EXOSIMS.Prototypes.ZodiacalLight\n",
      "Imported PostProcessing (prototype) from EXOSIMS.Prototypes.PostProcessing\n",
      "Imported BackgroundSources (prototype) from EXOSIMS.Prototypes.BackgroundSources\n",
      "Imported Completeness (prototype) from EXOSIMS.Prototypes.Completeness\n",
      "Imported PlanetPopulation (prototype) from EXOSIMS.Prototypes.PlanetPopulation\n",
      "Imported PlanetPhysicalModel (prototype) from EXOSIMS.Prototypes.PlanetPhysicalModel\n",
      "Star fluxes stored in /home/pinchen/.EXOSIMS/cache/TargetList_HWOMissionStars_nStars_1_mode_c9ac12f919f38081a8205662442ccf24.star_fluxes\n",
      "Calculating intCutoff_dMag\n",
      "intCutoff_dMag values stored in /home/pinchen/.EXOSIMS/cache/TargetList_HWOMissionStars_Nemati_ZodiacalLight_vals_b33e8e19fb04c1d2402304ea8878b1e7_mode_c9ac12f919f38081a8205662442ccf24.intCutoff_dMag\n",
      "Loaded intCutoff_comp values from /home/pinchen/.EXOSIMS/cache/TargetList_HWOMissionStars_Completeness_vals_62647d36328d8384049fa0102439a261.intCutoff_comp\n",
      "No planets were generated. Creating single fake planet.\n",
      "Imported Observatory (prototype) from EXOSIMS.Prototypes.Observatory\n",
      "Imported TimeKeeping (prototype) from EXOSIMS.Prototypes.TimeKeeping\n",
      "OBendTimes is: [36.525] d\n",
      "Loading cached keepout map file from /home/pinchen/.EXOSIMS/cache/koMap_84bbdc79d44541590648c6d6783c829d.komap\n",
      "Keepout Map loaded from cache.\n",
      "coronagraph-550\n",
      "Loading cached fZ from /home/pinchen/.EXOSIMS/cache/CompletenessTargetListNematicc10d2dc13f22f8e1b246c7cfa2027d9_1_coronagraph-550.starkfZ\n",
      "Loading cached fZmins from /home/pinchen/.EXOSIMS/cache/CompletenessTargetListNematicc10d2dc13f22f8e1b246c7cfa2027d9_1_coronagraph-550.fZmin\n",
      "Imported SurveyEnsemble (prototype) from EXOSIMS.Prototypes.SurveyEnsemble\n",
      "\n",
      "The following keywords are used in multiple inits (this is ok):\n",
      "\tcachedir\n",
      "\tmissionStart\n",
      "\n",
      "132 keywords were set to their default values.\n"
     ]
    },
    {
     "name": "stderr",
     "output_type": "stream",
     "text": [
      "/home/pinchen/EXOSIMS-master/EXOSIMS/MissionSim.py:265: UserWarning: \n",
      "The following outspec keywords were not used in any module init:\n",
      "\t  default_vals_extra (Nemati)\n",
      "\n",
      "  warnings.warn(warnstr)\n"
     ]
    }
   ],
   "source": [
    "lm = ebo.log_merit(states[0])\n",
    "ebo.clean_files()"
   ]
  },
  {
   "cell_type": "code",
   "execution_count": 9,
   "id": "d367c1a0",
   "metadata": {},
   "outputs": [
    {
     "name": "stdout",
     "output_type": "stream",
     "text": [
      "0.8719804371689734\n",
      "2.391642664478202\n"
     ]
    }
   ],
   "source": [
    "print(lm)\n",
    "print(np.exp(lm))"
   ]
  }
 ],
 "metadata": {
  "kernelspec": {
   "display_name": "Python 3 (ipykernel)",
   "language": "python",
   "name": "python3"
  },
  "language_info": {
   "codemirror_mode": {
    "name": "ipython",
    "version": 3
   },
   "file_extension": ".py",
   "mimetype": "text/x-python",
   "name": "python",
   "nbconvert_exporter": "python",
   "pygments_lexer": "ipython3",
   "version": "3.11.2"
  }
 },
 "nbformat": 4,
 "nbformat_minor": 5
}
