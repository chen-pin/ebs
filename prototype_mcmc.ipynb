{
 "cells": [
  {
   "cell_type": "markdown",
   "id": "7cf71df3",
   "metadata": {},
   "source": [
    "## ebs.ErrorBudget.run_etc Required Arguments\n",
    "### Fixed:  \n",
    "* output_dir  \n",
    "* ref_json_filename  \n",
    "* pp_json_filename  \n",
    "* contrast_filename  \n",
    "* target_list  \n",
    "* luminosity  \n",
    "* eeid  \n",
    "* eepsr  \n",
    "* npoints \n",
    "\n",
    "### Non-variable, mutable  \n",
    "### Possibly variable  \n",
    "* exo_zodi  \n",
    "* wfe\n",
    "* wfsc_factor\n",
    "* sensitivity\n",
    "* output_filename_prefix\n",
    "* var_par\n",
    "* *args  "
   ]
  },
  {
   "cell_type": "code",
   "execution_count": 1,
   "id": "d8349fd3",
   "metadata": {},
   "outputs": [],
   "source": [
    "import yaml\n",
    "import numpy as np\n",
    "import utilities.log_pdf as pdf"
   ]
  },
  {
   "cell_type": "code",
   "execution_count": 2,
   "id": "40598760",
   "metadata": {},
   "outputs": [
    {
     "data": {
      "text/plain": [
       "<function utilities.log_pdf.uniform(x, lower_bound, upper_bound)>"
      ]
     },
     "execution_count": 2,
     "metadata": {},
     "output_type": "execute_result"
    }
   ],
   "source": [
    "pdf.uniform"
   ]
  },
  {
   "cell_type": "code",
   "execution_count": 3,
   "id": "6ac4f84c",
   "metadata": {},
   "outputs": [],
   "source": [
    "with open('mcmc.yml', 'r') as config:\n",
    "    config = yaml.load(config, Loader=yaml.FullLoader)"
   ]
  },
  {
   "cell_type": "code",
   "execution_count": 4,
   "id": "502b67c7",
   "metadata": {},
   "outputs": [
    {
     "data": {
      "text/plain": [
       "{'paths': {'output': './output', 'input': './inputs'},\n",
       " 'input_files': {'contrast': 'mcmc_contrast.csv',\n",
       "  'throughput': 'mcmc_throughput.csv'},\n",
       " 'json_files': {'ref_json': 'mcmc_ref.json', 'pp_json': 'mcmc_pp.json'},\n",
       " 'targets': {'star1': {'HIP': 32439,\n",
       "   'spec_type': 'F8V',\n",
       "   'luminosity': 0.2615,\n",
       "   'eeid': 0.07423,\n",
       "   'eepsr': 6.34e-11,\n",
       "   'exo_zodi': 3.0},\n",
       "  'star2': {'HIP': 77052,\n",
       "   'spec_type': 'G5V',\n",
       "   'luminosity': -0.0788,\n",
       "   'eeid': 0.06174,\n",
       "   'eepsr': 1.39e-10,\n",
       "   'exo_zodi': 3.0},\n",
       "  'star3': {'HIP': 79672,\n",
       "   'spec_type': 'G2Va',\n",
       "   'luminosity': 0.0391,\n",
       "   'eeid': 0.07399,\n",
       "   'eepsr': 1.06e-10,\n",
       "   'exo_zodi': 3.0},\n",
       "  'star4': {'HIP': 26779,\n",
       "   'spec_type': 'K1V',\n",
       "   'luminosity': -0.3209,\n",
       "   'eeid': 0.05633,\n",
       "   'eepsr': 2.42e-10,\n",
       "   'exo_zodi': 3.0},\n",
       "  'star5': {'HIP': 113283,\n",
       "   'spec_type': 'K4Ve',\n",
       "   'luminosity': -0.7,\n",
       "   'eeid': 0.05829,\n",
       "   'eepsr': 5.89e-10,\n",
       "   'exo_zodi': 3.0}},\n",
       " 'wfe': [[10.0, 10.0, 10.0, 10.0],\n",
       "  [10.0, 10.0, 10.0, 10.0],\n",
       "  [10.0, 10.0, 10.0, 10.0],\n",
       "  [10.0, 10.0, 10.0, 10.0],\n",
       "  [10.0, 10.0, 10.0, 10.0],\n",
       "  [10.0, 10.0, 10.0, 10.0]],\n",
       " 'wfsc_factor': [[1e-06, 1e-06, 1e-06, 1e-06],\n",
       "  [0.001, 0.001, 0.001, 0.001],\n",
       "  [0.5, 0.5, 0.5, 0.5],\n",
       "  [1.0, 1.0, 1.0, 1.0],\n",
       "  [1.0, 1.0, 1.0, 1.0],\n",
       "  [1.0, 1.0, 1.0, 1.0]],\n",
       " 'sensitivity': [[30, 30, 30, 30],\n",
       "  [30, 30, 30, 30],\n",
       "  [30, 30, 30, 30],\n",
       "  [30, 30, 30, 30],\n",
       "  [30, 30, 30, 30]],\n",
       " 'output_filename_prefix': 'mcmc',\n",
       " 'contrast': [1e-10, 1e-10, 1e-10, 1e-10, 1e-10],\n",
       " 'core_throughout': [0.15, 0.15, 0.15, 0.15, 0.15],\n",
       " 'variable_id': ['wfe', 'idark'],\n",
       " 'is_exosims': [False, True],\n",
       " 'prior_func': ['uniform', 'uniform'],\n",
       " 'prior_args': {'wfe': [[[9.9999e-07, 9.9999e-07, 9.9999e-07, 9.9999e-07],\n",
       "    [9.999e-05, 9.999e-05, 9.999e-05, 9.999e-05],\n",
       "    [0.00990099, 0.00990099, 0.00990099, 0.00990099],\n",
       "    [None, None, None, None],\n",
       "    [None, None, None, None]],\n",
       "   [[9.999e-05, 9.999e-05, 9.999e-05, 9.999e-05],\n",
       "    [0.00990099, 0.00990099, 0.00990099, 0.00990099],\n",
       "    [0.5, 0.5, 0.5, 0.5],\n",
       "    [None, None, None, None],\n",
       "    [None, None, None, None]]],\n",
       "  'idark': [1e-06, 0.0001]},\n",
       " 'ini_min_max': {'wfe': [9.999e-05, 9.989012e-05],\n",
       "  'idark': [1e-05, 1.001e-05]}}"
      ]
     },
     "execution_count": 4,
     "metadata": {},
     "output_type": "execute_result"
    }
   ],
   "source": [
    "config"
   ]
  },
  {
   "cell_type": "code",
   "execution_count": 5,
   "id": "6cce9cd3",
   "metadata": {},
   "outputs": [
    {
     "name": "stdout",
     "output_type": "stream",
     "text": [
      "[[9.9999e-07 9.9999e-07 9.9999e-07 9.9999e-07]\n",
      " [9.999e-05 9.999e-05 9.999e-05 9.999e-05]\n",
      " [0.00990099 0.00990099 0.00990099 0.00990099]\n",
      " [None None None None]\n",
      " [None None None None]]\n"
     ]
    }
   ],
   "source": [
    "print(np.array(config['prior_args'][config['variable_id'][0]][0]))"
   ]
  },
  {
   "cell_type": "code",
   "execution_count": 6,
   "id": "89bd2404",
   "metadata": {},
   "outputs": [
    {
     "name": "stdout",
     "output_type": "stream",
     "text": [
      "[[9.999e-05 9.999e-05 9.999e-05 9.999e-05]\n",
      " [0.00990099 0.00990099 0.00990099 0.00990099]\n",
      " [0.5 0.5 0.5 0.5]\n",
      " [None None None None]\n",
      " [None None None None]]\n"
     ]
    }
   ],
   "source": [
    "print(np.array(config['prior_args'][config['variable_id'][0]][1]))"
   ]
  },
  {
   "cell_type": "code",
   "execution_count": 7,
   "id": "2cd937a4",
   "metadata": {},
   "outputs": [
    {
     "name": "stdout",
     "output_type": "stream",
     "text": [
      "9.989012e-05\n"
     ]
    }
   ],
   "source": [
    "print(\"{:e}\".format(1/(1+1.001e4)))"
   ]
  },
  {
   "cell_type": "code",
   "execution_count": null,
   "id": "60dead89",
   "metadata": {},
   "outputs": [],
   "source": []
  }
 ],
 "metadata": {
  "kernelspec": {
   "display_name": "Python 3 (ipykernel)",
   "language": "python",
   "name": "python3"
  },
  "language_info": {
   "codemirror_mode": {
    "name": "ipython",
    "version": 3
   },
   "file_extension": ".py",
   "mimetype": "text/x-python",
   "name": "python",
   "nbconvert_exporter": "python",
   "pygments_lexer": "ipython3",
   "version": "3.11.2"
  }
 },
 "nbformat": 4,
 "nbformat_minor": 5
}
