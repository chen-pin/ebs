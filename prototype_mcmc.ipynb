{
 "cells": [
  {
   "cell_type": "markdown",
   "id": "7cf71df3",
   "metadata": {},
   "source": [
    "## ebs.ErrorBudget.run_etc Required Arguments\n",
    "### Fixed:  \n",
    "* output_dir  \n",
    "* ref_json_filename  \n",
    "* pp_json_filename  \n",
    "* contrast_filename  \n",
    "* target_list  \n",
    "* luminosity  \n",
    "* eeid  \n",
    "* eepsr  \n",
    "* npoints \n",
    "\n",
    "### Non-variable, mutable  \n",
    "### Possibly variable  \n",
    "* exo_zodi  \n",
    "* wfe\n",
    "* wfsc_factor\n",
    "* sensitivity\n",
    "* output_filename_prefix\n",
    "* var_par\n",
    "* *args  "
   ]
  },
  {
   "cell_type": "code",
   "execution_count": 1,
   "id": "d8349fd3",
   "metadata": {},
   "outputs": [],
   "source": [
    "import inspect\n",
    "import yaml\n",
    "import numpy as np\n",
    "import ebs.ebs as ebs\n",
    "import utilities.log_pdf as pdf"
   ]
  },
  {
   "cell_type": "code",
   "execution_count": 2,
   "id": "5054fa92",
   "metadata": {},
   "outputs": [
    {
     "name": "stdout",
     "output_type": "stream",
     "text": [
      "ebs class arguments:\n",
      "['self', 'input_dir', 'output_dir', 'ref_json_filename', 'pp_json_filename', 'contrast_filename', 'target_list', 'luminosity', 'eeid', 'eepsr', 'exo_zodi', 'npoints']\n",
      "\n",
      "ebs.run_etc method arguments:\n",
      "['self', 'wfe', 'wfsc_factor', 'sensitivity', 'output_filename_prefix', 'var_par']\n"
     ]
    }
   ],
   "source": [
    "args_print = inspect.getfullargspec(ebs.ErrorBudget)[0]\n",
    "print(\n",
    "    f\"ebs class arguments:\\n{args_print}\\n\"\n",
    "    )\n",
    "args_print = inspect.getfullargspec(ebs.ErrorBudget.run_etc)[0]\n",
    "print(\n",
    "    f\"ebs.run_etc method arguments:\\n{args_print}\"\n",
    "      )"
   ]
  },
  {
   "cell_type": "code",
   "execution_count": 3,
   "id": "40598760",
   "metadata": {},
   "outputs": [
    {
     "data": {
      "text/plain": [
       "<function utilities.log_pdf.uniform(x, lower_bound, upper_bound)>"
      ]
     },
     "execution_count": 3,
     "metadata": {},
     "output_type": "execute_result"
    }
   ],
   "source": [
    "pdf.uniform"
   ]
  },
  {
   "cell_type": "code",
   "execution_count": 4,
   "id": "c9d37dbc",
   "metadata": {},
   "outputs": [],
   "source": [
    "with open('mcmc.yml', 'r') as config:\n",
    "    config = yaml.load(config, Loader=yaml.FullLoader)"
   ]
  },
  {
   "cell_type": "code",
   "execution_count": 5,
   "id": "ea171cb4",
   "metadata": {
    "scrolled": true
   },
   "outputs": [],
   "source": [
    "# config"
   ]
  },
  {
   "cell_type": "code",
   "execution_count": 6,
   "id": "be87b953",
   "metadata": {
    "scrolled": true
   },
   "outputs": [
    {
     "name": "stdout",
     "output_type": "stream",
     "text": [
      "[[9.9999e-07 9.9999e-07 9.9999e-07 9.9999e-07]\n",
      " [9.999e-05 9.999e-05 9.999e-05 9.999e-05]\n",
      " [0.00990099 0.00990099 0.00990099 0.00990099]\n",
      " [None None None None]\n",
      " [None None None None]]\n"
     ]
    }
   ],
   "source": [
    "print(\n",
    "    np.array(config['mcmc']['wfsc_factor']['prior_args']['lower_bound'])\n",
    ")"
   ]
  },
  {
   "cell_type": "code",
   "execution_count": 7,
   "id": "1ce5e91b",
   "metadata": {},
   "outputs": [],
   "source": [
    "# ErrorBudget class arguments\n",
    "def pack_class_args(config=config):\n",
    "    return {\n",
    "        'input_dir': config['paths']['input'],\n",
    "        'output_dir': config['paths']['output'],\n",
    "        'ref_json_filename': config['json_files']['ref_json'],\n",
    "        'pp_json_filename': config['json_files']['pp_json'],\n",
    "        'contrast_filename': config['input_files']['contrast'],\n",
    "        'target_list': [config['targets'][star]['HIP'] \n",
    "                       for star in config['targets']],\n",
    "        'luminosity': [config['targets'][star]['luminosity']\n",
    "                       for star in config['targets']],\n",
    "        'eeid': [config['targets'][star]['eeid'] \n",
    "                       for star in config['targets']],\n",
    "        'eepsr': [config['targets'][star]['eepsr'] \n",
    "                       for star in config['targets']],\n",
    "        'exo_zodi': [config['targets'][star]['exo_zodi'] \n",
    "                       for star in config['targets']],\n",
    "        'npoints': 3\n",
    "            }\n",
    "\n"
   ]
  },
  {
   "cell_type": "code",
   "execution_count": 8,
   "id": "297232fc",
   "metadata": {},
   "outputs": [],
   "source": [
    "error_budget = ebs.ErrorBudget(**pack_class_args())"
   ]
  },
  {
   "cell_type": "code",
   "execution_count": 9,
   "id": "504f00c2",
   "metadata": {},
   "outputs": [],
   "source": [
    "def ini_walker(config=config):\n",
    "    walker_start = {}\n",
    "    for key in config['mcmc'].keys():\n",
    "        center = np.array(config['mcmc'][key]['ini_pars']['center'])\n",
    "        spread = np.array(config['mcmc'][key]['ini_pars']['spread'])\n",
    "        position = np.nan*np.ones(center.shape)\n",
    "        index = np.where(center!=None)\n",
    "        position[index] = (center[index] \n",
    "                + spread[index]*np.random.rand(*center.shape)[index])\n",
    "        walker_start[key] = position\n",
    "    return walker_start"
   ]
  },
  {
   "cell_type": "code",
   "execution_count": 10,
   "id": "d0fde41e",
   "metadata": {},
   "outputs": [
    {
     "name": "stdout",
     "output_type": "stream",
     "text": [
      "{'wfsc_factor': array([[1.00566582e-06, 1.00814925e-06, 1.00208840e-06, 1.00924153e-06],\n",
      "       [1.00532290e-04, 1.00350217e-04, 1.00269891e-04, 1.00455802e-04],\n",
      "       [9.91620620e-03, 9.98538668e-03, 9.95839425e-03, 9.95185182e-03],\n",
      "       [           nan,            nan,            nan,            nan],\n",
      "       [           nan,            nan,            nan,            nan]]), 'idark': array([1.00693575e-05])}\n"
     ]
    }
   ],
   "source": [
    "print(ini_walker())"
   ]
  },
  {
   "cell_type": "code",
   "execution_count": 11,
   "id": "9364f9cd",
   "metadata": {},
   "outputs": [],
   "source": [
    "# ErrorBudget.run_etc method arguments\n",
    "def pack_method_args(config=config): \n",
    "    other_args = {}\n",
    "    args = inspect.getfullargspec(ebs.ErrorBudget.run_etc)[0][1:]\n",
    "    for arg in args:\n",
    "        if not ((arg in config['mcmc'].keys()) \n",
    "                or arg=='var_par' or arg=='*args'):\n",
    "            other_args[arg] = config['run_etc_args'][arg]\n",
    "    return other_args\n",
    "#     wfe = np.array(config['wfe'])\n",
    "#     sensitivity = np.array(config['sensitivity'])\n",
    "#     output_filename_prefix = config['output_filename_prefix']\n",
    "\n",
    "# Undefined:  wfsc_factor, var_par, *args"
   ]
  },
  {
   "cell_type": "code",
   "execution_count": 12,
   "id": "6f47c528",
   "metadata": {},
   "outputs": [
    {
     "name": "stdout",
     "output_type": "stream",
     "text": [
      "{'wfe': [[10.0, 10.0, 10.0, 10.0], [10.0, 10.0, 10.0, 10.0], [10.0, 10.0, 10.0, 10.0], [10.0, 10.0, 10.0, 10.0], [10.0, 10.0, 10.0, 10.0], [10.0, 10.0, 10.0, 10.0]], 'sensitivity': [[30, 30, 30, 30], [30, 30, 30, 30], [30, 30, 30, 30], [30, 30, 30, 30], [30, 30, 30, 30]], 'output_filename_prefix': 'mcmc'}\n"
     ]
    }
   ],
   "source": [
    "print(pack_method_args())"
   ]
  },
  {
   "cell_type": "code",
   "execution_count": 13,
   "id": "42e6998b",
   "metadata": {},
   "outputs": [
    {
     "name": "stdout",
     "output_type": "stream",
     "text": [
      "<class 'type'>\n",
      "True\n"
     ]
    },
    {
     "ename": "NameError",
     "evalue": "name 'element' is not defined",
     "output_type": "error",
     "traceback": [
      "\u001b[0;31m---------------------------------------------------------------------------\u001b[0m",
      "\u001b[0;31mNameError\u001b[0m                                 Traceback (most recent call last)",
      "Cell \u001b[0;32mIn[13], line 4\u001b[0m\n\u001b[1;32m      2\u001b[0m \u001b[38;5;28mprint\u001b[39m(\u001b[38;5;28mtype\u001b[39m(\u001b[38;5;28mlist\u001b[39m))\n\u001b[1;32m      3\u001b[0m \u001b[38;5;28mprint\u001b[39m(\u001b[38;5;28misinstance\u001b[39m(lst, \u001b[38;5;28mlist\u001b[39m))\n\u001b[0;32m----> 4\u001b[0m \u001b[38;5;28mprint\u001b[39m([\u001b[38;5;28misinstance\u001b[39m(element, \u001b[38;5;28mfloat\u001b[39m)])\n",
      "\u001b[0;31mNameError\u001b[0m: name 'element' is not defined"
     ]
    }
   ],
   "source": []
  },
  {
   "cell_type": "code",
   "execution_count": null,
   "id": "6cb1d381",
   "metadata": {},
   "outputs": [],
   "source": [
    "isinstance(1, int)"
   ]
  },
  {
   "cell_type": "code",
   "execution_count": null,
   "id": "641aefb1",
   "metadata": {},
   "outputs": [],
   "source": []
  }
 ],
 "metadata": {
  "kernelspec": {
   "display_name": "Python 3 (ipykernel)",
   "language": "python",
   "name": "python3"
  },
  "language_info": {
   "codemirror_mode": {
    "name": "ipython",
    "version": 3
   },
   "file_extension": ".py",
   "mimetype": "text/x-python",
   "name": "python",
   "nbconvert_exporter": "python",
   "pygments_lexer": "ipython3",
   "version": "3.11.2"
  }
 },
 "nbformat": 4,
 "nbformat_minor": 5
}
