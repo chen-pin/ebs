{
 "cells": [
  {
   "cell_type": "code",
   "execution_count": 1,
   "id": "65889261",
   "metadata": {},
   "outputs": [],
   "source": [
    "import numpy as np\n",
    "import json"
   ]
  },
  {
   "cell_type": "code",
   "execution_count": 2,
   "id": "fe4b8f85",
   "metadata": {},
   "outputs": [],
   "source": [
    "with open('../inputs/test.json') as t:\n",
    "    pars_dict = json.load(t)"
   ]
  },
  {
   "cell_type": "code",
   "execution_count": 3,
   "id": "05353de1",
   "metadata": {},
   "outputs": [],
   "source": [
    "wfe = (100.0*np.ones((5, 5))).tolist()  # [pm]\n",
    "pars_dict['wfe'] = wfe"
   ]
  },
  {
   "cell_type": "code",
   "execution_count": 4,
   "id": "042e4b9e",
   "metadata": {},
   "outputs": [],
   "source": [
    "wfsc_factor = 0.5*np.ones_like(wfe) \n",
    "pars_dict['wfsc_factor'] = wfsc_factor.tolist()"
   ]
  },
  {
   "cell_type": "code",
   "execution_count": 5,
   "id": "405edd63",
   "metadata": {},
   "outputs": [],
   "source": [
    "num_angles = 27\n",
    "sensitivity = 5.0*np.ones((num_angles, 5, 5))  # [ppt/pm]\n",
    "pars_dict['sensitivity'] = sensitivity.tolist()"
   ]
  },
  {
   "cell_type": "code",
   "execution_count": 6,
   "id": "bafa490b",
   "metadata": {},
   "outputs": [],
   "source": [
    "with open('../inputs/test2.json', 'w') as f:\n",
    "    json.dump(pars_dict, f, indent=4)"
   ]
  },
  {
   "cell_type": "code",
   "execution_count": null,
   "id": "f867e7c1",
   "metadata": {},
   "outputs": [],
   "source": []
  }
 ],
 "metadata": {
  "kernelspec": {
   "display_name": "Python 3 (ipykernel)",
   "language": "python",
   "name": "python3"
  },
  "language_info": {
   "codemirror_mode": {
    "name": "ipython",
    "version": 3
   },
   "file_extension": ".py",
   "mimetype": "text/x-python",
   "name": "python",
   "nbconvert_exporter": "python",
   "pygments_lexer": "ipython3",
   "version": "3.11.2"
  }
 },
 "nbformat": 4,
 "nbformat_minor": 5
}
