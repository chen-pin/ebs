{
 "cells": [
  {
   "cell_type": "code",
   "execution_count": 1,
   "id": "ec659089",
   "metadata": {},
   "outputs": [],
   "source": [
    "import os\n",
    "import time\n",
    "import numpy as np\n",
    "import EXOSIMS\n",
    "import EXOSIMS.MissionSim as ems"
   ]
  },
  {
   "cell_type": "code",
   "execution_count": 2,
   "id": "41b53efe",
   "metadata": {},
   "outputs": [],
   "source": [
    "spec = {\n",
    "    \"ppFact\": 0.2,\n",
    "    \"minComp\": 0,\n",
    "    \"filterBinaries\": False,\n",
    "    \"keepStarCatalog\": True,\n",
    "    \"pupilDiam\": 6.0,\n",
    "    \"obscurFac\": 0.1,\n",
    "    \"modules\": {\n",
    "        \"PlanetPopulation\": \" \",\n",
    "        \"StarCatalog\": \"HWOMissionStars\",\n",
    "        \"OpticalSystem\": \"Nemati\",\n",
    "        \"ZodiacalLight\": \" \",\n",
    "        \"BackgroundSources\": \" \",\n",
    "        \"PlanetPhysicalModel\": \" \",\n",
    "        \"Observatory\": \" \",\n",
    "        \"TimeKeeping\": \" \",\n",
    "        \"PostProcessing\": \" \",\n",
    "        \"Completeness\": \" \",\n",
    "        \"TargetList\": \" \",\n",
    "        \"SimulatedUniverse\": \" \",\n",
    "        \"SurveySimulation\": \" \",\n",
    "        \"SurveyEnsemble\": \" \"\n",
    "    },\n",
    "    \"scienceInstruments\": [\n",
    "        {\n",
    "            \"name\": \"CONF_NF_Imager\",\n",
    "            \"QE\": 0.835,\n",
    "            \"optics\": 0.66,\n",
    "            \"sread\": 1.7e-06,\n",
    "            \"idark\": 3e-5,\n",
    "            \"texp\": 3,\n",
    "            \"pixelNumber\": 1024,\n",
    "            \"pixelSize\": 1.3e-05,\n",
    "            \"FoV\": 9.5,\n",
    "            \"pixelScale\": 0.02,\n",
    "            \"CIC\": 2.1e-3,\n",
    "            \"radDos\": 0,\n",
    "            \"Pceff\": 1.0,\n",
    "            \"ENF\": 1.0\n",
    "        }\n",
    "    ],\n",
    "    \"starlightSuppressionSystems\": [\n",
    "        {\n",
    "            \"name\": \"coronagraph\",\n",
    "            \"optics\": 1.0,\n",
    "            \"lam\": 550.0,\n",
    "            \"BW\": 0.2,\n",
    "            \"ohTime\": 1.0,\n",
    "            \"occulter\": False,\n",
    "            \"IWA\": 0.055,\n",
    "            \"OWA\": 0.5,\n",
    "            \"occ_trans\": 0.2,\n",
    "            \"core_thruput\": \"./inputs/example_throughput.csv\",\n",
    "            \"core_area\": 5.52e-4,\n",
    "            \"core_contrast\": \"./inputs/example_contrast.csv\"\n",
    "        }\n",
    "    ],\n",
    "    \"observingModes\": [\n",
    "        {\n",
    "            \"SNR\": 3.0,\n",
    "            \"detectionMode\": True,\n",
    "            \"instName\": \"CONF_NF_Imager\",\n",
    "            \"systName\": \"coronagraph\",\n",
    "            \"timeMultiplier\": 1.0\n",
    "        }\n",
    "    ]\n",
    "}"
   ]
  },
  {
   "cell_type": "code",
   "execution_count": 3,
   "id": "6230cbc9",
   "metadata": {},
   "outputs": [],
   "source": [
    "# start = time.time()\n",
    "# sim = ems.MissionSim(os.path.join(EXOSIMS.__path__[0], 'Scripts', 'sampleScript_coron.json'))\n",
    "# # sim = ems.MissionSim(**spec)\n",
    "# end = time.time()"
   ]
  },
  {
   "cell_type": "code",
   "execution_count": 4,
   "id": "4e56fc51",
   "metadata": {},
   "outputs": [],
   "source": [
    "# print(f\"Execution time = {(end-start)} s\")"
   ]
  },
  {
   "cell_type": "code",
   "execution_count": 5,
   "id": "1e3a282a",
   "metadata": {},
   "outputs": [],
   "source": [
    "# str(int(1e10*np.random.rand()))"
   ]
  },
  {
   "cell_type": "code",
   "execution_count": 6,
   "id": "fec19bb2",
   "metadata": {},
   "outputs": [],
   "source": [
    "import ebs.error_budget as eb"
   ]
  },
  {
   "cell_type": "code",
   "execution_count": 7,
   "id": "a8ffd290",
   "metadata": {},
   "outputs": [],
   "source": [
    "t = eb.ErrorBudget2()"
   ]
  },
  {
   "cell_type": "code",
   "execution_count": 8,
   "id": "0fc79637",
   "metadata": {},
   "outputs": [],
   "source": [
    "t.wfe = np.random.rand(2,3)\n",
    "t.wfsc_factor = np.random.rand(2,3)\n",
    "t.sensitivity = np.random.rand(4,3)\n",
    "t.contrast = np.random.rand(4)\n",
    "t.angles = np.random.rand(4)"
   ]
  },
  {
   "cell_type": "code",
   "execution_count": 9,
   "id": "e18adf02",
   "metadata": {},
   "outputs": [
    {
     "data": {
      "text/plain": [
       "array([4.68269057e-13, 5.71202285e-13, 4.78769019e-13, 5.97689907e-13])"
      ]
     },
     "execution_count": 9,
     "metadata": {},
     "output_type": "execute_result"
    }
   ],
   "source": [
    "t.delta_contrast"
   ]
  },
  {
   "cell_type": "code",
   "execution_count": 10,
   "id": "034f2cbd",
   "metadata": {},
   "outputs": [
    {
     "data": {
      "text/plain": [
       "array([7.98751146e-13, 1.00112148e-12, 9.93920624e-13, 3.19205627e-12])"
      ]
     },
     "execution_count": 10,
     "metadata": {},
     "output_type": "execute_result"
    }
   ],
   "source": [
    "t.ppFact"
   ]
  },
  {
   "cell_type": "code",
   "execution_count": 11,
   "id": "60d1519a",
   "metadata": {},
   "outputs": [],
   "source": [
    "t.write_ppFact_fits(\".\")"
   ]
  },
  {
   "cell_type": "code",
   "execution_count": null,
   "id": "5d733f70",
   "metadata": {},
   "outputs": [],
   "source": []
  }
 ],
 "metadata": {
  "kernelspec": {
   "display_name": "Python 3 (ipykernel)",
   "language": "python",
   "name": "python3"
  },
  "language_info": {
   "codemirror_mode": {
    "name": "ipython",
    "version": 3
   },
   "file_extension": ".py",
   "mimetype": "text/x-python",
   "name": "python",
   "nbconvert_exporter": "python",
   "pygments_lexer": "ipython3",
   "version": "3.11.2"
  }
 },
 "nbformat": 4,
 "nbformat_minor": 5
}
