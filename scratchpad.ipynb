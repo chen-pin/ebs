{
 "cells": [
  {
   "cell_type": "code",
   "execution_count": 1,
   "id": "505fabcb",
   "metadata": {},
   "outputs": [],
   "source": [
    "import os\n",
    "import time\n",
    "import numpy as np\n",
    "import matplotlib.pyplot as plt\n",
    "import yaml\n",
    "import json\n",
    "import astropy.units as u\n",
    "from astropy.io import fits\n",
    "import EXOSIMS\n",
    "import EXOSIMS.MissionSim as ems\n",
    "import ebs.error_budget as eb\n"
   ]
  },
  {
   "cell_type": "code",
   "execution_count": 2,
   "id": "84130e55",
   "metadata": {},
   "outputs": [
    {
     "name": "stdout",
     "output_type": "stream",
     "text": [
      "Wrote ppFact FITS file ./inputs/ppFact_4851469793.fits\n"
     ]
    }
   ],
   "source": [
    "ebt = eb.ErrorBudget2()\n",
    "ebt.initialize_for_exosims()"
   ]
  },
  {
   "cell_type": "code",
   "execution_count": 3,
   "id": "5bca37b0",
   "metadata": {},
   "outputs": [],
   "source": [
    "# t1 = time.time()\n",
    "# smp = ebt.run_mcmc(parallel=False)\n",
    "# print(f\"elapsed time: {time.time()-t1} s\")"
   ]
  },
  {
   "cell_type": "code",
   "execution_count": 4,
   "id": "b707c78c",
   "metadata": {},
   "outputs": [],
   "source": [
    "# import corner"
   ]
  },
  {
   "cell_type": "code",
   "execution_count": 5,
   "id": "3d4cd18f",
   "metadata": {
    "scrolled": true
   },
   "outputs": [
    {
     "name": "stdout",
     "output_type": "stream",
     "text": [
      "[9.95179852e-06 5.01843057e-07 4.99132070e-03 4.97967652e-07\n",
      " 5.02553249e-03 4.98669659e-07 5.01193523e-03 4.96974413e-07\n",
      " 4.96309008e-03 4.99598410e-07 4.98324217e-03 4.95652999e-07\n",
      " 4.95545804e-03 1.00986786e-10 1.00991346e-10 1.00264990e-10\n",
      " 1.00085241e-10 9.94656601e-11 9.93315097e-11 1.50716612e-01\n",
      " 1.50628056e-01 1.50514780e-01 1.49604521e-01 1.49793634e-01\n",
      " 1.49509713e-01]\n"
     ]
    }
   ],
   "source": [
    "state = ebt.initialize_walkers()[0]\n",
    "print(state)"
   ]
  },
  {
   "cell_type": "code",
   "execution_count": 6,
   "id": "6b52febb",
   "metadata": {
    "scrolled": true
   },
   "outputs": [
    {
     "name": "stdout",
     "output_type": "stream",
     "text": [
      "ppFact1: [1. 1. 1. 1. 1. 1.]\n",
      "var_name: idark\n",
      "arr: 3e-05\n",
      "use_values: [9.95179852e-06]\n",
      "var_name: wfsc_factor\n",
      "arr: [[1.e-06 1.e+00 1.e+00 1.e+00]\n",
      " [2.e-04 1.e+00 1.e+00 1.e+00]\n",
      " [2.e-03 1.e+00 1.e+00 1.e+00]\n",
      " [2.e-01 1.e+00 1.e+00 1.e+00]\n",
      " [1.e+00 1.e+00 1.e+00 1.e+00]\n",
      " [1.e+00 1.e+00 1.e+00 1.e+00]]\n",
      "use_values: [5.01843057e-07 4.99132070e-03 4.97967652e-07 5.02553249e-03\n",
      " 4.98669659e-07 5.01193523e-03 4.96974413e-07 4.96309008e-03\n",
      " 4.99598410e-07 4.98324217e-03 4.95652999e-07 4.95545804e-03]\n",
      "ppFact2: [0.01263595 0.03193198 0.03777001 0.03777001 0.01888501 0.01888501]\n",
      "Wrote ppFact FITS file ./inputs/ppFact_7199736174.fits\n",
      "var_name: contrast\n",
      "arr: [1.e-09 2.e-10 1.e-10 1.e-10 1.e-10 1.e-10]\n",
      "use_values: [1.00986786e-10 1.00991346e-10 1.00264990e-10 1.00085241e-10\n",
      " 9.94656601e-11 9.93315097e-11]\n",
      "ppFact2: [0.12512477 0.06323706 0.03767019 0.03773784 0.01898646 0.0190121 ]\n",
      "Wrote ppFact FITS file ./inputs/ppFact_8511245989.fits\n",
      "var_name: throughput\n",
      "arr: [0.01 0.08 0.15 0.15 0.15 0.08]\n",
      "use_values: [0.15071661 0.15062806 0.15051478 0.14960452 0.14979363 0.14950971]\n",
      "ppFact3: [0.12512477 0.06323706 0.03767019 0.03773784 0.01898646 0.0190121 ]\n",
      "exosims_pars_dict:ppFact: ./inputs/ppFact_8511245989.fits\n",
      "exosims_pars_dict:ppFact: ./inputs/contrast_957263921.csv\n",
      "exosims_pars_dict:ppFact:./inputs/throughput_5780300761.csv\n",
      "Imported SurveySimulation (prototype) from EXOSIMS.Prototypes.SurveySimulation\n",
      "Numpy random seed is: 458290374\n",
      "Imported SimulatedUniverse (prototype) from EXOSIMS.Prototypes.SimulatedUniverse\n"
     ]
    },
    {
     "name": "stderr",
     "output_type": "stream",
     "text": [
      "/home/pinchen/EXOSIMS-master/EXOSIMS/Prototypes/OpticalSystem.py:580: UserWarning: Input FoV (9.5 arcsec) is larger than FoV computed from pixelScale (4.75 arcsec) for instrument CONS_NF_Imager. This feels like a mistkae.\n",
      "  warnings.warn(\n",
      "/home/pinchen/EXOSIMS-master/EXOSIMS/Prototypes/OpticalSystem.py:1418: UserWarning: core_contrast has smaller OWA than current system value for coronagraph-550. Updating to match table, but you should check your inputs.\n",
      "  warnings.warn(\n"
     ]
    },
    {
     "name": "stdout",
     "output_type": "stream",
     "text": [
      "Imported TargetList (prototype) from EXOSIMS.Prototypes.TargetList\n",
      "Imported HWOMissionStars (implementation) from EXOSIMS.StarCatalog.HWOMissionStars\n",
      "Loaded data from /home/pinchen/.EXOSIMS/downloads/HWOStarList_20230523183444.pkl\n",
      "Imported Nemati (implementation) from EXOSIMS.OpticalSystem.Nemati\n",
      "Imported ZodiacalLight (prototype) from EXOSIMS.Prototypes.ZodiacalLight\n",
      "Imported PostProcessing (prototype) from EXOSIMS.Prototypes.PostProcessing\n",
      "Imported BackgroundSources (prototype) from EXOSIMS.Prototypes.BackgroundSources\n",
      "Imported Completeness (prototype) from EXOSIMS.Prototypes.Completeness\n",
      "Imported PlanetPopulation (prototype) from EXOSIMS.Prototypes.PlanetPopulation\n",
      "Imported PlanetPhysicalModel (prototype) from EXOSIMS.Prototypes.PlanetPhysicalModel\n",
      "Star fluxes stored in /home/pinchen/.EXOSIMS/cache/TargetList_HWOMissionStars_nStars_5_mode_0948fb5344c2ee16b435e93bc574a52e.star_fluxes\n",
      "Calculating intCutoff_dMag\n",
      "intCutoff_dMag values stored in /home/pinchen/.EXOSIMS/cache/TargetList_HWOMissionStars_Nemati_ZodiacalLight_vals_6e42af6d4233d22a18c2202995000a6e_mode_0948fb5344c2ee16b435e93bc574a52e.intCutoff_dMag\n",
      "Calculating the integration cutoff time completeness\n",
      "intCutoff_comp values stored in /home/pinchen/.EXOSIMS/cache/TargetList_HWOMissionStars_Completeness_vals_6df1689b8e2a81a01f5c74b37f2fe367.intCutoff_comp\n",
      "No planets were generated. Creating single fake planet.\n",
      "Imported Observatory (prototype) from EXOSIMS.Prototypes.Observatory\n",
      "Imported TimeKeeping (prototype) from EXOSIMS.Prototypes.TimeKeeping\n",
      "OBendTimes is: [36.525] d\n",
      "Loading cached keepout map file from /home/pinchen/.EXOSIMS/cache/koMap_7e11e80dbc5ae5b0c6e96016d3de71e9.komap\n",
      "Keepout Map loaded from cache.\n",
      "coronagraph-550\n",
      "Loading cached fZ from /home/pinchen/.EXOSIMS/cache/CompletenessTargetListNematif4ba627a7eabd3ca5a538901257cd1c8_5_coronagraph-550.starkfZ\n",
      "Loading cached fZmins from /home/pinchen/.EXOSIMS/cache/CompletenessTargetListNematif4ba627a7eabd3ca5a538901257cd1c8_5_coronagraph-550.fZmin\n",
      "Imported SurveyEnsemble (prototype) from EXOSIMS.Prototypes.SurveyEnsemble\n",
      "\n",
      "The following keywords are used in multiple inits (this is ok):\n",
      "\tcachedir\n",
      "\tmissionStart\n",
      "\n",
      "132 keywords were set to their default values.\n",
      "integration time: [[1.60837392 1.74698308 4.33261688]\n",
      " [0.65040403 0.71122272 1.9582713 ]\n",
      " [0.55834266 0.61467142 1.65930251]\n",
      " [0.36931187 0.40706396 1.13461119]\n",
      " [0.09209545 0.10198108 0.28771772]] d\n"
     ]
    },
    {
     "name": "stderr",
     "output_type": "stream",
     "text": [
      "/home/pinchen/EXOSIMS-master/EXOSIMS/MissionSim.py:265: UserWarning: \n",
      "The following outspec keywords were not used in any module init:\n",
      "\t  default_vals_extra (Nemati)\n",
      "\n",
      "  warnings.warn(warnstr)\n"
     ]
    },
    {
     "data": {
      "text/plain": [
       "0.0"
      ]
     },
     "execution_count": 6,
     "metadata": {},
     "output_type": "execute_result"
    }
   ],
   "source": [
    "ebt.log_merit(state)"
   ]
  },
  {
   "cell_type": "code",
   "execution_count": 7,
   "id": "f7769690",
   "metadata": {},
   "outputs": [
    {
     "ename": "FileNotFoundError",
     "evalue": "[Errno 2] No such file or directory: 'inputs/ppFact_3433275331.fits'",
     "output_type": "error",
     "traceback": [
      "\u001b[0;31m---------------------------------------------------------------------------\u001b[0m",
      "\u001b[0;31mFileNotFoundError\u001b[0m                         Traceback (most recent call last)",
      "Cell \u001b[0;32mIn[7], line 1\u001b[0m\n\u001b[0;32m----> 1\u001b[0m \u001b[38;5;28;01mwith\u001b[39;00m fits\u001b[38;5;241m.\u001b[39mopen(\u001b[38;5;124m'\u001b[39m\u001b[38;5;124minputs/ppFact_3433275331.fits\u001b[39m\u001b[38;5;124m'\u001b[39m) \u001b[38;5;28;01mas\u001b[39;00m hdu:\n\u001b[1;32m      2\u001b[0m     \u001b[38;5;28mprint\u001b[39m(hdu[\u001b[38;5;241m0\u001b[39m]\u001b[38;5;241m.\u001b[39mdata)\n",
      "File \u001b[0;32m~/anaconda3/envs/exosims/lib/python3.11/site-packages/astropy/io/fits/hdu/hdulist.py:214\u001b[0m, in \u001b[0;36mfitsopen\u001b[0;34m(name, mode, memmap, save_backup, cache, lazy_load_hdus, ignore_missing_simple, use_fsspec, fsspec_kwargs, **kwargs)\u001b[0m\n\u001b[1;32m    211\u001b[0m \u001b[38;5;28;01mif\u001b[39;00m \u001b[38;5;129;01mnot\u001b[39;00m name:\n\u001b[1;32m    212\u001b[0m     \u001b[38;5;28;01mraise\u001b[39;00m \u001b[38;5;167;01mValueError\u001b[39;00m(\u001b[38;5;124mf\u001b[39m\u001b[38;5;124m\"\u001b[39m\u001b[38;5;124mEmpty filename: \u001b[39m\u001b[38;5;132;01m{\u001b[39;00mname\u001b[38;5;132;01m!r}\u001b[39;00m\u001b[38;5;124m\"\u001b[39m)\n\u001b[0;32m--> 214\u001b[0m \u001b[38;5;28;01mreturn\u001b[39;00m HDUList\u001b[38;5;241m.\u001b[39mfromfile(\n\u001b[1;32m    215\u001b[0m     name,\n\u001b[1;32m    216\u001b[0m     mode,\n\u001b[1;32m    217\u001b[0m     memmap,\n\u001b[1;32m    218\u001b[0m     save_backup,\n\u001b[1;32m    219\u001b[0m     cache,\n\u001b[1;32m    220\u001b[0m     lazy_load_hdus,\n\u001b[1;32m    221\u001b[0m     ignore_missing_simple,\n\u001b[1;32m    222\u001b[0m     use_fsspec\u001b[38;5;241m=\u001b[39muse_fsspec,\n\u001b[1;32m    223\u001b[0m     fsspec_kwargs\u001b[38;5;241m=\u001b[39mfsspec_kwargs,\n\u001b[1;32m    224\u001b[0m     \u001b[38;5;241m*\u001b[39m\u001b[38;5;241m*\u001b[39mkwargs,\n\u001b[1;32m    225\u001b[0m )\n",
      "File \u001b[0;32m~/anaconda3/envs/exosims/lib/python3.11/site-packages/astropy/io/fits/hdu/hdulist.py:482\u001b[0m, in \u001b[0;36mHDUList.fromfile\u001b[0;34m(cls, fileobj, mode, memmap, save_backup, cache, lazy_load_hdus, ignore_missing_simple, **kwargs)\u001b[0m\n\u001b[1;32m    462\u001b[0m \u001b[38;5;129m@classmethod\u001b[39m\n\u001b[1;32m    463\u001b[0m \u001b[38;5;28;01mdef\u001b[39;00m \u001b[38;5;21mfromfile\u001b[39m(\n\u001b[1;32m    464\u001b[0m     \u001b[38;5;28mcls\u001b[39m,\n\u001b[0;32m   (...)\u001b[0m\n\u001b[1;32m    472\u001b[0m     \u001b[38;5;241m*\u001b[39m\u001b[38;5;241m*\u001b[39mkwargs,\n\u001b[1;32m    473\u001b[0m ):\n\u001b[1;32m    474\u001b[0m     \u001b[38;5;124;03m\"\"\"\u001b[39;00m\n\u001b[1;32m    475\u001b[0m \u001b[38;5;124;03m    Creates an `HDUList` instance from a file-like object.\u001b[39;00m\n\u001b[1;32m    476\u001b[0m \n\u001b[0;32m   (...)\u001b[0m\n\u001b[1;32m    479\u001b[0m \u001b[38;5;124;03m    documentation for details of the parameters accepted by this method).\u001b[39;00m\n\u001b[1;32m    480\u001b[0m \u001b[38;5;124;03m    \"\"\"\u001b[39;00m\n\u001b[0;32m--> 482\u001b[0m     \u001b[38;5;28;01mreturn\u001b[39;00m \u001b[38;5;28mcls\u001b[39m\u001b[38;5;241m.\u001b[39m_readfrom(\n\u001b[1;32m    483\u001b[0m         fileobj\u001b[38;5;241m=\u001b[39mfileobj,\n\u001b[1;32m    484\u001b[0m         mode\u001b[38;5;241m=\u001b[39mmode,\n\u001b[1;32m    485\u001b[0m         memmap\u001b[38;5;241m=\u001b[39mmemmap,\n\u001b[1;32m    486\u001b[0m         save_backup\u001b[38;5;241m=\u001b[39msave_backup,\n\u001b[1;32m    487\u001b[0m         cache\u001b[38;5;241m=\u001b[39mcache,\n\u001b[1;32m    488\u001b[0m         ignore_missing_simple\u001b[38;5;241m=\u001b[39mignore_missing_simple,\n\u001b[1;32m    489\u001b[0m         lazy_load_hdus\u001b[38;5;241m=\u001b[39mlazy_load_hdus,\n\u001b[1;32m    490\u001b[0m         \u001b[38;5;241m*\u001b[39m\u001b[38;5;241m*\u001b[39mkwargs,\n\u001b[1;32m    491\u001b[0m     )\n",
      "File \u001b[0;32m~/anaconda3/envs/exosims/lib/python3.11/site-packages/astropy/io/fits/hdu/hdulist.py:1170\u001b[0m, in \u001b[0;36mHDUList._readfrom\u001b[0;34m(cls, fileobj, data, mode, memmap, cache, lazy_load_hdus, ignore_missing_simple, use_fsspec, fsspec_kwargs, **kwargs)\u001b[0m\n\u001b[1;32m   1167\u001b[0m \u001b[38;5;28;01mif\u001b[39;00m fileobj \u001b[38;5;129;01mis\u001b[39;00m \u001b[38;5;129;01mnot\u001b[39;00m \u001b[38;5;28;01mNone\u001b[39;00m:\n\u001b[1;32m   1168\u001b[0m     \u001b[38;5;28;01mif\u001b[39;00m \u001b[38;5;129;01mnot\u001b[39;00m \u001b[38;5;28misinstance\u001b[39m(fileobj, _File):\n\u001b[1;32m   1169\u001b[0m         \u001b[38;5;66;03m# instantiate a FITS file object (ffo)\u001b[39;00m\n\u001b[0;32m-> 1170\u001b[0m         fileobj \u001b[38;5;241m=\u001b[39m _File(\n\u001b[1;32m   1171\u001b[0m             fileobj,\n\u001b[1;32m   1172\u001b[0m             mode\u001b[38;5;241m=\u001b[39mmode,\n\u001b[1;32m   1173\u001b[0m             memmap\u001b[38;5;241m=\u001b[39mmemmap,\n\u001b[1;32m   1174\u001b[0m             cache\u001b[38;5;241m=\u001b[39mcache,\n\u001b[1;32m   1175\u001b[0m             use_fsspec\u001b[38;5;241m=\u001b[39muse_fsspec,\n\u001b[1;32m   1176\u001b[0m             fsspec_kwargs\u001b[38;5;241m=\u001b[39mfsspec_kwargs,\n\u001b[1;32m   1177\u001b[0m         )\n\u001b[1;32m   1178\u001b[0m     \u001b[38;5;66;03m# The Astropy mode is determined by the _File initializer if the\u001b[39;00m\n\u001b[1;32m   1179\u001b[0m     \u001b[38;5;66;03m# supplied mode was None\u001b[39;00m\n\u001b[1;32m   1180\u001b[0m     mode \u001b[38;5;241m=\u001b[39m fileobj\u001b[38;5;241m.\u001b[39mmode\n",
      "File \u001b[0;32m~/anaconda3/envs/exosims/lib/python3.11/site-packages/astropy/io/fits/file.py:218\u001b[0m, in \u001b[0;36m_File.__init__\u001b[0;34m(self, fileobj, mode, memmap, overwrite, cache, use_fsspec, fsspec_kwargs)\u001b[0m\n\u001b[1;32m    216\u001b[0m     \u001b[38;5;28mself\u001b[39m\u001b[38;5;241m.\u001b[39m_open_fileobj(fileobj, mode, overwrite)\n\u001b[1;32m    217\u001b[0m \u001b[38;5;28;01melif\u001b[39;00m \u001b[38;5;28misinstance\u001b[39m(fileobj, (\u001b[38;5;28mstr\u001b[39m, \u001b[38;5;28mbytes\u001b[39m)):\n\u001b[0;32m--> 218\u001b[0m     \u001b[38;5;28mself\u001b[39m\u001b[38;5;241m.\u001b[39m_open_filename(fileobj, mode, overwrite)\n\u001b[1;32m    219\u001b[0m \u001b[38;5;28;01melse\u001b[39;00m:\n\u001b[1;32m    220\u001b[0m     \u001b[38;5;28mself\u001b[39m\u001b[38;5;241m.\u001b[39m_open_filelike(fileobj, mode, overwrite)\n",
      "File \u001b[0;32m~/anaconda3/envs/exosims/lib/python3.11/site-packages/astropy/io/fits/file.py:636\u001b[0m, in \u001b[0;36m_File._open_filename\u001b[0;34m(self, filename, mode, overwrite)\u001b[0m\n\u001b[1;32m    633\u001b[0m ext \u001b[38;5;241m=\u001b[39m os\u001b[38;5;241m.\u001b[39mpath\u001b[38;5;241m.\u001b[39msplitext(\u001b[38;5;28mself\u001b[39m\u001b[38;5;241m.\u001b[39mname)[\u001b[38;5;241m1\u001b[39m]\n\u001b[1;32m    635\u001b[0m \u001b[38;5;28;01mif\u001b[39;00m \u001b[38;5;129;01mnot\u001b[39;00m \u001b[38;5;28mself\u001b[39m\u001b[38;5;241m.\u001b[39m_try_read_compressed(\u001b[38;5;28mself\u001b[39m\u001b[38;5;241m.\u001b[39mname, magic, mode, ext\u001b[38;5;241m=\u001b[39mext):\n\u001b[0;32m--> 636\u001b[0m     \u001b[38;5;28mself\u001b[39m\u001b[38;5;241m.\u001b[39m_file \u001b[38;5;241m=\u001b[39m \u001b[38;5;28mopen\u001b[39m(\u001b[38;5;28mself\u001b[39m\u001b[38;5;241m.\u001b[39mname, IO_FITS_MODES[mode])\n\u001b[1;32m    637\u001b[0m     \u001b[38;5;28mself\u001b[39m\u001b[38;5;241m.\u001b[39mclose_on_error \u001b[38;5;241m=\u001b[39m \u001b[38;5;28;01mTrue\u001b[39;00m\n\u001b[1;32m    639\u001b[0m \u001b[38;5;66;03m# Make certain we're back at the beginning of the file\u001b[39;00m\n\u001b[1;32m    640\u001b[0m \u001b[38;5;66;03m# BZ2File does not support seek when the file is open for writing, but\u001b[39;00m\n\u001b[1;32m    641\u001b[0m \u001b[38;5;66;03m# when opening a file for write, bz2.BZ2File always truncates anyway.\u001b[39;00m\n",
      "\u001b[0;31mFileNotFoundError\u001b[0m: [Errno 2] No such file or directory: 'inputs/ppFact_3433275331.fits'"
     ]
    }
   ],
   "source": [
    "with fits.open('inputs/ppFact_3433275331.fits') as hdu:\n",
    "    print(hdu[0].data)"
   ]
  },
  {
   "cell_type": "code",
   "execution_count": null,
   "id": "2fc5aa80",
   "metadata": {
    "scrolled": true
   },
   "outputs": [],
   "source": []
  },
  {
   "cell_type": "code",
   "execution_count": null,
   "id": "9d50a192",
   "metadata": {},
   "outputs": [],
   "source": []
  },
  {
   "cell_type": "code",
   "execution_count": null,
   "id": "399d9c7b",
   "metadata": {},
   "outputs": [],
   "source": []
  }
 ],
 "metadata": {
  "kernelspec": {
   "display_name": "Python 3 (ipykernel)",
   "language": "python",
   "name": "python3"
  },
  "language_info": {
   "codemirror_mode": {
    "name": "ipython",
    "version": 3
   },
   "file_extension": ".py",
   "mimetype": "text/x-python",
   "name": "python",
   "nbconvert_exporter": "python",
   "pygments_lexer": "ipython3",
   "version": "3.11.2"
  }
 },
 "nbformat": 4,
 "nbformat_minor": 5
}
