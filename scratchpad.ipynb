{
 "cells": [
  {
   "cell_type": "code",
   "execution_count": 1,
   "id": "505fabcb",
   "metadata": {},
   "outputs": [],
   "source": [
    "import os\n",
    "import time\n",
    "import numpy as np\n",
    "import yaml\n",
    "import json\n",
    "import astropy.units as u\n",
    "import EXOSIMS\n",
    "import EXOSIMS.MissionSim as ems\n",
    "import ebs.error_budget as eb"
   ]
  },
  {
   "cell_type": "code",
   "execution_count": 2,
   "id": "0589ae6e",
   "metadata": {},
   "outputs": [],
   "source": [
    "# spec = {\n",
    "#     \"ppFact\": 0.1,\n",
    "#     \"minComp\": 0,\n",
    "#     \"filterBinaries\": False,\n",
    "#     \"keepStarCatalog\": True,\n",
    "#     \"pupilDiam\": 6.0,\n",
    "#     \"obscurFac\": 0.1,\n",
    "#     \"modules\": {\n",
    "#         \"PlanetPopulation\": \" \",\n",
    "#         \"StarCatalog\": \"HWOMissionStars\",\n",
    "#         \"OpticalSystem\": \"Nemati\",\n",
    "#         \"ZodiacalLight\": \" \",\n",
    "#         \"BackgroundSources\": \" \",\n",
    "#         \"PlanetPhysicalModel\": \" \",\n",
    "#         \"Observatory\": \" \",\n",
    "#         \"TimeKeeping\": \" \",\n",
    "#         \"PostProcessing\": \" \",\n",
    "#         \"Completeness\": \" \",\n",
    "#         \"TargetList\": \" \",\n",
    "#         \"SimulatedUniverse\": \" \",\n",
    "#         \"SurveySimulation\": \" \",\n",
    "#         \"SurveyEnsemble\": \" \"\n",
    "#     },\n",
    "#     \"scienceInstruments\": [\n",
    "#         {\n",
    "#             \"name\": \"spectro_1\",\n",
    "#             \"QE\": 0.835,\n",
    "#             \"optics\": 0.66,\n",
    "#             \"sread\": 1.7e-06,\n",
    "#             \"idark\": 3e-5,\n",
    "#             \"texp\": 3,\n",
    "#             \"Rs\": 1.0,\n",
    "#             \"pixelNumber\": 1024,\n",
    "#             \"pixelSize\": 1.3e-05,\n",
    "#             \"FoV\": 9.5,\n",
    "#             \"pixelScale\": 0.02,\n",
    "#             \"CIC\": 2.1e-3,\n",
    "#             \"radDos\": 0,\n",
    "#             \"Pceff\": 1.0,\n",
    "#             \"ENF\": 1.0\n",
    "#         }\n",
    "#     ],\n",
    "#     \"starlightSuppressionSystems\": [\n",
    "#         {\n",
    "#             \"name\": \"coronagraph\",\n",
    "#             \"optics\": 1.0,\n",
    "#             \"lam\": 550.0,\n",
    "#             \"BW\": 0.2,\n",
    "#             \"ohTime\": 1.0,\n",
    "#             \"occulter\": False,\n",
    "#             \"IWA\": 0.055,\n",
    "#             \"OWA\": 0.5,\n",
    "#             \"occ_trans\": 0.2,\n",
    "#             \"core_thruput\": \"./inputs/example_throughput.csv\",\n",
    "#             \"core_area\": 5.52e-4,\n",
    "#             \"core_contrast\": \"./inputs/example_contrast.csv\"\n",
    "#         }\n",
    "#     ],\n",
    "#     \"observingModes\": [\n",
    "#         {\n",
    "#             \"SNR\": 3.0,\n",
    "#             \"detectionMode\": True,\n",
    "#             \"instName\": \"spectro_1\",\n",
    "#             \"systName\": \"coronagraph\",\n",
    "#             \"timeMultiplier\": 1.0\n",
    "#         }\n",
    "#     ]\n",
    "# }"
   ]
  },
  {
   "cell_type": "code",
   "execution_count": 3,
   "id": "1e5b310a",
   "metadata": {
    "scrolled": true
   },
   "outputs": [],
   "source": [
    "# start = time.time()\n",
    "# # sim = ems.MissionSim(os.path.join(EXOSIMS.__path__[0], 'Scripts', 'sampleScript_coron.json'))\n",
    "# sim = ems.MissionSim(**spec)\n",
    "# end = time.time()\n",
    "# timer1 = end - start\n",
    "# start = time.time()\n",
    "# target = \"HIP 79672\"\n",
    "# sInd = np.array([np.where(sim.TargetList.Name == target)[0][0]])\n",
    "# eeid = 0.07399\n",
    "# eepsr = 1.06e-10\n",
    "# dMag = -2.5*np.log10(eepsr)\n",
    "# mode = sim.OpticalSystem.observingModes[0]\n",
    "# int_time = sim.OpticalSystem.calc_intTime(\n",
    "#     sim.TargetList\n",
    "#     , sInd\n",
    "#     , 1.0*sim.ZodiacalLight.fZ0.unit\n",
    "#     , 3.0*sim.ZodiacalLight.fEZ0.value*sim.ZodiacalLight.fEZ0.unit\n",
    "#     , dMag\n",
    "#     , eeid*u.arcsec\n",
    "#     , mode)\n",
    "# end = time.time()\n",
    "# timer2 = end - start\n",
    "# print(f\"Execution time = {(end-start)} s\")"
   ]
  },
  {
   "cell_type": "code",
   "execution_count": 4,
   "id": "4c79b04f",
   "metadata": {
    "scrolled": true
   },
   "outputs": [],
   "source": [
    "# print(f\"Execution time = {timer1} s\")"
   ]
  },
  {
   "cell_type": "code",
   "execution_count": 5,
   "id": "c71c3c08",
   "metadata": {},
   "outputs": [],
   "source": [
    "# print(f\"Execution time = {timer2} s\")"
   ]
  },
  {
   "cell_type": "code",
   "execution_count": 6,
   "id": "4be38a78",
   "metadata": {},
   "outputs": [],
   "source": [
    "# t = eb.ErrorBudget2()"
   ]
  },
  {
   "cell_type": "code",
   "execution_count": 7,
   "id": "a727d18e",
   "metadata": {},
   "outputs": [],
   "source": [
    "# t.wfe = np.random.rand(2,3)\n",
    "# t.wfsc_factor = np.random.rand(2,3)\n",
    "# t.sensitivity = np.random.rand(4,3)\n",
    "# t.contrast = np.random.rand(4)\n",
    "# t.angles = np.random.rand(4)"
   ]
  },
  {
   "cell_type": "code",
   "execution_count": 8,
   "id": "85a3fa76",
   "metadata": {},
   "outputs": [],
   "source": [
    "# t.delta_contrast"
   ]
  },
  {
   "cell_type": "code",
   "execution_count": 9,
   "id": "20622c31",
   "metadata": {},
   "outputs": [],
   "source": [
    "# t.ppFact"
   ]
  },
  {
   "cell_type": "code",
   "execution_count": 10,
   "id": "e2552651",
   "metadata": {},
   "outputs": [],
   "source": [
    "# t.write_ppFact_fits(\".\")"
   ]
  },
  {
   "cell_type": "code",
   "execution_count": 11,
   "id": "641e7375",
   "metadata": {},
   "outputs": [],
   "source": [
    "with open(\"test/test_ref.json\", 'r') as sample:\n",
    "    sample = json.load(sample)"
   ]
  },
  {
   "cell_type": "code",
   "execution_count": 12,
   "id": "8da7ed7a",
   "metadata": {},
   "outputs": [],
   "source": [
    "with open(\"ref.yml\", 'w') as file:\n",
    "    yaml.dump(sample, file)"
   ]
  },
  {
   "cell_type": "code",
   "execution_count": 13,
   "id": "ac939293",
   "metadata": {},
   "outputs": [],
   "source": [
    "ebt = eb.ErrorBudget()"
   ]
  },
  {
   "cell_type": "code",
   "execution_count": 14,
   "id": "f8856e93",
   "metadata": {},
   "outputs": [
    {
     "ename": "ParserError",
     "evalue": "while parsing a flow sequence\n  in \"config.yml\", line 153, column 9\nexpected ',' or ']', but got '<scalar>'\n  in \"config.yml\", line 155, column 13",
     "output_type": "error",
     "traceback": [
      "\u001b[0;31m---------------------------------------------------------------------------\u001b[0m",
      "\u001b[0;31mParserError\u001b[0m                               Traceback (most recent call last)",
      "Cell \u001b[0;32mIn[14], line 2\u001b[0m\n\u001b[1;32m      1\u001b[0m \u001b[38;5;28;01mwith\u001b[39;00m \u001b[38;5;28mopen\u001b[39m(\u001b[38;5;124m\"\u001b[39m\u001b[38;5;124mconfig.yml\u001b[39m\u001b[38;5;124m\"\u001b[39m) \u001b[38;5;28;01mas\u001b[39;00m config:\n\u001b[0;32m----> 2\u001b[0m     config \u001b[38;5;241m=\u001b[39m yaml\u001b[38;5;241m.\u001b[39mload(config, Loader\u001b[38;5;241m=\u001b[39myaml\u001b[38;5;241m.\u001b[39mFullLoader)\n",
      "File \u001b[0;32m~/anaconda3/envs/exosims/lib/python3.11/site-packages/yaml/__init__.py:81\u001b[0m, in \u001b[0;36mload\u001b[0;34m(stream, Loader)\u001b[0m\n\u001b[1;32m     79\u001b[0m loader \u001b[38;5;241m=\u001b[39m Loader(stream)\n\u001b[1;32m     80\u001b[0m \u001b[38;5;28;01mtry\u001b[39;00m:\n\u001b[0;32m---> 81\u001b[0m     \u001b[38;5;28;01mreturn\u001b[39;00m loader\u001b[38;5;241m.\u001b[39mget_single_data()\n\u001b[1;32m     82\u001b[0m \u001b[38;5;28;01mfinally\u001b[39;00m:\n\u001b[1;32m     83\u001b[0m     loader\u001b[38;5;241m.\u001b[39mdispose()\n",
      "File \u001b[0;32m~/anaconda3/envs/exosims/lib/python3.11/site-packages/yaml/constructor.py:49\u001b[0m, in \u001b[0;36mBaseConstructor.get_single_data\u001b[0;34m(self)\u001b[0m\n\u001b[1;32m     47\u001b[0m \u001b[38;5;28;01mdef\u001b[39;00m \u001b[38;5;21mget_single_data\u001b[39m(\u001b[38;5;28mself\u001b[39m):\n\u001b[1;32m     48\u001b[0m     \u001b[38;5;66;03m# Ensure that the stream contains a single document and construct it.\u001b[39;00m\n\u001b[0;32m---> 49\u001b[0m     node \u001b[38;5;241m=\u001b[39m \u001b[38;5;28mself\u001b[39m\u001b[38;5;241m.\u001b[39mget_single_node()\n\u001b[1;32m     50\u001b[0m     \u001b[38;5;28;01mif\u001b[39;00m node \u001b[38;5;129;01mis\u001b[39;00m \u001b[38;5;129;01mnot\u001b[39;00m \u001b[38;5;28;01mNone\u001b[39;00m:\n\u001b[1;32m     51\u001b[0m         \u001b[38;5;28;01mreturn\u001b[39;00m \u001b[38;5;28mself\u001b[39m\u001b[38;5;241m.\u001b[39mconstruct_document(node)\n",
      "File \u001b[0;32m~/anaconda3/envs/exosims/lib/python3.11/site-packages/yaml/composer.py:36\u001b[0m, in \u001b[0;36mComposer.get_single_node\u001b[0;34m(self)\u001b[0m\n\u001b[1;32m     34\u001b[0m document \u001b[38;5;241m=\u001b[39m \u001b[38;5;28;01mNone\u001b[39;00m\n\u001b[1;32m     35\u001b[0m \u001b[38;5;28;01mif\u001b[39;00m \u001b[38;5;129;01mnot\u001b[39;00m \u001b[38;5;28mself\u001b[39m\u001b[38;5;241m.\u001b[39mcheck_event(StreamEndEvent):\n\u001b[0;32m---> 36\u001b[0m     document \u001b[38;5;241m=\u001b[39m \u001b[38;5;28mself\u001b[39m\u001b[38;5;241m.\u001b[39mcompose_document()\n\u001b[1;32m     38\u001b[0m \u001b[38;5;66;03m# Ensure that the stream contains no more documents.\u001b[39;00m\n\u001b[1;32m     39\u001b[0m \u001b[38;5;28;01mif\u001b[39;00m \u001b[38;5;129;01mnot\u001b[39;00m \u001b[38;5;28mself\u001b[39m\u001b[38;5;241m.\u001b[39mcheck_event(StreamEndEvent):\n",
      "File \u001b[0;32m~/anaconda3/envs/exosims/lib/python3.11/site-packages/yaml/composer.py:55\u001b[0m, in \u001b[0;36mComposer.compose_document\u001b[0;34m(self)\u001b[0m\n\u001b[1;32m     52\u001b[0m \u001b[38;5;28mself\u001b[39m\u001b[38;5;241m.\u001b[39mget_event()\n\u001b[1;32m     54\u001b[0m \u001b[38;5;66;03m# Compose the root node.\u001b[39;00m\n\u001b[0;32m---> 55\u001b[0m node \u001b[38;5;241m=\u001b[39m \u001b[38;5;28mself\u001b[39m\u001b[38;5;241m.\u001b[39mcompose_node(\u001b[38;5;28;01mNone\u001b[39;00m, \u001b[38;5;28;01mNone\u001b[39;00m)\n\u001b[1;32m     57\u001b[0m \u001b[38;5;66;03m# Drop the DOCUMENT-END event.\u001b[39;00m\n\u001b[1;32m     58\u001b[0m \u001b[38;5;28mself\u001b[39m\u001b[38;5;241m.\u001b[39mget_event()\n",
      "File \u001b[0;32m~/anaconda3/envs/exosims/lib/python3.11/site-packages/yaml/composer.py:84\u001b[0m, in \u001b[0;36mComposer.compose_node\u001b[0;34m(self, parent, index)\u001b[0m\n\u001b[1;32m     82\u001b[0m     node \u001b[38;5;241m=\u001b[39m \u001b[38;5;28mself\u001b[39m\u001b[38;5;241m.\u001b[39mcompose_sequence_node(anchor)\n\u001b[1;32m     83\u001b[0m \u001b[38;5;28;01melif\u001b[39;00m \u001b[38;5;28mself\u001b[39m\u001b[38;5;241m.\u001b[39mcheck_event(MappingStartEvent):\n\u001b[0;32m---> 84\u001b[0m     node \u001b[38;5;241m=\u001b[39m \u001b[38;5;28mself\u001b[39m\u001b[38;5;241m.\u001b[39mcompose_mapping_node(anchor)\n\u001b[1;32m     85\u001b[0m \u001b[38;5;28mself\u001b[39m\u001b[38;5;241m.\u001b[39mascend_resolver()\n\u001b[1;32m     86\u001b[0m \u001b[38;5;28;01mreturn\u001b[39;00m node\n",
      "File \u001b[0;32m~/anaconda3/envs/exosims/lib/python3.11/site-packages/yaml/composer.py:133\u001b[0m, in \u001b[0;36mComposer.compose_mapping_node\u001b[0;34m(self, anchor)\u001b[0m\n\u001b[1;32m    129\u001b[0m item_key \u001b[38;5;241m=\u001b[39m \u001b[38;5;28mself\u001b[39m\u001b[38;5;241m.\u001b[39mcompose_node(node, \u001b[38;5;28;01mNone\u001b[39;00m)\n\u001b[1;32m    130\u001b[0m \u001b[38;5;66;03m#if item_key in node.value:\u001b[39;00m\n\u001b[1;32m    131\u001b[0m \u001b[38;5;66;03m#    raise ComposerError(\"while composing a mapping\", start_event.start_mark,\u001b[39;00m\n\u001b[1;32m    132\u001b[0m \u001b[38;5;66;03m#            \"found duplicate key\", key_event.start_mark)\u001b[39;00m\n\u001b[0;32m--> 133\u001b[0m item_value \u001b[38;5;241m=\u001b[39m \u001b[38;5;28mself\u001b[39m\u001b[38;5;241m.\u001b[39mcompose_node(node, item_key)\n\u001b[1;32m    134\u001b[0m \u001b[38;5;66;03m#node.value[item_key] = item_value\u001b[39;00m\n\u001b[1;32m    135\u001b[0m node\u001b[38;5;241m.\u001b[39mvalue\u001b[38;5;241m.\u001b[39mappend((item_key, item_value))\n",
      "File \u001b[0;32m~/anaconda3/envs/exosims/lib/python3.11/site-packages/yaml/composer.py:84\u001b[0m, in \u001b[0;36mComposer.compose_node\u001b[0;34m(self, parent, index)\u001b[0m\n\u001b[1;32m     82\u001b[0m     node \u001b[38;5;241m=\u001b[39m \u001b[38;5;28mself\u001b[39m\u001b[38;5;241m.\u001b[39mcompose_sequence_node(anchor)\n\u001b[1;32m     83\u001b[0m \u001b[38;5;28;01melif\u001b[39;00m \u001b[38;5;28mself\u001b[39m\u001b[38;5;241m.\u001b[39mcheck_event(MappingStartEvent):\n\u001b[0;32m---> 84\u001b[0m     node \u001b[38;5;241m=\u001b[39m \u001b[38;5;28mself\u001b[39m\u001b[38;5;241m.\u001b[39mcompose_mapping_node(anchor)\n\u001b[1;32m     85\u001b[0m \u001b[38;5;28mself\u001b[39m\u001b[38;5;241m.\u001b[39mascend_resolver()\n\u001b[1;32m     86\u001b[0m \u001b[38;5;28;01mreturn\u001b[39;00m node\n",
      "File \u001b[0;32m~/anaconda3/envs/exosims/lib/python3.11/site-packages/yaml/composer.py:133\u001b[0m, in \u001b[0;36mComposer.compose_mapping_node\u001b[0;34m(self, anchor)\u001b[0m\n\u001b[1;32m    129\u001b[0m item_key \u001b[38;5;241m=\u001b[39m \u001b[38;5;28mself\u001b[39m\u001b[38;5;241m.\u001b[39mcompose_node(node, \u001b[38;5;28;01mNone\u001b[39;00m)\n\u001b[1;32m    130\u001b[0m \u001b[38;5;66;03m#if item_key in node.value:\u001b[39;00m\n\u001b[1;32m    131\u001b[0m \u001b[38;5;66;03m#    raise ComposerError(\"while composing a mapping\", start_event.start_mark,\u001b[39;00m\n\u001b[1;32m    132\u001b[0m \u001b[38;5;66;03m#            \"found duplicate key\", key_event.start_mark)\u001b[39;00m\n\u001b[0;32m--> 133\u001b[0m item_value \u001b[38;5;241m=\u001b[39m \u001b[38;5;28mself\u001b[39m\u001b[38;5;241m.\u001b[39mcompose_node(node, item_key)\n\u001b[1;32m    134\u001b[0m \u001b[38;5;66;03m#node.value[item_key] = item_value\u001b[39;00m\n\u001b[1;32m    135\u001b[0m node\u001b[38;5;241m.\u001b[39mvalue\u001b[38;5;241m.\u001b[39mappend((item_key, item_value))\n",
      "File \u001b[0;32m~/anaconda3/envs/exosims/lib/python3.11/site-packages/yaml/composer.py:82\u001b[0m, in \u001b[0;36mComposer.compose_node\u001b[0;34m(self, parent, index)\u001b[0m\n\u001b[1;32m     80\u001b[0m     node \u001b[38;5;241m=\u001b[39m \u001b[38;5;28mself\u001b[39m\u001b[38;5;241m.\u001b[39mcompose_scalar_node(anchor)\n\u001b[1;32m     81\u001b[0m \u001b[38;5;28;01melif\u001b[39;00m \u001b[38;5;28mself\u001b[39m\u001b[38;5;241m.\u001b[39mcheck_event(SequenceStartEvent):\n\u001b[0;32m---> 82\u001b[0m     node \u001b[38;5;241m=\u001b[39m \u001b[38;5;28mself\u001b[39m\u001b[38;5;241m.\u001b[39mcompose_sequence_node(anchor)\n\u001b[1;32m     83\u001b[0m \u001b[38;5;28;01melif\u001b[39;00m \u001b[38;5;28mself\u001b[39m\u001b[38;5;241m.\u001b[39mcheck_event(MappingStartEvent):\n\u001b[1;32m     84\u001b[0m     node \u001b[38;5;241m=\u001b[39m \u001b[38;5;28mself\u001b[39m\u001b[38;5;241m.\u001b[39mcompose_mapping_node(anchor)\n",
      "File \u001b[0;32m~/anaconda3/envs/exosims/lib/python3.11/site-packages/yaml/composer.py:110\u001b[0m, in \u001b[0;36mComposer.compose_sequence_node\u001b[0;34m(self, anchor)\u001b[0m\n\u001b[1;32m    108\u001b[0m     \u001b[38;5;28mself\u001b[39m\u001b[38;5;241m.\u001b[39manchors[anchor] \u001b[38;5;241m=\u001b[39m node\n\u001b[1;32m    109\u001b[0m index \u001b[38;5;241m=\u001b[39m \u001b[38;5;241m0\u001b[39m\n\u001b[0;32m--> 110\u001b[0m \u001b[38;5;28;01mwhile\u001b[39;00m \u001b[38;5;129;01mnot\u001b[39;00m \u001b[38;5;28mself\u001b[39m\u001b[38;5;241m.\u001b[39mcheck_event(SequenceEndEvent):\n\u001b[1;32m    111\u001b[0m     node\u001b[38;5;241m.\u001b[39mvalue\u001b[38;5;241m.\u001b[39mappend(\u001b[38;5;28mself\u001b[39m\u001b[38;5;241m.\u001b[39mcompose_node(node, index))\n\u001b[1;32m    112\u001b[0m     index \u001b[38;5;241m+\u001b[39m\u001b[38;5;241m=\u001b[39m \u001b[38;5;241m1\u001b[39m\n",
      "File \u001b[0;32m~/anaconda3/envs/exosims/lib/python3.11/site-packages/yaml/parser.py:98\u001b[0m, in \u001b[0;36mParser.check_event\u001b[0;34m(self, *choices)\u001b[0m\n\u001b[1;32m     96\u001b[0m \u001b[38;5;28;01mif\u001b[39;00m \u001b[38;5;28mself\u001b[39m\u001b[38;5;241m.\u001b[39mcurrent_event \u001b[38;5;129;01mis\u001b[39;00m \u001b[38;5;28;01mNone\u001b[39;00m:\n\u001b[1;32m     97\u001b[0m     \u001b[38;5;28;01mif\u001b[39;00m \u001b[38;5;28mself\u001b[39m\u001b[38;5;241m.\u001b[39mstate:\n\u001b[0;32m---> 98\u001b[0m         \u001b[38;5;28mself\u001b[39m\u001b[38;5;241m.\u001b[39mcurrent_event \u001b[38;5;241m=\u001b[39m \u001b[38;5;28mself\u001b[39m\u001b[38;5;241m.\u001b[39mstate()\n\u001b[1;32m     99\u001b[0m \u001b[38;5;28;01mif\u001b[39;00m \u001b[38;5;28mself\u001b[39m\u001b[38;5;241m.\u001b[39mcurrent_event \u001b[38;5;129;01mis\u001b[39;00m \u001b[38;5;129;01mnot\u001b[39;00m \u001b[38;5;28;01mNone\u001b[39;00m:\n\u001b[1;32m    100\u001b[0m     \u001b[38;5;28;01mif\u001b[39;00m \u001b[38;5;129;01mnot\u001b[39;00m choices:\n",
      "File \u001b[0;32m~/anaconda3/envs/exosims/lib/python3.11/site-packages/yaml/parser.py:483\u001b[0m, in \u001b[0;36mParser.parse_flow_sequence_entry\u001b[0;34m(self, first)\u001b[0m\n\u001b[1;32m    481\u001b[0m     \u001b[38;5;28;01melse\u001b[39;00m:\n\u001b[1;32m    482\u001b[0m         token \u001b[38;5;241m=\u001b[39m \u001b[38;5;28mself\u001b[39m\u001b[38;5;241m.\u001b[39mpeek_token()\n\u001b[0;32m--> 483\u001b[0m         \u001b[38;5;28;01mraise\u001b[39;00m ParserError(\u001b[38;5;124m\"\u001b[39m\u001b[38;5;124mwhile parsing a flow sequence\u001b[39m\u001b[38;5;124m\"\u001b[39m, \u001b[38;5;28mself\u001b[39m\u001b[38;5;241m.\u001b[39mmarks[\u001b[38;5;241m-\u001b[39m\u001b[38;5;241m1\u001b[39m],\n\u001b[1;32m    484\u001b[0m                 \u001b[38;5;124m\"\u001b[39m\u001b[38;5;124mexpected \u001b[39m\u001b[38;5;124m'\u001b[39m\u001b[38;5;124m,\u001b[39m\u001b[38;5;124m'\u001b[39m\u001b[38;5;124m or \u001b[39m\u001b[38;5;124m'\u001b[39m\u001b[38;5;124m]\u001b[39m\u001b[38;5;124m'\u001b[39m\u001b[38;5;124m, but got \u001b[39m\u001b[38;5;132;01m%r\u001b[39;00m\u001b[38;5;124m\"\u001b[39m \u001b[38;5;241m%\u001b[39m token\u001b[38;5;241m.\u001b[39mid, token\u001b[38;5;241m.\u001b[39mstart_mark)\n\u001b[1;32m    486\u001b[0m \u001b[38;5;28;01mif\u001b[39;00m \u001b[38;5;28mself\u001b[39m\u001b[38;5;241m.\u001b[39mcheck_token(KeyToken):\n\u001b[1;32m    487\u001b[0m     token \u001b[38;5;241m=\u001b[39m \u001b[38;5;28mself\u001b[39m\u001b[38;5;241m.\u001b[39mpeek_token()\n",
      "\u001b[0;31mParserError\u001b[0m: while parsing a flow sequence\n  in \"config.yml\", line 153, column 9\nexpected ',' or ']', but got '<scalar>'\n  in \"config.yml\", line 155, column 13"
     ]
    }
   ],
   "source": [
    "with open(\"config.yml\") as config:\n",
    "    config = yaml.load(config, Loader=yaml.FullLoader)"
   ]
  },
  {
   "cell_type": "code",
   "execution_count": null,
   "id": "5b18d08a",
   "metadata": {},
   "outputs": [],
   "source": [
    "config.keys()"
   ]
  },
  {
   "cell_type": "code",
   "execution_count": null,
   "id": "b6f519a2",
   "metadata": {},
   "outputs": [],
   "source": [
    "config.values()"
   ]
  },
  {
   "cell_type": "code",
   "execution_count": null,
   "id": "f95c32de",
   "metadata": {},
   "outputs": [],
   "source": []
  }
 ],
 "metadata": {
  "kernelspec": {
   "display_name": "Python 3 (ipykernel)",
   "language": "python",
   "name": "python3"
  },
  "language_info": {
   "codemirror_mode": {
    "name": "ipython",
    "version": 3
   },
   "file_extension": ".py",
   "mimetype": "text/x-python",
   "name": "python",
   "nbconvert_exporter": "python",
   "pygments_lexer": "ipython3",
   "version": "3.11.2"
  }
 },
 "nbformat": 4,
 "nbformat_minor": 5
}
