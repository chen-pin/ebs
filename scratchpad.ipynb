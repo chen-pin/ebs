{
 "cells": [
  {
   "cell_type": "code",
   "execution_count": 1,
   "id": "505fabcb",
   "metadata": {},
   "outputs": [],
   "source": [
    "import os\n",
    "import time\n",
    "import numpy as np\n",
    "import yaml\n",
    "import json\n",
    "import astropy.units as u\n",
    "import EXOSIMS\n",
    "import EXOSIMS.MissionSim as ems\n",
    "import ebs.error_budget as eb"
   ]
  },
  {
   "cell_type": "code",
   "execution_count": 2,
   "id": "84130e55",
   "metadata": {},
   "outputs": [],
   "source": [
    "ebt = eb.ErrorBudget2()"
   ]
  },
  {
   "cell_type": "code",
   "execution_count": 3,
   "id": "f8856e93",
   "metadata": {
    "scrolled": false
   },
   "outputs": [
    {
     "name": "stdout",
     "output_type": "stream",
     "text": [
      "Imported SurveySimulation (prototype) from EXOSIMS.Prototypes.SurveySimulation\n",
      "Numpy random seed is: 130896999\n",
      "Imported SimulatedUniverse (prototype) from EXOSIMS.Prototypes.SimulatedUniverse\n"
     ]
    },
    {
     "name": "stderr",
     "output_type": "stream",
     "text": [
      "/home/pinchen/EXOSIMS-master/EXOSIMS/Prototypes/OpticalSystem.py:1418: UserWarning: core_contrast has smaller OWA than current system value for coronagraph. Updating to match table, but you should check your inputs.\n",
      "  warnings.warn(\n"
     ]
    },
    {
     "name": "stdout",
     "output_type": "stream",
     "text": [
      "Imported TargetList (prototype) from EXOSIMS.Prototypes.TargetList\n",
      "Imported HWOMissionStars (implementation) from EXOSIMS.StarCatalog.HWOMissionStars\n",
      "Loaded data from /home/pinchen/.EXOSIMS/downloads/HWOStarList_20230523183444.pkl\n",
      "Imported Nemati (implementation) from EXOSIMS.OpticalSystem.Nemati\n",
      "Imported ZodiacalLight (prototype) from EXOSIMS.Prototypes.ZodiacalLight\n",
      "Imported PostProcessing (prototype) from EXOSIMS.Prototypes.PostProcessing\n",
      "Imported BackgroundSources (prototype) from EXOSIMS.Prototypes.BackgroundSources\n",
      "Imported Completeness (prototype) from EXOSIMS.Prototypes.Completeness\n",
      "Imported PlanetPopulation (prototype) from EXOSIMS.Prototypes.PlanetPopulation\n",
      "Imported PlanetPhysicalModel (prototype) from EXOSIMS.Prototypes.PlanetPhysicalModel\n",
      "Loaded star fluxes values from /home/pinchen/.EXOSIMS/cache/TargetList_HWOMissionStars_nStars_5_mode_305fba0c5e7d27c6e2f3679a361e56ec.star_fluxes\n",
      "Calculating intCutoff_dMag\n",
      "intCutoff_dMag values stored in /home/pinchen/.EXOSIMS/cache/TargetList_HWOMissionStars_Nemati_ZodiacalLight_vals_150170c576cc0e631467fb7a08ba4d50_mode_305fba0c5e7d27c6e2f3679a361e56ec.intCutoff_dMag\n",
      "Calculating the integration cutoff time completeness\n",
      "intCutoff_comp values stored in /home/pinchen/.EXOSIMS/cache/TargetList_HWOMissionStars_Completeness_vals_3d29b6e831c17c6e07ac46c40aa54f1e.intCutoff_comp\n",
      "Imported Observatory (prototype) from EXOSIMS.Prototypes.Observatory\n",
      "Imported TimeKeeping (prototype) from EXOSIMS.Prototypes.TimeKeeping\n",
      "OBendTimes is: [36.525] d\n",
      "Loading cached keepout map file from /home/pinchen/.EXOSIMS/cache/koMap_7e11e80dbc5ae5b0c6e96016d3de71e9.komap\n",
      "Keepout Map loaded from cache.\n",
      "coronagraph\n",
      "Loading cached fZ from /home/pinchen/.EXOSIMS/cache/CompletenessTargetListNematif4ba627a7eabd3ca5a538901257cd1c8_5_coronagraph.starkfZ\n",
      "Loading cached fZmins from /home/pinchen/.EXOSIMS/cache/CompletenessTargetListNematif4ba627a7eabd3ca5a538901257cd1c8_5_coronagraph.fZmin\n",
      "Imported SurveyEnsemble (prototype) from EXOSIMS.Prototypes.SurveyEnsemble\n",
      "\n",
      "The following keywords are used in multiple inits (this is ok):\n",
      "\tcachedir\n",
      "\tmissionStart\n",
      "\n",
      "132 keywords were set to their default values.\n"
     ]
    },
    {
     "name": "stderr",
     "output_type": "stream",
     "text": [
      "/home/pinchen/EXOSIMS-master/EXOSIMS/MissionSim.py:250: UserWarning: \n",
      "Unknown key(s): radDos, Pceff for science instrument CONF_NF_Imager\n",
      "\n",
      "  warnings.warn(f\"\\n{out}\")\n",
      "/home/pinchen/EXOSIMS-master/EXOSIMS/MissionSim.py:267: UserWarning: \n",
      "The following outspec keywords were not used in any module init:\n",
      "\t  default_vals_extra (Nemati)\n",
      "\n",
      "  warnings.warn(warnstr)\n"
     ]
    }
   ],
   "source": [
    "ebt.run_exosims()"
   ]
  },
  {
   "cell_type": "code",
   "execution_count": 4,
   "id": "4ee8711b",
   "metadata": {},
   "outputs": [
    {
     "name": "stdout",
     "output_type": "stream",
     "text": [
      "[[       nan        nan        nan]\n",
      " [       nan        nan        nan]\n",
      " [       nan        nan        nan]\n",
      " [       nan        nan        nan]\n",
      " [0.40758613 0.07688503        nan]] d\n"
     ]
    }
   ],
   "source": [
    "print(ebt.int_time)"
   ]
  },
  {
   "cell_type": "code",
   "execution_count": 5,
   "id": "86535b77",
   "metadata": {},
   "outputs": [
    {
     "data": {
      "text/plain": [
       "[[9.9999e-07, 9.9999e-07, 9.9999e-07, 9.9999e-07],\n",
       " [9.999e-05, 9.999e-05, 9.999e-05, 9.999e-05],\n",
       " [0.00990099, 0.00990099, 0.00990099, 0.00990099],\n",
       " [nan, nan, nan, nan],\n",
       " [nan, nan, nan, nan]]"
      ]
     },
     "execution_count": 5,
     "metadata": {},
     "output_type": "execute_result"
    }
   ],
   "source": [
    "ebt.config['mcmc']['wfsc_factor']['ini_pars']['center']"
   ]
  },
  {
   "cell_type": "code",
   "execution_count": 6,
   "id": "e657287d",
   "metadata": {},
   "outputs": [
    {
     "data": {
      "text/plain": [
       "True"
      ]
     },
     "execution_count": 6,
     "metadata": {},
     "output_type": "execute_result"
    }
   ],
   "source": [
    "type(ebt.config['mcmc']['wfsc_factor']['ini_pars']['center']) == list"
   ]
  },
  {
   "cell_type": "code",
   "execution_count": null,
   "id": "7851bdcd",
   "metadata": {},
   "outputs": [],
   "source": [
    "print(ebt.wfe)"
   ]
  },
  {
   "cell_type": "code",
   "execution_count": null,
   "id": "b26375cb",
   "metadata": {},
   "outputs": [],
   "source": [
    "getattr(ebt, 'wfe').shape"
   ]
  },
  {
   "cell_type": "code",
   "execution_count": null,
   "id": "0efb01d3",
   "metadata": {},
   "outputs": [],
   "source": [
    "ebt.repack_array('wfsc_factor', np.random.rand(3*4))"
   ]
  },
  {
   "cell_type": "code",
   "execution_count": null,
   "id": "121d8ec9",
   "metadata": {},
   "outputs": [],
   "source": [
    "ebt.wfsc_factor"
   ]
  },
  {
   "cell_type": "code",
   "execution_count": null,
   "id": "0dcc4a22",
   "metadata": {},
   "outputs": [],
   "source": []
  }
 ],
 "metadata": {
  "kernelspec": {
   "display_name": "Python 3 (ipykernel)",
   "language": "python",
   "name": "python3"
  },
  "language_info": {
   "codemirror_mode": {
    "name": "ipython",
    "version": 3
   },
   "file_extension": ".py",
   "mimetype": "text/x-python",
   "name": "python",
   "nbconvert_exporter": "python",
   "pygments_lexer": "ipython3",
   "version": "3.11.2"
  }
 },
 "nbformat": 4,
 "nbformat_minor": 5
}
