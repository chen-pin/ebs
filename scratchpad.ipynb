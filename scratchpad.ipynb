{
 "cells": [
  {
   "cell_type": "code",
   "execution_count": 1,
   "id": "505fabcb",
   "metadata": {},
   "outputs": [],
   "source": [
    "import os\n",
    "import time\n",
    "import numpy as np\n",
    "import matplotlib.pyplot as plt\n",
    "import yaml\n",
    "import json\n",
    "import astropy.units as u\n",
    "import EXOSIMS\n",
    "import EXOSIMS.MissionSim as ems\n",
    "import ebs.error_budget as eb\n",
    "import ebs.log_pdf as pdf"
   ]
  },
  {
   "cell_type": "code",
   "execution_count": 2,
   "id": "84130e55",
   "metadata": {},
   "outputs": [],
   "source": [
    "ebt = eb.ErrorBudget2()"
   ]
  },
  {
   "cell_type": "code",
   "execution_count": 3,
   "id": "f8856e93",
   "metadata": {
    "scrolled": false
   },
   "outputs": [],
   "source": [
    "#ebt.run_exosims()"
   ]
  },
  {
   "cell_type": "code",
   "execution_count": 5,
   "id": "bd829643",
   "metadata": {
    "scrolled": false
   },
   "outputs": [
    {
     "name": "stdout",
     "output_type": "stream",
     "text": [
      "[1e-05, 1e-05, 1e-05, 1e-05, 1e-05, 0.0002, 0.0002, 0.0002, 0.0002, 0.02, 0.02, 0.02, 0.02, 2e-11, 2e-11, 2e-11, 2e-11, 1.0]\n",
      "counter: 0\n",
      "values[counter]: 1e-05\n",
      "1e-06 0.0001\n",
      "finite prob: 0.0\n",
      "counter: 1\n",
      "values[counter]: 1e-05\n",
      "9.9999e-07 9.999e-05\n",
      "finite prob: 0.0\n",
      "counter: 2\n",
      "values[counter]: 1e-05\n",
      "9.9999e-07 9.999e-05\n",
      "finite prob: 0.0\n",
      "counter: 3\n",
      "values[counter]: 1e-05\n",
      "9.9999e-07 9.999e-05\n",
      "finite prob: 0.0\n",
      "counter: 4\n",
      "values[counter]: 1e-05\n",
      "9.9999e-07 9.999e-05\n",
      "finite prob: 0.0\n",
      "counter: 5\n",
      "values[counter]: 0.0002\n",
      "9.999e-05 0.00990099\n",
      "finite prob: 0.0\n",
      "counter: 6\n",
      "values[counter]: 0.0002\n",
      "9.999e-05 0.00990099\n",
      "finite prob: 0.0\n",
      "counter: 7\n",
      "values[counter]: 0.0002\n",
      "9.999e-05 0.00990099\n",
      "finite prob: 0.0\n",
      "counter: 8\n",
      "values[counter]: 0.0002\n",
      "9.999e-05 0.00990099\n",
      "finite prob: 0.0\n",
      "counter: 9\n",
      "values[counter]: 0.02\n",
      "0.00990099 0.5\n",
      "finite prob: 0.0\n",
      "counter: 10\n",
      "values[counter]: 0.02\n",
      "0.00990099 0.5\n",
      "finite prob: 0.0\n",
      "counter: 11\n",
      "values[counter]: 0.02\n",
      "0.00990099 0.5\n",
      "finite prob: 0.0\n",
      "counter: 12\n",
      "values[counter]: 0.02\n",
      "0.00990099 0.5\n",
      "finite prob: 0.0\n",
      "counter: 13\n",
      "values[counter]: 2e-11\n",
      "1e-11 1e-09\n",
      "finite prob: 0.0\n",
      "counter: 14\n",
      "values[counter]: 2e-11\n",
      "1e-11 1e-09\n",
      "finite prob: 0.0\n",
      "counter: 15\n",
      "values[counter]: 2e-11\n",
      "1e-11 1e-09\n",
      "finite prob: 0.0\n",
      "counter: 16\n",
      "values[counter]: 2e-11\n",
      "1e-11 1e-09\n",
      "finite prob: 0.0\n",
      "counter: 17\n",
      "values[counter]: 1.0\n",
      "1e-11 1e-09\n",
      "infinite prob: -inf\n"
     ]
    }
   ],
   "source": [
    "values = [1e-5] + 4*[1e-5] + 4*[2e-4] + 4*[2e-2] + 4*[2e-11] + [1.0]\n",
    "print(values)\n",
    "pri = ebt.log_prior(values)\n"
   ]
  },
  {
   "cell_type": "code",
   "execution_count": 6,
   "id": "11ca7f6c",
   "metadata": {},
   "outputs": [
    {
     "name": "stdout",
     "output_type": "stream",
     "text": [
      "-inf\n"
     ]
    }
   ],
   "source": [
    "print(pri)"
   ]
  },
  {
   "cell_type": "code",
   "execution_count": null,
   "id": "2aaf1731",
   "metadata": {},
   "outputs": [],
   "source": []
  },
  {
   "cell_type": "code",
   "execution_count": null,
   "id": "b4d872ba",
   "metadata": {},
   "outputs": [],
   "source": []
  }
 ],
 "metadata": {
  "kernelspec": {
   "display_name": "Python 3 (ipykernel)",
   "language": "python",
   "name": "python3"
  },
  "language_info": {
   "codemirror_mode": {
    "name": "ipython",
    "version": 3
   },
   "file_extension": ".py",
   "mimetype": "text/x-python",
   "name": "python",
   "nbconvert_exporter": "python",
   "pygments_lexer": "ipython3",
   "version": "3.11.2"
  }
 },
 "nbformat": 4,
 "nbformat_minor": 5
}
