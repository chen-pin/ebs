{
 "cells": [
  {
   "cell_type": "code",
   "execution_count": 1,
   "metadata": {},
   "outputs": [],
   "source": [
    "import os\n",
    "import time\n",
    "import numpy as np\n",
    "import astropy.units as u\n",
    "import EXOSIMS\n",
    "import EXOSIMS.MissionSim as ems"
   ]
  },
  {
   "cell_type": "code",
   "execution_count": 2,
   "metadata": {},
   "outputs": [],
   "source": [
    "spec = {\n",
    "    \"ppFact\": 0.1,\n",
    "    \"minComp\": 0,\n",
    "    \"filterBinaries\": False,\n",
    "    \"keepStarCatalog\": True,\n",
    "    \"pupilDiam\": 6.0,\n",
    "    \"obscurFac\": 0.1,\n",
    "    \"modules\": {\n",
    "        \"PlanetPopulation\": \" \",\n",
    "        \"StarCatalog\": \"HWOMissionStars\",\n",
    "        \"OpticalSystem\": \"Nemati\",\n",
    "        \"ZodiacalLight\": \" \",\n",
    "        \"BackgroundSources\": \" \",\n",
    "        \"PlanetPhysicalModel\": \" \",\n",
    "        \"Observatory\": \" \",\n",
    "        \"TimeKeeping\": \" \",\n",
    "        \"PostProcessing\": \" \",\n",
    "        \"Completeness\": \" \",\n",
    "        \"TargetList\": \" \",\n",
    "        \"SimulatedUniverse\": \" \",\n",
    "        \"SurveySimulation\": \" \",\n",
    "        \"SurveyEnsemble\": \" \"\n",
    "    },\n",
    "    \"scienceInstruments\": [\n",
    "        {\n",
    "            \"name\": \"spectro_1\",\n",
    "            \"QE\": 0.835,\n",
    "            \"optics\": 0.66,\n",
    "            \"sread\": 1.7e-06,\n",
    "            \"idark\": 3e-5,\n",
    "            \"texp\": 3,\n",
    "            \"Rs\": 1.0,\n",
    "            \"pixelNumber\": 1024,\n",
    "            \"pixelSize\": 1.3e-05,\n",
    "            \"FoV\": 9.5,\n",
    "            \"pixelScale\": 0.02,\n",
    "            \"CIC\": 2.1e-3,\n",
    "            \"radDos\": 0,\n",
    "            \"Pceff\": 1.0,\n",
    "            \"ENF\": 1.0\n",
    "        }\n",
    "    ],\n",
    "    \"starlightSuppressionSystems\": [\n",
    "        {\n",
    "            \"name\": \"coronagraph\",\n",
    "            \"optics\": 1.0,\n",
    "            \"lam\": 550.0,\n",
    "            \"BW\": 0.2,\n",
    "            \"ohTime\": 1.0,\n",
    "            \"occulter\": False,\n",
    "            \"IWA\": 0.055,\n",
    "            \"OWA\": 0.5,\n",
    "            \"occ_trans\": 0.2,\n",
    "            \"core_thruput\": \"./inputs/example_throughput.csv\",\n",
    "            \"core_area\": 5.52e-4,\n",
    "            \"core_contrast\": \"./inputs/example_contrast.csv\"\n",
    "        }\n",
    "    ],\n",
    "    \"observingModes\": [\n",
    "        {\n",
    "            \"SNR\": 3.0,\n",
    "            \"detectionMode\": True,\n",
    "            \"instName\": \"spectro_1\",\n",
    "            \"systName\": \"coronagraph\",\n",
    "            \"timeMultiplier\": 1.0\n",
    "        }\n",
    "    ]\n",
    "}"
   ]
  },
  {
   "cell_type": "code",
   "execution_count": 3,
   "metadata": {
    "scrolled": true
   },
   "outputs": [
    {
     "name": "stdout",
     "output_type": "stream",
     "text": [
      "Imported SurveySimulation (prototype) from EXOSIMS.Prototypes.SurveySimulation\n",
      "Numpy random seed is: 662070464\n",
      "Imported SimulatedUniverse (prototype) from EXOSIMS.Prototypes.SimulatedUniverse\n",
      "Imported TargetList (prototype) from EXOSIMS.Prototypes.TargetList\n",
      "Imported HWOMissionStars (implementation) from EXOSIMS.StarCatalog.HWOMissionStars\n",
      "Loaded data from /home/pinchen/.EXOSIMS/downloads/HWOStarList_20230523183444.pkl\n",
      "Imported Nemati (implementation) from EXOSIMS.OpticalSystem.Nemati\n",
      "Imported ZodiacalLight (prototype) from EXOSIMS.Prototypes.ZodiacalLight\n",
      "Imported PostProcessing (prototype) from EXOSIMS.Prototypes.PostProcessing\n",
      "Imported BackgroundSources (prototype) from EXOSIMS.Prototypes.BackgroundSources\n",
      "Imported Completeness (prototype) from EXOSIMS.Prototypes.Completeness\n",
      "Imported PlanetPopulation (prototype) from EXOSIMS.Prototypes.PlanetPopulation\n",
      "Imported PlanetPhysicalModel (prototype) from EXOSIMS.Prototypes.PlanetPhysicalModel\n",
      "Loaded star fluxes values from /home/pinchen/.EXOSIMS/cache/TargetList_HWOMissionStars_nStars_164_mode_8c8c82805df7737dd1cda962ca9699ae.star_fluxes\n",
      "Loaded saturation_dMag values from /home/pinchen/.EXOSIMS/cache/TargetList_HWOMissionStars_Nemati_ZodiacalLight_vals_f9c92e52ad339e20da951047764a3209_mode_8c8c82805df7737dd1cda962ca9699ae.sat_dMag\n",
      "Loaded saturation_comp values from /home/pinchen/.EXOSIMS/cache/TargetList_HWOMissionStars_Completeness_vals_f72beabed997a5a92dfab11c27035280.sat_comp\n",
      "Loaded intCutoff_dMag values from /home/pinchen/.EXOSIMS/cache/TargetList_HWOMissionStars_Nemati_ZodiacalLight_vals_3dce595cf88e4bac599b59686b9d9146_mode_8c8c82805df7737dd1cda962ca9699ae.intCutoff_dMag\n",
      "Loaded intCutoff_comp values from /home/pinchen/.EXOSIMS/cache/TargetList_HWOMissionStars_Completeness_vals_998062fa204c1c692410686869308fca.intCutoff_comp\n",
      "Imported Observatory (prototype) from EXOSIMS.Prototypes.Observatory\n",
      "Imported TimeKeeping (prototype) from EXOSIMS.Prototypes.TimeKeeping\n",
      "OBendTimes is: [36.525] d\n",
      "Loading cached keepout map file from /home/pinchen/.EXOSIMS/cache/koMap_c934e8655507a3f001b090f58d0057cc.komap\n",
      "Keepout Map loaded from cache.\n",
      "coronagraph\n",
      "Loading cached fZ from /home/pinchen/.EXOSIMS/cache/CompletenessTargetListNemati0a69a85653392058a42df3626f2973b4_164_coronagraph.starkfZ\n",
      "Loading cached fZmins from /home/pinchen/.EXOSIMS/cache/CompletenessTargetListNemati0a69a85653392058a42df3626f2973b4_164_coronagraph.fZmin\n",
      "Imported SurveyEnsemble (prototype) from EXOSIMS.Prototypes.SurveyEnsemble\n",
      "\n",
      "The following keywords are used in multiple inits (this is ok):\n",
      "\tcachedir\n",
      "\tmissionStart\n",
      "\n",
      "134 keywords were set to their default values.\n",
      "Execution time = 0.004787445068359375 s\n"
     ]
    },
    {
     "name": "stderr",
     "output_type": "stream",
     "text": [
      "/home/pinchen/anaconda3/envs/exosims/lib/python3.11/site-packages/EXOSIMS/MissionSim.py:250: UserWarning: \n",
      "Unknown key(s): radDos, Pceff for science instrument spectro_1\n",
      "\n",
      "  warnings.warn(f\"\\n{out}\")\n",
      "/home/pinchen/anaconda3/envs/exosims/lib/python3.11/site-packages/EXOSIMS/MissionSim.py:267: UserWarning: \n",
      "The following outspec keywords were not used in any module init:\n",
      "\t  default_vals_extra (Nemati)\n",
      "\n",
      "  warnings.warn(warnstr)\n"
     ]
    }
   ],
   "source": [
    "start = time.time()\n",
    "# sim = ems.MissionSim(os.path.join(EXOSIMS.__path__[0], 'Scripts', 'sampleScript_coron.json'))\n",
    "sim = ems.MissionSim(**spec)\n",
    "end = time.time()\n",
    "timer1 = end - start\n",
    "start = time.time()\n",
    "target = \"HIP 79672\"\n",
    "sInd = np.array([np.where(sim.TargetList.Name == target)[0][0]])\n",
    "eeid = 0.07399\n",
    "eepsr = 1.06e-10\n",
    "dMag = -2.5*np.log10(eepsr)\n",
    "mode = sim.OpticalSystem.observingModes[0]\n",
    "int_time = sim.OpticalSystem.calc_intTime(\n",
    "    sim.TargetList\n",
    "    , sInd\n",
    "    , 1.0*sim.ZodiacalLight.fZ0.unit\n",
    "    , 3.0*sim.ZodiacalLight.fEZ0.value*sim.ZodiacalLight.fEZ0.unit\n",
    "    , dMag\n",
    "    , eeid*u.arcsec\n",
    "    , mode)\n",
    "end = time.time()\n",
    "timer2 = end - start\n",
    "print(f\"Execution time = {(end-start)} s\")"
   ]
  },
  {
   "cell_type": "code",
   "execution_count": 4,
   "metadata": {
    "scrolled": true
   },
   "outputs": [
    {
     "name": "stdout",
     "output_type": "stream",
     "text": [
      "Execution time = 1.23167085647583 s\n"
     ]
    }
   ],
   "source": [
    "print(f\"Execution time = {timer1} s\")"
   ]
  },
  {
   "cell_type": "code",
   "execution_count": 5,
   "metadata": {},
   "outputs": [
    {
     "name": "stdout",
     "output_type": "stream",
     "text": [
      "Execution time = 0.004787445068359375 s\n"
     ]
    }
   ],
   "source": [
    "print(f\"Execution time = {timer2} s\")"
   ]
  },
  {
   "cell_type": "code",
   "execution_count": 6,
   "metadata": {},
   "outputs": [],
   "source": [
    "import ebs.error_budget as eb"
   ]
  },
  {
   "cell_type": "code",
   "execution_count": 7,
   "metadata": {},
   "outputs": [],
   "source": [
    "t = eb.ErrorBudget2()"
   ]
  },
  {
   "cell_type": "code",
   "execution_count": 8,
   "metadata": {},
   "outputs": [],
   "source": [
    "t.wfe = np.random.rand(2,3)\n",
    "t.wfsc_factor = np.random.rand(2,3)\n",
    "t.sensitivity = np.random.rand(4,3)\n",
    "t.contrast = np.random.rand(4)\n",
    "t.angles = np.random.rand(4)"
   ]
  },
  {
   "cell_type": "code",
   "execution_count": 9,
   "metadata": {},
   "outputs": [
    {
     "data": {
      "text/plain": [
       "array([8.24928336e-13, 4.50543799e-13, 6.69751674e-13, 7.26637333e-13])"
      ]
     },
     "execution_count": 9,
     "metadata": {},
     "output_type": "execute_result"
    }
   ],
   "source": [
    "t.delta_contrast"
   ]
  },
  {
   "cell_type": "code",
   "execution_count": 10,
   "metadata": {},
   "outputs": [
    {
     "data": {
      "text/plain": [
       "array([3.43309505e-12, 5.29263047e-13, 1.41072225e-11, 2.26769636e-12])"
      ]
     },
     "execution_count": 10,
     "metadata": {},
     "output_type": "execute_result"
    }
   ],
   "source": [
    "t.ppFact"
   ]
  },
  {
   "cell_type": "code",
   "execution_count": 11,
   "metadata": {},
   "outputs": [],
   "source": [
    "t.write_ppFact_fits(\".\")"
   ]
  },
  {
   "cell_type": "code",
   "execution_count": 12,
   "metadata": {},
   "outputs": [
    {
     "data": {
      "text/plain": [
       "array([0.08588334, 0.30228237, 0.0081056 , 0.37583956])"
      ]
     },
     "execution_count": 12,
     "metadata": {},
     "output_type": "execute_result"
    }
   ],
   "source": [
    "np.random.rand(4,)"
   ]
  }
 ],
 "metadata": {
  "kernelspec": {
   "display_name": "Python 3",
   "language": "python",
   "name": "python3"
  },
  "language_info": {
   "codemirror_mode": {
    "name": "ipython",
    "version": 3
   },
   "file_extension": ".py",
   "mimetype": "text/x-python",
   "name": "python",
   "nbconvert_exporter": "python",
   "pygments_lexer": "ipython3",
   "version": "3.7.4"
  }
 },
 "nbformat": 4,
 "nbformat_minor": 5
}
