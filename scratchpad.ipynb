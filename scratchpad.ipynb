{
 "cells": [
  {
   "cell_type": "code",
   "execution_count": 1,
   "id": "505fabcb",
   "metadata": {},
   "outputs": [],
   "source": [
    "import os\n",
    "import time\n",
    "import numpy as np\n",
    "import matplotlib.pyplot as plt\n",
    "import yaml\n",
    "import json\n",
    "import astropy.units as u\n",
    "import EXOSIMS\n",
    "import EXOSIMS.MissionSim as ems\n",
    "import ebs.error_budget as eb\n",
    "import ebs.log_pdf as pdf"
   ]
  },
  {
   "cell_type": "code",
   "execution_count": 2,
   "id": "84130e55",
   "metadata": {},
   "outputs": [],
   "source": [
    "ebt = eb.ErrorBudget2()\n",
    "ebt.initialize_for_exosims()"
   ]
  },
  {
   "cell_type": "code",
   "execution_count": 3,
   "id": "976cbd09",
   "metadata": {},
   "outputs": [
    {
     "name": "stdout",
     "output_type": "stream",
     "text": [
      "[9.97851553e-06 1.00036712e-05 9.99803714e-06 9.99703103e-06\n",
      " 9.99997148e-06 1.00000742e-03 1.00029487e-03 9.99998434e-04\n",
      " 9.99882458e-04 9.90150511e-02 9.90049501e-02 9.90135219e-02\n",
      " 9.90135089e-02 7.21953787e-10 3.35499085e-10 5.59829923e-10\n",
      " 4.02262578e-10 6.92855822e-10]\n",
      "\n",
      "[9.96599890e-06 9.99715617e-06 9.99557571e-06 1.00013179e-05\n",
      " 1.00015788e-05 1.00023781e-03 1.00038893e-03 9.99432222e-04\n",
      " 1.00019834e-03 9.89646173e-02 9.89808154e-02 9.90289289e-02\n",
      " 9.90559336e-02 6.97503996e-10 5.54571175e-10 4.79934712e-10\n",
      " 5.35292153e-10 5.66162827e-10]\n",
      "\n"
     ]
    },
    {
     "data": {
      "text/plain": [
       "[None, None]"
      ]
     },
     "execution_count": 3,
     "metadata": {},
     "output_type": "execute_result"
    }
   ],
   "source": [
    "pos = ebt.initialize_walkers()\n",
    "[print(f\"{po}\\n\") for po in pos]"
   ]
  },
  {
   "cell_type": "code",
   "execution_count": 4,
   "id": "2e3449d5",
   "metadata": {},
   "outputs": [],
   "source": [
    "# print(ebt.log_prior(pos[0]))"
   ]
  },
  {
   "cell_type": "code",
   "execution_count": 5,
   "id": "c19ce3a3",
   "metadata": {},
   "outputs": [],
   "source": [
    "# print(ebt.log_merit(pos[0]))"
   ]
  },
  {
   "cell_type": "code",
   "execution_count": 6,
   "id": "f8856e93",
   "metadata": {
    "scrolled": false
   },
   "outputs": [
    {
     "name": "stdout",
     "output_type": "stream",
     "text": [
      "Updated idark to 9.978515531275045e-06\n",
      "Updated wfsc_factor to [[1.00036712e-05 9.99803714e-06 9.99703103e-06 9.99997148e-06]\n",
      " [1.00000742e-03 1.00029487e-03 9.99998434e-04 9.99882458e-04]\n",
      " [9.90150511e-02 9.90049501e-02 9.90135219e-02 9.90135089e-02]\n",
      " [1.00000000e+00 1.00000000e+00 1.00000000e+00 1.00000000e+00]\n",
      " [1.00000000e+00 1.00000000e+00 1.00000000e+00 1.00000000e+00]\n",
      " [1.00000000e+00 1.00000000e+00 1.00000000e+00 1.00000000e+00]]\n",
      "Updated contrast to [7.21953787e-10 3.35499085e-10 5.59829923e-10 4.02262578e-10\n",
      " 6.92855822e-10 1.00000000e-11 1.00000000e-11]\n",
      "Imported SurveySimulation (prototype) from EXOSIMS.Prototypes.SurveySimulation\n",
      "Numpy random seed is: 813311491\n",
      "Imported SimulatedUniverse (prototype) from EXOSIMS.Prototypes.SimulatedUniverse\n"
     ]
    },
    {
     "name": "stderr",
     "output_type": "stream",
     "text": [
      "/home/pinchen/EXOSIMS-master/EXOSIMS/Prototypes/OpticalSystem.py:1418: UserWarning: core_contrast has smaller OWA than current system value for coronagraph. Updating to match table, but you should check your inputs.\n",
      "  warnings.warn(\n"
     ]
    },
    {
     "name": "stdout",
     "output_type": "stream",
     "text": [
      "Imported TargetList (prototype) from EXOSIMS.Prototypes.TargetList\n",
      "Imported HWOMissionStars (implementation) from EXOSIMS.StarCatalog.HWOMissionStars\n",
      "Loaded data from /home/pinchen/.EXOSIMS/downloads/HWOStarList_20230523183444.pkl\n",
      "Imported Nemati (implementation) from EXOSIMS.OpticalSystem.Nemati\n",
      "Imported ZodiacalLight (prototype) from EXOSIMS.Prototypes.ZodiacalLight\n",
      "Imported PostProcessing (prototype) from EXOSIMS.Prototypes.PostProcessing\n",
      "Imported BackgroundSources (prototype) from EXOSIMS.Prototypes.BackgroundSources\n",
      "Imported Completeness (prototype) from EXOSIMS.Prototypes.Completeness\n",
      "Imported PlanetPopulation (prototype) from EXOSIMS.Prototypes.PlanetPopulation\n",
      "Imported PlanetPhysicalModel (prototype) from EXOSIMS.Prototypes.PlanetPhysicalModel\n",
      "Loaded star fluxes values from /home/pinchen/.EXOSIMS/cache/TargetList_HWOMissionStars_nStars_5_mode_305fba0c5e7d27c6e2f3679a361e56ec.star_fluxes\n",
      "Calculating intCutoff_dMag\n",
      "intCutoff_dMag values stored in /home/pinchen/.EXOSIMS/cache/TargetList_HWOMissionStars_Nemati_ZodiacalLight_vals_95bb9048e2c6fb00570cf2685a445bc8_mode_305fba0c5e7d27c6e2f3679a361e56ec.intCutoff_dMag\n",
      "Calculating the integration cutoff time completeness\n",
      "intCutoff_comp values stored in /home/pinchen/.EXOSIMS/cache/TargetList_HWOMissionStars_Completeness_vals_dbf1fc7884996a7cf9d52a79fa7c754f.intCutoff_comp\n",
      "No planets were generated. Creating single fake planet.\n",
      "Imported Observatory (prototype) from EXOSIMS.Prototypes.Observatory\n",
      "Imported TimeKeeping (prototype) from EXOSIMS.Prototypes.TimeKeeping\n",
      "OBendTimes is: [36.525] d\n",
      "Loading cached keepout map file from /home/pinchen/.EXOSIMS/cache/koMap_7e11e80dbc5ae5b0c6e96016d3de71e9.komap\n",
      "Keepout Map loaded from cache.\n",
      "coronagraph\n",
      "Loading cached fZ from /home/pinchen/.EXOSIMS/cache/CompletenessTargetListNematif4ba627a7eabd3ca5a538901257cd1c8_5_coronagraph.starkfZ\n",
      "Loading cached fZmins from /home/pinchen/.EXOSIMS/cache/CompletenessTargetListNematif4ba627a7eabd3ca5a538901257cd1c8_5_coronagraph.fZmin\n",
      "Imported SurveyEnsemble (prototype) from EXOSIMS.Prototypes.SurveyEnsemble\n",
      "\n",
      "The following keywords are used in multiple inits (this is ok):\n",
      "\tcachedir\n",
      "\tmissionStart\n",
      "\n",
      "132 keywords were set to their default values.\n",
      "sim object instantiated\n",
      "\n",
      "\n",
      "[[3.55793779e-01 3.42414881e-01 4.77976597e+01]\n",
      " [2.67870670e-01 2.34403224e-01 3.34548510e-01]\n",
      " [1.10512427e-01 1.02054302e-01 6.25610721e-01]\n",
      " [3.66258353e-01 2.12266187e-01 1.72533541e-01]\n",
      " [5.32731061e-02 4.53280174e-02 4.25142924e-02]] d\n",
      "[[3.55793779e-01 3.42414881e-01 4.77976597e+01]\n",
      " [2.67870670e-01 2.34403224e-01 3.34548510e-01]\n",
      " [1.10512427e-01 1.02054302e-01 6.25610721e-01]\n",
      " [3.66258353e-01 2.12266187e-01 1.72533541e-01]\n",
      " [5.32731061e-02 4.53280174e-02 4.25142924e-02]] d\n",
      "[[3.55793779e-01 3.42414881e-01 4.77976597e+01]\n",
      " [2.67870670e-01 2.34403224e-01 3.34548510e-01]\n",
      " [1.10512427e-01 1.02054302e-01 6.25610721e-01]\n",
      " [3.66258353e-01 2.12266187e-01 1.72533541e-01]\n",
      " [5.32731061e-02 4.53280174e-02 4.25142924e-02]]\n",
      "[0.0, 30.0]\n",
      "3.404202782716524\n",
      "0.0\n",
      "Updated idark to 9.965998899476005e-06\n",
      "Updated wfsc_factor to [[9.99715617e-06 9.99557571e-06 1.00013179e-05 1.00015788e-05]\n",
      " [1.00023781e-03 1.00038893e-03 9.99432222e-04 1.00019834e-03]\n",
      " [9.89646173e-02 9.89808154e-02 9.90289289e-02 9.90559336e-02]\n",
      " [1.00000000e+00 1.00000000e+00 1.00000000e+00 1.00000000e+00]\n",
      " [1.00000000e+00 1.00000000e+00 1.00000000e+00 1.00000000e+00]\n",
      " [1.00000000e+00 1.00000000e+00 1.00000000e+00 1.00000000e+00]]\n",
      "Updated contrast to [6.97503996e-10 5.54571175e-10 4.79934712e-10 5.35292153e-10\n",
      " 5.66162827e-10 1.00000000e-11 1.00000000e-11]\n",
      "Imported SurveySimulation (prototype) from EXOSIMS.Prototypes.SurveySimulation\n",
      "Numpy random seed is: 543951404\n",
      "Imported SimulatedUniverse (prototype) from EXOSIMS.Prototypes.SimulatedUniverse\n",
      "Imported TargetList (prototype) from EXOSIMS.Prototypes.TargetList\n",
      "Imported HWOMissionStars (implementation) from EXOSIMS.StarCatalog.HWOMissionStars\n",
      "Loaded data from /home/pinchen/.EXOSIMS/downloads/HWOStarList_20230523183444.pkl\n",
      "Imported Nemati (implementation) from EXOSIMS.OpticalSystem.Nemati\n"
     ]
    },
    {
     "name": "stderr",
     "output_type": "stream",
     "text": [
      "/home/pinchen/EXOSIMS-master/EXOSIMS/MissionSim.py:248: UserWarning: \n",
      "Unknown key(s): radDos, Pceff for science instrument CONF_NF_Imager\n",
      "\n",
      "  warnings.warn(f\"\\n{out}\")\n",
      "/home/pinchen/EXOSIMS-master/EXOSIMS/MissionSim.py:265: UserWarning: \n",
      "The following outspec keywords were not used in any module init:\n",
      "\t  default_vals_extra (Nemati)\n",
      "\n",
      "  warnings.warn(warnstr)\n",
      "/home/pinchen/EXOSIMS-master/EXOSIMS/Prototypes/OpticalSystem.py:1418: UserWarning: core_contrast has smaller OWA than current system value for coronagraph. Updating to match table, but you should check your inputs.\n",
      "  warnings.warn(\n"
     ]
    },
    {
     "name": "stdout",
     "output_type": "stream",
     "text": [
      "Imported ZodiacalLight (prototype) from EXOSIMS.Prototypes.ZodiacalLight\n",
      "Imported PostProcessing (prototype) from EXOSIMS.Prototypes.PostProcessing\n",
      "Imported BackgroundSources (prototype) from EXOSIMS.Prototypes.BackgroundSources\n",
      "Imported Completeness (prototype) from EXOSIMS.Prototypes.Completeness\n",
      "Imported PlanetPopulation (prototype) from EXOSIMS.Prototypes.PlanetPopulation\n",
      "Imported PlanetPhysicalModel (prototype) from EXOSIMS.Prototypes.PlanetPhysicalModel\n",
      "Loaded star fluxes values from /home/pinchen/.EXOSIMS/cache/TargetList_HWOMissionStars_nStars_5_mode_305fba0c5e7d27c6e2f3679a361e56ec.star_fluxes\n",
      "Calculating intCutoff_dMag\n",
      "intCutoff_dMag values stored in /home/pinchen/.EXOSIMS/cache/TargetList_HWOMissionStars_Nemati_ZodiacalLight_vals_56d83b31d1231480f9d8725ef1649b45_mode_305fba0c5e7d27c6e2f3679a361e56ec.intCutoff_dMag\n",
      "Calculating the integration cutoff time completeness\n",
      "intCutoff_comp values stored in /home/pinchen/.EXOSIMS/cache/TargetList_HWOMissionStars_Completeness_vals_05bff9ee08a427d1b6c349e942bec382.intCutoff_comp\n",
      "No planets were generated. Creating single fake planet.\n",
      "Imported Observatory (prototype) from EXOSIMS.Prototypes.Observatory\n",
      "Imported TimeKeeping (prototype) from EXOSIMS.Prototypes.TimeKeeping\n",
      "OBendTimes is: [36.525] d\n",
      "Loading cached keepout map file from /home/pinchen/.EXOSIMS/cache/koMap_7e11e80dbc5ae5b0c6e96016d3de71e9.komap\n",
      "Keepout Map loaded from cache.\n",
      "coronagraph\n",
      "Loading cached fZ from /home/pinchen/.EXOSIMS/cache/CompletenessTargetListNematif4ba627a7eabd3ca5a538901257cd1c8_5_coronagraph.starkfZ\n",
      "Loading cached fZmins from /home/pinchen/.EXOSIMS/cache/CompletenessTargetListNematif4ba627a7eabd3ca5a538901257cd1c8_5_coronagraph.fZmin\n",
      "Imported SurveyEnsemble (prototype) from EXOSIMS.Prototypes.SurveyEnsemble\n",
      "\n",
      "The following keywords are used in multiple inits (this is ok):\n",
      "\tcachedir\n",
      "\tmissionStart\n",
      "\n",
      "132 keywords were set to their default values.\n",
      "sim object instantiated\n",
      "\n",
      "\n",
      "[[3.55793779e-01 3.42414881e-01 4.77976597e+01]\n",
      " [2.67870670e-01 2.34403224e-01 3.34548510e-01]\n",
      " [1.10512427e-01 1.02054302e-01 6.25610721e-01]\n",
      " [3.66258353e-01 2.12266187e-01 1.72533541e-01]\n",
      " [5.32731061e-02 4.53280174e-02 4.25142924e-02]] d\n",
      "[[3.55793779e-01 3.42414881e-01 4.77976597e+01]\n",
      " [2.67870670e-01 2.34403224e-01 3.34548510e-01]\n",
      " [1.10512427e-01 1.02054302e-01 6.25610721e-01]\n",
      " [3.66258353e-01 2.12266187e-01 1.72533541e-01]\n",
      " [5.32731061e-02 4.53280174e-02 4.25142924e-02]] d\n",
      "[[3.55793779e-01 3.42414881e-01 4.77976597e+01]\n",
      " [2.67870670e-01 2.34403224e-01 3.34548510e-01]\n",
      " [1.10512427e-01 1.02054302e-01 6.25610721e-01]\n",
      " [3.66258353e-01 2.12266187e-01 1.72533541e-01]\n",
      " [5.32731061e-02 4.53280174e-02 4.25142924e-02]]\n",
      "[0.0, 30.0]\n",
      "3.404202782716524\n",
      "0.0\n"
     ]
    },
    {
     "name": "stderr",
     "output_type": "stream",
     "text": [
      "/home/pinchen/EXOSIMS-master/EXOSIMS/MissionSim.py:248: UserWarning: \n",
      "Unknown key(s): radDos, Pceff for science instrument CONF_NF_Imager\n",
      "\n",
      "  warnings.warn(f\"\\n{out}\")\n",
      "/home/pinchen/EXOSIMS-master/EXOSIMS/MissionSim.py:265: UserWarning: \n",
      "The following outspec keywords were not used in any module init:\n",
      "\t  default_vals_extra (Nemati)\n",
      "\n",
      "  warnings.warn(warnstr)\n"
     ]
    }
   ],
   "source": [
    "for po in pos:\n",
    "#     print(ebt.log_prior(po))\n",
    "    print(ebt.log_merit(po))\n",
    "#     print(ebt.log_merit(po))"
   ]
  },
  {
   "cell_type": "code",
   "execution_count": null,
   "id": "5bca37b0",
   "metadata": {},
   "outputs": [],
   "source": []
  }
 ],
 "metadata": {
  "kernelspec": {
   "display_name": "Python 3 (ipykernel)",
   "language": "python",
   "name": "python3"
  },
  "language_info": {
   "codemirror_mode": {
    "name": "ipython",
    "version": 3
   },
   "file_extension": ".py",
   "mimetype": "text/x-python",
   "name": "python",
   "nbconvert_exporter": "python",
   "pygments_lexer": "ipython3",
   "version": "3.11.2"
  }
 },
 "nbformat": 4,
 "nbformat_minor": 5
}
