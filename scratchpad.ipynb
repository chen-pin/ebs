{
 "cells": [
  {
   "cell_type": "code",
   "execution_count": 1,
   "id": "505fabcb",
   "metadata": {},
   "outputs": [],
   "source": [
    "import os\n",
    "import time\n",
    "import numpy as np\n",
    "import yaml\n",
    "import json\n",
    "import astropy.units as u\n",
    "import EXOSIMS\n",
    "import EXOSIMS.MissionSim as ems\n",
    "import ebs.error_budget as eb"
   ]
  },
  {
   "cell_type": "code",
   "execution_count": 2,
   "id": "0589ae6e",
   "metadata": {},
   "outputs": [],
   "source": [
    "# spec = {\n",
    "#     \"ppFact\": 0.5,\n",
    "#     \"minComp\": 0,\n",
    "#     \"filterBinaries\": False,\n",
    "#     \"keepStarCatalog\": True,\n",
    "#     \"cherryPickStars\": [\"HIP 79672\"],\n",
    "#     \"skipSaturationCalcs\": True,\n",
    "#     \"pupilDiam\": 6.0,\n",
    "#     \"obscurFac\": 0.05,\n",
    "#     \"modules\": {\n",
    "#         \"PlanetPopulation\": \" \",\n",
    "#         \"StarCatalog\": \"HWOMissionStars\",\n",
    "#         \"OpticalSystem\": \"Nemati\",\n",
    "#         \"ZodiacalLight\": \" \",\n",
    "#         \"BackgroundSources\": \" \",\n",
    "#         \"PlanetPhysicalModel\": \" \",\n",
    "#         \"Observatory\": \" \",\n",
    "#         \"TimeKeeping\": \" \",\n",
    "#         \"PostProcessing\": \" \",\n",
    "#         \"Completeness\": \" \",\n",
    "#         \"TargetList\": \" \",\n",
    "#         \"SimulatedUniverse\": \" \",\n",
    "#         \"SurveySimulation\": \" \",\n",
    "#         \"SurveyEnsemble\": \" \"\n",
    "#     },\n",
    "#     \"scienceInstruments\": [\n",
    "#         {\n",
    "#             \"name\": \"spectro_1\",\n",
    "#             \"QE\": 0.835,\n",
    "#             \"optics\": 0.66,\n",
    "#             \"sread\": 1.7e-06,\n",
    "#             \"idark\": 3e-5,\n",
    "#             \"texp\": 3,\n",
    "#             \"Rs\": 1.0,\n",
    "#             \"pixelNumber\": 1024,\n",
    "#             \"pixelSize\": 1.3e-05,\n",
    "#             \"FoV\": 9.5,\n",
    "#             \"pixelScale\": 0.02,\n",
    "#             \"CIC\": 2.1e-3,\n",
    "#             \"radDos\": 0,\n",
    "#             \"Pceff\": 1.0,\n",
    "#             \"ENF\": 1.0\n",
    "#         }\n",
    "#     ],\n",
    "#     \"starlightSuppressionSystems\": [\n",
    "#         {\n",
    "#             \"name\": \"coronagraph\",\n",
    "#             \"optics\": 1.0,\n",
    "#             \"lam\": 550.0,\n",
    "#             \"BW\": 0.2,\n",
    "#             \"ohTime\": 1.0,\n",
    "#             \"occulter\": False,\n",
    "#             \"IWA\": 0.055,\n",
    "#             \"OWA\": 0.5,\n",
    "#             \"occ_trans\": 0.2,\n",
    "#             \"core_thruput\": \"./inputs/example_throughput.csv\",\n",
    "#             \"core_area\": 5.52e-4,\n",
    "#             \"core_contrast\": \"./inputs/example_contrast.csv\"\n",
    "#         }\n",
    "#     ],\n",
    "#     \"observingModes\": [\n",
    "#         {\n",
    "#             \"SNR\": 3.0,\n",
    "#             \"detectionMode\": True,\n",
    "#             \"instName\": \"spectro_1\",\n",
    "#             \"systName\": \"coronagraph\",\n",
    "#             \"timeMultiplier\": 1.0\n",
    "#         }\n",
    "#     ]\n",
    "# }"
   ]
  },
  {
   "cell_type": "code",
   "execution_count": 3,
   "id": "1e5b310a",
   "metadata": {
    "scrolled": true
   },
   "outputs": [],
   "source": [
    "# start = time.time()\n",
    "# # sim = ems.MissionSim(os.path.join(EXOSIMS.__path__[0], 'Scripts', 'sampleScript_coron.json'))\n",
    "# sim = ems.MissionSim(verbose=False, **spec)\n",
    "# print(sim.TargetList.Name)\n",
    "# end = time.time()\n",
    "# timer1 = end - start\n",
    "# start = time.time()\n",
    "# target = \"HIP 79672\"\n",
    "# sInd = np.array([np.where(sim.TargetList.Name == target)[0][0]])\n",
    "# eeid = 0.07399\n",
    "# eepsr = 1.06e-10\n",
    "# dMag = -2.5*np.log10(eepsr)\n",
    "# mode = sim.OpticalSystem.observingModes[0]\n",
    "# int_time = sim.OpticalSystem.calc_intTime(\n",
    "#     sim.TargetList\n",
    "#     , sInd\n",
    "#     , 1.0*sim.ZodiacalLight.fZ0.unit\n",
    "#     , 3.0*sim.ZodiacalLight.fEZ0.value*sim.ZodiacalLight.fEZ0.unit\n",
    "#     , dMag\n",
    "#     , eeid*u.arcsec\n",
    "#     , mode)\n",
    "# end = time.time()\n",
    "# timer2 = end - start\n",
    "# print(f\"Execution time = {(end-start)} s\")"
   ]
  },
  {
   "cell_type": "code",
   "execution_count": 4,
   "id": "4c79b04f",
   "metadata": {
    "scrolled": true
   },
   "outputs": [],
   "source": [
    "# print(f\"Execution time = {timer1} s\")"
   ]
  },
  {
   "cell_type": "code",
   "execution_count": 5,
   "id": "c71c3c08",
   "metadata": {},
   "outputs": [],
   "source": [
    "# print(f\"Execution time = {timer2} s\")"
   ]
  },
  {
   "cell_type": "code",
   "execution_count": 6,
   "id": "4be38a78",
   "metadata": {},
   "outputs": [],
   "source": [
    "# t = eb.ErrorBudget2()"
   ]
  },
  {
   "cell_type": "code",
   "execution_count": 7,
   "id": "a727d18e",
   "metadata": {},
   "outputs": [],
   "source": [
    "# t.wfe = np.random.rand(2,3)\n",
    "# t.wfsc_factor = np.random.rand(2,3)\n",
    "# t.sensitivity = np.random.rand(4,3)\n",
    "# t.contrast = np.random.rand(4)\n",
    "# t.angles = np.random.rand(4)"
   ]
  },
  {
   "cell_type": "code",
   "execution_count": 8,
   "id": "85a3fa76",
   "metadata": {},
   "outputs": [],
   "source": [
    "# t.delta_contrast"
   ]
  },
  {
   "cell_type": "code",
   "execution_count": 9,
   "id": "20622c31",
   "metadata": {},
   "outputs": [],
   "source": [
    "# t.ppFact"
   ]
  },
  {
   "cell_type": "code",
   "execution_count": 10,
   "id": "e2552651",
   "metadata": {},
   "outputs": [],
   "source": [
    "# t.write_ppFact_fits(\".\")"
   ]
  },
  {
   "cell_type": "code",
   "execution_count": 11,
   "id": "84130e55",
   "metadata": {},
   "outputs": [],
   "source": [
    "ebt = eb.ErrorBudget2()"
   ]
  },
  {
   "cell_type": "code",
   "execution_count": 12,
   "id": "f8856e93",
   "metadata": {
    "scrolled": false
   },
   "outputs": [
    {
     "name": "stdout",
     "output_type": "stream",
     "text": [
      "Imported SurveySimulation (prototype) from EXOSIMS.Prototypes.SurveySimulation\n",
      "Numpy random seed is: 887984223\n",
      "Imported SimulatedUniverse (prototype) from EXOSIMS.Prototypes.SimulatedUniverse\n"
     ]
    },
    {
     "name": "stderr",
     "output_type": "stream",
     "text": [
      "/home/pinchen/EXOSIMS-master/EXOSIMS/Prototypes/OpticalSystem.py:1418: UserWarning: core_contrast has smaller OWA than current system value for coronagraph. Updating to match table, but you should check your inputs.\n",
      "  warnings.warn(\n"
     ]
    },
    {
     "name": "stdout",
     "output_type": "stream",
     "text": [
      "Imported TargetList (prototype) from EXOSIMS.Prototypes.TargetList\n",
      "Imported HWOMissionStars (implementation) from EXOSIMS.StarCatalog.HWOMissionStars\n",
      "Loaded data from /home/pinchen/.EXOSIMS/downloads/HWOStarList_20230523183444.pkl\n",
      "Imported Nemati (implementation) from EXOSIMS.OpticalSystem.Nemati\n",
      "Imported ZodiacalLight (prototype) from EXOSIMS.Prototypes.ZodiacalLight\n",
      "Imported PostProcessing (prototype) from EXOSIMS.Prototypes.PostProcessing\n",
      "Imported BackgroundSources (prototype) from EXOSIMS.Prototypes.BackgroundSources\n",
      "Imported Completeness (prototype) from EXOSIMS.Prototypes.Completeness\n",
      "Imported PlanetPopulation (prototype) from EXOSIMS.Prototypes.PlanetPopulation\n",
      "Imported PlanetPhysicalModel (prototype) from EXOSIMS.Prototypes.PlanetPhysicalModel\n",
      "Loaded star fluxes values from /home/pinchen/.EXOSIMS/cache/TargetList_HWOMissionStars_nStars_5_mode_305fba0c5e7d27c6e2f3679a361e56ec.star_fluxes\n",
      "Calculating intCutoff_dMag\n",
      "intCutoff_dMag values stored in /home/pinchen/.EXOSIMS/cache/TargetList_HWOMissionStars_Nemati_ZodiacalLight_vals_d757e4ed772403c3344d3a03809bf938_mode_305fba0c5e7d27c6e2f3679a361e56ec.intCutoff_dMag\n",
      "Calculating the integration cutoff time completeness\n",
      "intCutoff_comp values stored in /home/pinchen/.EXOSIMS/cache/TargetList_HWOMissionStars_Completeness_vals_5f2135754655cd358c1d19dac34dbefe.intCutoff_comp\n",
      "Imported Observatory (prototype) from EXOSIMS.Prototypes.Observatory\n",
      "Imported TimeKeeping (prototype) from EXOSIMS.Prototypes.TimeKeeping\n",
      "OBendTimes is: [36.525] d\n",
      "Loading cached keepout map file from /home/pinchen/.EXOSIMS/cache/koMap_7e11e80dbc5ae5b0c6e96016d3de71e9.komap\n",
      "Keepout Map loaded from cache.\n",
      "coronagraph\n",
      "Loading cached fZ from /home/pinchen/.EXOSIMS/cache/CompletenessTargetListNematif4ba627a7eabd3ca5a538901257cd1c8_5_coronagraph.starkfZ\n",
      "Loading cached fZmins from /home/pinchen/.EXOSIMS/cache/CompletenessTargetListNematif4ba627a7eabd3ca5a538901257cd1c8_5_coronagraph.fZmin\n",
      "Imported SurveyEnsemble (prototype) from EXOSIMS.Prototypes.SurveyEnsemble\n",
      "\n",
      "The following keywords are used in multiple inits (this is ok):\n",
      "\tcachedir\n",
      "\tmissionStart\n",
      "\n",
      "132 keywords were set to their default values.\n"
     ]
    },
    {
     "name": "stderr",
     "output_type": "stream",
     "text": [
      "/home/pinchen/EXOSIMS-master/EXOSIMS/MissionSim.py:250: UserWarning: \n",
      "Unknown key(s): Pceff, radDos for science instrument CONF_NF_Imager\n",
      "\n",
      "  warnings.warn(f\"\\n{out}\")\n",
      "/home/pinchen/EXOSIMS-master/EXOSIMS/MissionSim.py:267: UserWarning: \n",
      "The following outspec keywords were not used in any module init:\n",
      "\t  default_vals_extra (Nemati)\n",
      "\n",
      "  warnings.warn(warnstr)\n"
     ]
    }
   ],
   "source": [
    "ebt.run_exosims()"
   ]
  },
  {
   "cell_type": "code",
   "execution_count": 13,
   "id": "4ee8711b",
   "metadata": {},
   "outputs": [
    {
     "name": "stdout",
     "output_type": "stream",
     "text": [
      "[[       nan        nan        nan]\n",
      " [       nan        nan        nan]\n",
      " [       nan        nan        nan]\n",
      " [       nan        nan        nan]\n",
      " [0.40758613 0.07688503        nan]] d\n"
     ]
    }
   ],
   "source": [
    "print(ebt.int_time)"
   ]
  },
  {
   "cell_type": "code",
   "execution_count": null,
   "id": "7cca618c",
   "metadata": {},
   "outputs": [],
   "source": []
  }
 ],
 "metadata": {
  "kernelspec": {
   "display_name": "Python 3 (ipykernel)",
   "language": "python",
   "name": "python3"
  },
  "language_info": {
   "codemirror_mode": {
    "name": "ipython",
    "version": 3
   },
   "file_extension": ".py",
   "mimetype": "text/x-python",
   "name": "python",
   "nbconvert_exporter": "python",
   "pygments_lexer": "ipython3",
   "version": "3.11.2"
  }
 },
 "nbformat": 4,
 "nbformat_minor": 5
}
