{
 "cells": [
  {
   "cell_type": "code",
   "execution_count": 1,
   "id": "505fabcb",
   "metadata": {},
   "outputs": [],
   "source": [
    "import os\n",
    "import time\n",
    "import numpy as np\n",
    "import matplotlib.pyplot as plt\n",
    "import yaml\n",
    "import json\n",
    "import astropy.units as u\n",
    "from astropy.io import fits\n",
    "import EXOSIMS\n",
    "import EXOSIMS.MissionSim as ems\n",
    "import ebs.error_budget as eb\n"
   ]
  },
  {
   "cell_type": "code",
   "execution_count": 2,
   "id": "84130e55",
   "metadata": {},
   "outputs": [],
   "source": [
    "ebt = eb.ErrorBudget2()"
   ]
  },
  {
   "cell_type": "code",
   "execution_count": 3,
   "id": "5bca37b0",
   "metadata": {},
   "outputs": [],
   "source": [
    "# t1 = time.time()\n",
    "# smp = ebt.run_mcmc(parallel=False)\n",
    "# print(f\"elapsed time: {time.time()-t1} s\")"
   ]
  },
  {
   "cell_type": "code",
   "execution_count": 4,
   "id": "b707c78c",
   "metadata": {},
   "outputs": [],
   "source": [
    "# import corner"
   ]
  },
  {
   "cell_type": "code",
   "execution_count": 5,
   "id": "3d4cd18f",
   "metadata": {
    "scrolled": true
   },
   "outputs": [
    {
     "name": "stdout",
     "output_type": "stream",
     "text": [
      "[1.00346821e-05 4.97591294e-07 4.95480785e-03 5.03080791e-07\n",
      " 5.04043853e-03 5.03464385e-07 5.04775589e-03 5.00589067e-07\n",
      " 5.04919633e-03 5.01802947e-07 5.00366631e-03 5.03849621e-07\n",
      " 4.98307938e-03 9.97139468e-11 1.00635872e-10 9.90404530e-11\n",
      " 1.00352924e-10 9.97946722e-11 9.93283404e-11 1.50526512e-01\n",
      " 1.49486577e-01 1.50070412e-01 1.49597364e-01 1.50001988e-01\n",
      " 1.49724466e-01]\n"
     ]
    }
   ],
   "source": [
    "state = ebt.initialize_walkers()[0]\n",
    "print(state)"
   ]
  },
  {
   "cell_type": "code",
   "execution_count": 6,
   "id": "6b52febb",
   "metadata": {
    "scrolled": true
   },
   "outputs": [
    {
     "name": "stdout",
     "output_type": "stream",
     "text": [
      "Wrote ppFact FITS file ./inputs/ppFact_1280279550.fits\n",
      "ppFact1: [1. 1. 1. 1. 1. 1.]\n",
      "ppFact2: [0.01261466 0.03188193 0.03770487 0.03770487 0.01885244 0.01885244]\n",
      "Wrote ppFact FITS file ./inputs/ppFact_6176827217.fits\n",
      "ppFact3: [0.12650852 0.06336096 0.03807017 0.03757227 0.01889122 0.01897992]\n",
      "exosims_pars_dict:ppFact: ./inputs/ppFact_6176827217.fits\n",
      "Imported SurveySimulation (prototype) from EXOSIMS.Prototypes.SurveySimulation\n",
      "Numpy random seed is: 982987808\n",
      "Imported SimulatedUniverse (prototype) from EXOSIMS.Prototypes.SimulatedUniverse\n",
      "Imported TargetList (prototype) from EXOSIMS.Prototypes.TargetList\n",
      "Imported HWOMissionStars (implementation) from EXOSIMS.StarCatalog.HWOMissionStars\n",
      "Loaded data from /home/pinchen/.EXOSIMS/downloads/HWOStarList_20230523183444.pkl\n",
      "Imported Nemati (implementation) from EXOSIMS.OpticalSystem.Nemati\n"
     ]
    },
    {
     "name": "stderr",
     "output_type": "stream",
     "text": [
      "/home/pinchen/EXOSIMS-master/EXOSIMS/Prototypes/OpticalSystem.py:580: UserWarning: Input FoV (9.5 arcsec) is larger than FoV computed from pixelScale (4.75 arcsec) for instrument CONS_NF_Imager. This feels like a mistkae.\n",
      "  warnings.warn(\n",
      "/home/pinchen/EXOSIMS-master/EXOSIMS/Prototypes/OpticalSystem.py:1418: UserWarning: core_contrast has smaller OWA than current system value for coronagraph-550. Updating to match table, but you should check your inputs.\n",
      "  warnings.warn(\n"
     ]
    },
    {
     "ename": "AssertionError",
     "evalue": "core_thruput not found in table header for file ./inputs/throughput_9189413862.csv",
     "output_type": "error",
     "traceback": [
      "\u001b[0;31m---------------------------------------------------------------------------\u001b[0m",
      "\u001b[0;31mAssertionError\u001b[0m                            Traceback (most recent call last)",
      "Cell \u001b[0;32mIn[6], line 1\u001b[0m\n\u001b[0;32m----> 1\u001b[0m ebt\u001b[38;5;241m.\u001b[39mlog_merit(state)\n",
      "File \u001b[0;32m/media/sf_C_DRIVE/Users/pinchen/Documents/ExEP_Technology_Office/Coronagraph_Roadmap_Working_Group/Error_Budget/ebs/ebs/error_budget.py:687\u001b[0m, in \u001b[0;36mErrorBudget2.log_merit\u001b[0;34m(self, values)\u001b[0m\n\u001b[1;32m    685\u001b[0m \u001b[38;5;28mself\u001b[39m\u001b[38;5;241m.\u001b[39mupdate_attributes(values)\n\u001b[1;32m    686\u001b[0m \u001b[38;5;28mprint\u001b[39m(\u001b[38;5;124mf\u001b[39m\u001b[38;5;124m\"\u001b[39m\u001b[38;5;124mppFact3: \u001b[39m\u001b[38;5;132;01m{\u001b[39;00m\u001b[38;5;28mself\u001b[39m\u001b[38;5;241m.\u001b[39mppFact\u001b[38;5;132;01m}\u001b[39;00m\u001b[38;5;124m\"\u001b[39m)\n\u001b[0;32m--> 687\u001b[0m int_time \u001b[38;5;241m=\u001b[39m \u001b[38;5;28mself\u001b[39m\u001b[38;5;241m.\u001b[39mrun_exosims()[\u001b[38;5;241m0\u001b[39m]\n\u001b[1;32m    688\u001b[0m \u001b[38;5;28mprint\u001b[39m(\u001b[38;5;124mf\u001b[39m\u001b[38;5;124m\"\u001b[39m\u001b[38;5;124mintegration time: \u001b[39m\u001b[38;5;132;01m{\u001b[39;00mint_time\u001b[38;5;132;01m}\u001b[39;00m\u001b[38;5;124m\"\u001b[39m)\n\u001b[1;32m    689\u001b[0m \u001b[38;5;28;01mif\u001b[39;00m np\u001b[38;5;241m.\u001b[39misnan(int_time\u001b[38;5;241m.\u001b[39mvalue)\u001b[38;5;241m.\u001b[39many():\n",
      "File \u001b[0;32m/media/sf_C_DRIVE/Users/pinchen/Documents/ExEP_Technology_Office/Coronagraph_Roadmap_Working_Group/Error_Budget/ebs/ebs/error_budget.py:747\u001b[0m, in \u001b[0;36mErrorBudget2.run_exosims\u001b[0;34m(self, file_cleanup)\u001b[0m\n\u001b[1;32m    745\u001b[0m exo_zodi \u001b[38;5;241m=\u001b[39m \u001b[38;5;28mself\u001b[39m\u001b[38;5;241m.\u001b[39mexo_zodi\n\u001b[1;32m    746\u001b[0m \u001b[38;5;28mprint\u001b[39m(\u001b[38;5;124mf\u001b[39m\u001b[38;5;124m\"\u001b[39m\u001b[38;5;124mexosims_pars_dict:ppFact: \u001b[39m\u001b[38;5;132;01m{\u001b[39;00m\u001b[38;5;28mself\u001b[39m\u001b[38;5;241m.\u001b[39mexosims_pars_dict[\u001b[38;5;124m'\u001b[39m\u001b[38;5;124mppFact\u001b[39m\u001b[38;5;124m'\u001b[39m]\u001b[38;5;132;01m}\u001b[39;00m\u001b[38;5;124m\"\u001b[39m)\n\u001b[0;32m--> 747\u001b[0m sim \u001b[38;5;241m=\u001b[39m ems\u001b[38;5;241m.\u001b[39mMissionSim(use_core_thruput_for_ez\u001b[38;5;241m=\u001b[39m\u001b[38;5;28;01mFalse\u001b[39;00m\n\u001b[1;32m    748\u001b[0m                      , \u001b[38;5;241m*\u001b[39m\u001b[38;5;241m*\u001b[39mdeepcopy(\u001b[38;5;28mself\u001b[39m\u001b[38;5;241m.\u001b[39mexosims_pars_dict))\n\u001b[1;32m    750\u001b[0m \u001b[38;5;66;03m# identify targets of interest\u001b[39;00m\n\u001b[1;32m    751\u001b[0m sInds \u001b[38;5;241m=\u001b[39m np\u001b[38;5;241m.\u001b[39marray([np\u001b[38;5;241m.\u001b[39mwhere(sim\u001b[38;5;241m.\u001b[39mTargetList\u001b[38;5;241m.\u001b[39mName \u001b[38;5;241m==\u001b[39m t)[\u001b[38;5;241m0\u001b[39m][\u001b[38;5;241m0\u001b[39m] \u001b[38;5;28;01mfor\u001b[39;00m t \n\u001b[1;32m    752\u001b[0m                  \u001b[38;5;129;01min\u001b[39;00m target_list])\n",
      "File \u001b[0;32m~/EXOSIMS-master/EXOSIMS/MissionSim.py:165\u001b[0m, in \u001b[0;36mMissionSim.__init__\u001b[0;34m(self, scriptfile, nopar, verbose, logfile, loglevel, checkInputs, **specs)\u001b[0m\n\u001b[1;32m    162\u001b[0m         \u001b[38;5;28mself\u001b[39m\u001b[38;5;241m.\u001b[39m_outspec[att] \u001b[38;5;241m=\u001b[39m \u001b[38;5;28mself\u001b[39m\u001b[38;5;241m.\u001b[39m\u001b[38;5;18m__dict__\u001b[39m[att]\n\u001b[1;32m    164\u001b[0m \u001b[38;5;66;03m# create a surveysimulation object (triggering init of everything else)\u001b[39;00m\n\u001b[0;32m--> 165\u001b[0m \u001b[38;5;28mself\u001b[39m\u001b[38;5;241m.\u001b[39mSurveySimulation \u001b[38;5;241m=\u001b[39m get_module(\n\u001b[1;32m    166\u001b[0m     specs[\u001b[38;5;124m\"\u001b[39m\u001b[38;5;124mmodules\u001b[39m\u001b[38;5;124m\"\u001b[39m][\u001b[38;5;124m\"\u001b[39m\u001b[38;5;124mSurveySimulation\u001b[39m\u001b[38;5;124m\"\u001b[39m], \u001b[38;5;124m\"\u001b[39m\u001b[38;5;124mSurveySimulation\u001b[39m\u001b[38;5;124m\"\u001b[39m\n\u001b[1;32m    167\u001b[0m )(\u001b[38;5;241m*\u001b[39m\u001b[38;5;241m*\u001b[39mspecs)\n\u001b[1;32m    169\u001b[0m \u001b[38;5;66;03m# collect sub-initializations\u001b[39;00m\n\u001b[1;32m    170\u001b[0m SS \u001b[38;5;241m=\u001b[39m \u001b[38;5;28mself\u001b[39m\u001b[38;5;241m.\u001b[39mSurveySimulation\n",
      "File \u001b[0;32m~/EXOSIMS-master/EXOSIMS/Prototypes/SurveySimulation.py:245\u001b[0m, in \u001b[0;36mSurveySimulation.__init__\u001b[0;34m(self, scriptfile, ntFlux, nVisitsMax, charMargin, dt_max, record_counts_path, nokoMap, nofZ, cachedir, defaultAddExoplanetObsTime, find_known_RV, include_known_RV, **specs)\u001b[0m\n\u001b[1;32m    240\u001b[0m \u001b[38;5;66;03m# if any of the modules is a string, assume that they are all strings\u001b[39;00m\n\u001b[1;32m    241\u001b[0m \u001b[38;5;66;03m# and we need to initalize\u001b[39;00m\n\u001b[1;32m    242\u001b[0m \u001b[38;5;28;01mif\u001b[39;00m \u001b[38;5;28misinstance\u001b[39m(\u001b[38;5;28mnext\u001b[39m(\u001b[38;5;28miter\u001b[39m(specs[\u001b[38;5;124m\"\u001b[39m\u001b[38;5;124mmodules\u001b[39m\u001b[38;5;124m\"\u001b[39m]\u001b[38;5;241m.\u001b[39mvalues())), \u001b[38;5;28mstr\u001b[39m):\n\u001b[1;32m    243\u001b[0m \n\u001b[1;32m    244\u001b[0m     \u001b[38;5;66;03m# import desired module names (prototype or specific)\u001b[39;00m\n\u001b[0;32m--> 245\u001b[0m     \u001b[38;5;28mself\u001b[39m\u001b[38;5;241m.\u001b[39mSimulatedUniverse \u001b[38;5;241m=\u001b[39m get_module(\n\u001b[1;32m    246\u001b[0m         specs[\u001b[38;5;124m\"\u001b[39m\u001b[38;5;124mmodules\u001b[39m\u001b[38;5;124m\"\u001b[39m][\u001b[38;5;124m\"\u001b[39m\u001b[38;5;124mSimulatedUniverse\u001b[39m\u001b[38;5;124m\"\u001b[39m], \u001b[38;5;124m\"\u001b[39m\u001b[38;5;124mSimulatedUniverse\u001b[39m\u001b[38;5;124m\"\u001b[39m\n\u001b[1;32m    247\u001b[0m     )(\u001b[38;5;241m*\u001b[39m\u001b[38;5;241m*\u001b[39mspecs)\n\u001b[1;32m    248\u001b[0m     \u001b[38;5;28mself\u001b[39m\u001b[38;5;241m.\u001b[39mObservatory \u001b[38;5;241m=\u001b[39m get_module(\n\u001b[1;32m    249\u001b[0m         specs[\u001b[38;5;124m\"\u001b[39m\u001b[38;5;124mmodules\u001b[39m\u001b[38;5;124m\"\u001b[39m][\u001b[38;5;124m\"\u001b[39m\u001b[38;5;124mObservatory\u001b[39m\u001b[38;5;124m\"\u001b[39m], \u001b[38;5;124m\"\u001b[39m\u001b[38;5;124mObservatory\u001b[39m\u001b[38;5;124m\"\u001b[39m\n\u001b[1;32m    250\u001b[0m     )(\u001b[38;5;241m*\u001b[39m\u001b[38;5;241m*\u001b[39mspecs)\n\u001b[1;32m    251\u001b[0m     \u001b[38;5;28mself\u001b[39m\u001b[38;5;241m.\u001b[39mTimeKeeping \u001b[38;5;241m=\u001b[39m get_module(\n\u001b[1;32m    252\u001b[0m         specs[\u001b[38;5;124m\"\u001b[39m\u001b[38;5;124mmodules\u001b[39m\u001b[38;5;124m\"\u001b[39m][\u001b[38;5;124m\"\u001b[39m\u001b[38;5;124mTimeKeeping\u001b[39m\u001b[38;5;124m\"\u001b[39m], \u001b[38;5;124m\"\u001b[39m\u001b[38;5;124mTimeKeeping\u001b[39m\u001b[38;5;124m\"\u001b[39m\n\u001b[1;32m    253\u001b[0m     )(\u001b[38;5;241m*\u001b[39m\u001b[38;5;241m*\u001b[39mspecs)\n",
      "File \u001b[0;32m~/EXOSIMS-master/EXOSIMS/Prototypes/SimulatedUniverse.py:208\u001b[0m, in \u001b[0;36mSimulatedUniverse.__init__\u001b[0;34m(self, fixedPlanPerStar, Min, cachedir, lucky_planets, commonSystemPlane, commonSystemPlaneParams, **specs)\u001b[0m\n\u001b[1;32m    202\u001b[0m     \u001b[38;5;28;01massert\u001b[39;00m \u001b[38;5;129;01mnot\u001b[39;00m (val), (\n\u001b[1;32m    203\u001b[0m         \u001b[38;5;124m\"\u001b[39m\u001b[38;5;124mKnownRVPlanetsTargetList or KnownRVPlanets should not be used \u001b[39m\u001b[38;5;124m\"\u001b[39m\n\u001b[1;32m    204\u001b[0m         \u001b[38;5;124m\"\u001b[39m\u001b[38;5;124mwith this SimulatedUniverse\u001b[39m\u001b[38;5;124m\"\u001b[39m\n\u001b[1;32m    205\u001b[0m     )\n\u001b[1;32m    207\u001b[0m \u001b[38;5;66;03m# import TargetList class\u001b[39;00m\n\u001b[0;32m--> 208\u001b[0m \u001b[38;5;28mself\u001b[39m\u001b[38;5;241m.\u001b[39mTargetList \u001b[38;5;241m=\u001b[39m get_module(specs[\u001b[38;5;124m\"\u001b[39m\u001b[38;5;124mmodules\u001b[39m\u001b[38;5;124m\"\u001b[39m][\u001b[38;5;124m\"\u001b[39m\u001b[38;5;124mTargetList\u001b[39m\u001b[38;5;124m\"\u001b[39m], \u001b[38;5;124m\"\u001b[39m\u001b[38;5;124mTargetList\u001b[39m\u001b[38;5;124m\"\u001b[39m)(\n\u001b[1;32m    209\u001b[0m     \u001b[38;5;241m*\u001b[39m\u001b[38;5;241m*\u001b[39mspecs\n\u001b[1;32m    210\u001b[0m )\n\u001b[1;32m    212\u001b[0m \u001b[38;5;66;03m# bring inherited class objects to top level of Simulated Universe\u001b[39;00m\n\u001b[1;32m    213\u001b[0m TL \u001b[38;5;241m=\u001b[39m \u001b[38;5;28mself\u001b[39m\u001b[38;5;241m.\u001b[39mTargetList\n",
      "File \u001b[0;32m~/EXOSIMS-master/EXOSIMS/Prototypes/TargetList.py:383\u001b[0m, in \u001b[0;36mTargetList.__init__\u001b[0;34m(self, missionStart, staticStars, keepStarCatalog, fillPhotometry, fillMissingBandMags, explainFiltering, filterBinaries, cachedir, filter_for_char, earths_only, getKnownPlanets, int_WA, int_dMag, scaleWAdMag, popStars, cherryPickStars, skipSaturationCalcs, **specs)\u001b[0m\n\u001b[1;32m    379\u001b[0m \u001b[38;5;66;03m# get desired module names (specific or prototype) and instantiate objects\u001b[39;00m\n\u001b[1;32m    380\u001b[0m \u001b[38;5;28mself\u001b[39m\u001b[38;5;241m.\u001b[39mStarCatalog \u001b[38;5;241m=\u001b[39m get_module(specs[\u001b[38;5;124m\"\u001b[39m\u001b[38;5;124mmodules\u001b[39m\u001b[38;5;124m\"\u001b[39m][\u001b[38;5;124m\"\u001b[39m\u001b[38;5;124mStarCatalog\u001b[39m\u001b[38;5;124m\"\u001b[39m], \u001b[38;5;124m\"\u001b[39m\u001b[38;5;124mStarCatalog\u001b[39m\u001b[38;5;124m\"\u001b[39m)(\n\u001b[1;32m    381\u001b[0m     \u001b[38;5;241m*\u001b[39m\u001b[38;5;241m*\u001b[39mspecs\n\u001b[1;32m    382\u001b[0m )\n\u001b[0;32m--> 383\u001b[0m \u001b[38;5;28mself\u001b[39m\u001b[38;5;241m.\u001b[39mOpticalSystem \u001b[38;5;241m=\u001b[39m get_module(\n\u001b[1;32m    384\u001b[0m     specs[\u001b[38;5;124m\"\u001b[39m\u001b[38;5;124mmodules\u001b[39m\u001b[38;5;124m\"\u001b[39m][\u001b[38;5;124m\"\u001b[39m\u001b[38;5;124mOpticalSystem\u001b[39m\u001b[38;5;124m\"\u001b[39m], \u001b[38;5;124m\"\u001b[39m\u001b[38;5;124mOpticalSystem\u001b[39m\u001b[38;5;124m\"\u001b[39m\n\u001b[1;32m    385\u001b[0m )(\u001b[38;5;241m*\u001b[39m\u001b[38;5;241m*\u001b[39mspecs)\n\u001b[1;32m    386\u001b[0m \u001b[38;5;28mself\u001b[39m\u001b[38;5;241m.\u001b[39mZodiacalLight \u001b[38;5;241m=\u001b[39m get_module(\n\u001b[1;32m    387\u001b[0m     specs[\u001b[38;5;124m\"\u001b[39m\u001b[38;5;124mmodules\u001b[39m\u001b[38;5;124m\"\u001b[39m][\u001b[38;5;124m\"\u001b[39m\u001b[38;5;124mZodiacalLight\u001b[39m\u001b[38;5;124m\"\u001b[39m], \u001b[38;5;124m\"\u001b[39m\u001b[38;5;124mZodiacalLight\u001b[39m\u001b[38;5;124m\"\u001b[39m\n\u001b[1;32m    388\u001b[0m )(\u001b[38;5;241m*\u001b[39m\u001b[38;5;241m*\u001b[39mspecs)\n\u001b[1;32m    389\u001b[0m \u001b[38;5;28mself\u001b[39m\u001b[38;5;241m.\u001b[39mPostProcessing \u001b[38;5;241m=\u001b[39m get_module(\n\u001b[1;32m    390\u001b[0m     specs[\u001b[38;5;124m\"\u001b[39m\u001b[38;5;124mmodules\u001b[39m\u001b[38;5;124m\"\u001b[39m][\u001b[38;5;124m\"\u001b[39m\u001b[38;5;124mPostProcessing\u001b[39m\u001b[38;5;124m\"\u001b[39m], \u001b[38;5;124m\"\u001b[39m\u001b[38;5;124mPostProcessing\u001b[39m\u001b[38;5;124m\"\u001b[39m\n\u001b[1;32m    391\u001b[0m )(\u001b[38;5;241m*\u001b[39m\u001b[38;5;241m*\u001b[39mspecs)\n",
      "File \u001b[0;32m~/EXOSIMS-master/EXOSIMS/OpticalSystem/Nemati.py:68\u001b[0m, in \u001b[0;36mNemati.__init__\u001b[0;34m(self, CIC, radDos, PCeff, ENF, ref_dMag, ref_Time, **specs)\u001b[0m\n\u001b[1;32m     60\u001b[0m \u001b[38;5;28mself\u001b[39m\u001b[38;5;241m.\u001b[39mdefault_vals_extra \u001b[38;5;241m=\u001b[39m {\n\u001b[1;32m     61\u001b[0m     \u001b[38;5;124m\"\u001b[39m\u001b[38;5;124mCIC\u001b[39m\u001b[38;5;124m\"\u001b[39m: CIC,\n\u001b[1;32m     62\u001b[0m     \u001b[38;5;124m\"\u001b[39m\u001b[38;5;124mradDos\u001b[39m\u001b[38;5;124m\"\u001b[39m: radDos,\n\u001b[1;32m     63\u001b[0m     \u001b[38;5;124m\"\u001b[39m\u001b[38;5;124mPCeff\u001b[39m\u001b[38;5;124m\"\u001b[39m: PCeff,\n\u001b[1;32m     64\u001b[0m     \u001b[38;5;124m\"\u001b[39m\u001b[38;5;124mENF\u001b[39m\u001b[38;5;124m\"\u001b[39m: ENF,\n\u001b[1;32m     65\u001b[0m }\n\u001b[1;32m     67\u001b[0m \u001b[38;5;66;03m# call upstream init\u001b[39;00m\n\u001b[0;32m---> 68\u001b[0m OpticalSystem\u001b[38;5;241m.\u001b[39m\u001b[38;5;21m__init__\u001b[39m(\u001b[38;5;28mself\u001b[39m, \u001b[38;5;241m*\u001b[39m\u001b[38;5;241m*\u001b[39mspecs)\n\u001b[1;32m     70\u001b[0m \u001b[38;5;66;03m# add local defaults to outspec\u001b[39;00m\n\u001b[1;32m     71\u001b[0m \u001b[38;5;28;01mfor\u001b[39;00m k \u001b[38;5;129;01min\u001b[39;00m \u001b[38;5;28mself\u001b[39m\u001b[38;5;241m.\u001b[39mdefault_vals_extra:\n",
      "File \u001b[0;32m~/EXOSIMS-master/EXOSIMS/Prototypes/OpticalSystem.py:422\u001b[0m, in \u001b[0;36mOpticalSystem.__init__\u001b[0;34m(self, obscurFac, shapeFac, pupilDiam, intCutoff, scienceInstruments, QE, optics, FoV, pixelNumber, pixelSize, pixelScale, sread, idark, texp, Rs, lenslSamp, starlightSuppressionSystems, lam, BW, occ_trans, core_thruput, core_contrast, contrast_floor, core_platescale, core_platescale_units, input_angle_units, ohTime, observingModes, SNR, timeMultiplier, IWA, OWA, stabilityFact, cachedir, koAngles_Sun, koAngles_Earth, koAngles_Moon, koAngles_Small, binaryleakfilepath, texp_flag, bandpass_model, bandpass_step, use_core_thruput_for_ez, csv_angsep_colname, **specs)\u001b[0m\n\u001b[1;32m    418\u001b[0m \u001b[38;5;66;03m# populate starlight suppression systems (must have one defined)\u001b[39;00m\n\u001b[1;32m    419\u001b[0m \u001b[38;5;28;01massert\u001b[39;00m \u001b[38;5;28misinstance\u001b[39m(starlightSuppressionSystems, \u001b[38;5;28mlist\u001b[39m) \u001b[38;5;129;01mand\u001b[39;00m (\n\u001b[1;32m    420\u001b[0m     \u001b[38;5;28mlen\u001b[39m(starlightSuppressionSystems) \u001b[38;5;241m>\u001b[39m \u001b[38;5;241m0\u001b[39m\n\u001b[1;32m    421\u001b[0m ), \u001b[38;5;124m\"\u001b[39m\u001b[38;5;124mNo starlight suppression systems defined.\u001b[39m\u001b[38;5;124m\"\u001b[39m\n\u001b[0;32m--> 422\u001b[0m \u001b[38;5;28mself\u001b[39m\u001b[38;5;241m.\u001b[39mpopulate_starlightSuppressionSystems(starlightSuppressionSystems)\n\u001b[1;32m    424\u001b[0m \u001b[38;5;66;03m# if no observing mode defined, create a default mode from the first instrument\u001b[39;00m\n\u001b[1;32m    425\u001b[0m \u001b[38;5;66;03m# and first starlight suppression system. then populate all observing modes\u001b[39;00m\n\u001b[1;32m    426\u001b[0m \u001b[38;5;28;01mif\u001b[39;00m observingModes \u001b[38;5;129;01mis\u001b[39;00m \u001b[38;5;28;01mNone\u001b[39;00m:\n",
      "File \u001b[0;32m~/EXOSIMS-master/EXOSIMS/Prototypes/OpticalSystem.py:823\u001b[0m, in \u001b[0;36mOpticalSystem.populate_starlightSuppressionSystems\u001b[0;34m(self, starlightSuppressionSystems)\u001b[0m\n\u001b[1;32m    814\u001b[0m \u001b[38;5;66;03m# now get the throughputs\u001b[39;00m\n\u001b[1;32m    815\u001b[0m syst \u001b[38;5;241m=\u001b[39m \u001b[38;5;28mself\u001b[39m\u001b[38;5;241m.\u001b[39mget_coro_param(\n\u001b[1;32m    816\u001b[0m     syst,\n\u001b[1;32m    817\u001b[0m     \u001b[38;5;124m\"\u001b[39m\u001b[38;5;124mocc_trans\u001b[39m\u001b[38;5;124m\"\u001b[39m,\n\u001b[0;32m   (...)\u001b[0m\n\u001b[1;32m    821\u001b[0m     max_val\u001b[38;5;241m=\u001b[39m(np\u001b[38;5;241m.\u001b[39minf \u001b[38;5;28;01mif\u001b[39;00m syst[\u001b[38;5;124m\"\u001b[39m\u001b[38;5;124mocculter\u001b[39m\u001b[38;5;124m\"\u001b[39m] \u001b[38;5;28;01melse\u001b[39;00m \u001b[38;5;241m1.0\u001b[39m),\n\u001b[1;32m    822\u001b[0m )\n\u001b[0;32m--> 823\u001b[0m syst \u001b[38;5;241m=\u001b[39m \u001b[38;5;28mself\u001b[39m\u001b[38;5;241m.\u001b[39mget_coro_param(\n\u001b[1;32m    824\u001b[0m     syst,\n\u001b[1;32m    825\u001b[0m     \u001b[38;5;124m\"\u001b[39m\u001b[38;5;124mcore_thruput\u001b[39m\u001b[38;5;124m\"\u001b[39m,\n\u001b[1;32m    826\u001b[0m     expected_ndim\u001b[38;5;241m=\u001b[39m\u001b[38;5;241m2\u001b[39m,\n\u001b[1;32m    827\u001b[0m     expected_first_dim\u001b[38;5;241m=\u001b[39m\u001b[38;5;241m2\u001b[39m,\n\u001b[1;32m    828\u001b[0m     min_val\u001b[38;5;241m=\u001b[39m\u001b[38;5;241m0.0\u001b[39m,\n\u001b[1;32m    829\u001b[0m     max_val\u001b[38;5;241m=\u001b[39m(np\u001b[38;5;241m.\u001b[39minf \u001b[38;5;28;01mif\u001b[39;00m syst[\u001b[38;5;124m\"\u001b[39m\u001b[38;5;124mocculter\u001b[39m\u001b[38;5;124m\"\u001b[39m] \u001b[38;5;28;01melse\u001b[39;00m \u001b[38;5;241m1.0\u001b[39m),\n\u001b[1;32m    830\u001b[0m )\n\u001b[1;32m    832\u001b[0m \u001b[38;5;66;03m# finally, for core_area, if none is supplied, then set to area of\u001b[39;00m\n\u001b[1;32m    833\u001b[0m \u001b[38;5;66;03m# \\sqrt{2}/2 lambda/D radius aperture\u001b[39;00m\n\u001b[1;32m    834\u001b[0m \u001b[38;5;28;01mif\u001b[39;00m (\n\u001b[1;32m    835\u001b[0m     (\u001b[38;5;124m\"\u001b[39m\u001b[38;5;124mcore_area\u001b[39m\u001b[38;5;124m\"\u001b[39m \u001b[38;5;129;01mnot\u001b[39;00m \u001b[38;5;129;01min\u001b[39;00m syst)\n\u001b[1;32m    836\u001b[0m     \u001b[38;5;129;01mor\u001b[39;00m (syst[\u001b[38;5;124m\"\u001b[39m\u001b[38;5;124mcore_area\u001b[39m\u001b[38;5;124m\"\u001b[39m] \u001b[38;5;129;01mis\u001b[39;00m \u001b[38;5;28;01mNone\u001b[39;00m)\n\u001b[1;32m    837\u001b[0m     \u001b[38;5;129;01mor\u001b[39;00m (syst[\u001b[38;5;124m\"\u001b[39m\u001b[38;5;124mcore_area\u001b[39m\u001b[38;5;124m\"\u001b[39m] \u001b[38;5;241m==\u001b[39m \u001b[38;5;241m0\u001b[39m)\n\u001b[1;32m    838\u001b[0m ):\n\u001b[1;32m    839\u001b[0m     \u001b[38;5;66;03m# need to put this in the proper unit\u001b[39;00m\n",
      "File \u001b[0;32m~/EXOSIMS-master/EXOSIMS/Prototypes/OpticalSystem.py:1479\u001b[0m, in \u001b[0;36mOpticalSystem.get_coro_param\u001b[0;34m(self, syst, param_name, fill, expected_ndim, expected_first_dim, min_val, max_val)\u001b[0m\n\u001b[1;32m   1477\u001b[0m \u001b[38;5;28;01massert\u001b[39;00m param_name \u001b[38;5;129;01min\u001b[39;00m syst, \u001b[38;5;124mf\u001b[39m\u001b[38;5;124m\"\u001b[39m\u001b[38;5;132;01m{\u001b[39;00mparam_name\u001b[38;5;132;01m}\u001b[39;00m\u001b[38;5;124m not found in system \u001b[39m\u001b[38;5;132;01m{\u001b[39;00msyst[\u001b[38;5;124m'\u001b[39m\u001b[38;5;124mname\u001b[39m\u001b[38;5;124m'\u001b[39m]\u001b[38;5;132;01m}\u001b[39;00m\u001b[38;5;124m.\u001b[39m\u001b[38;5;124m\"\u001b[39m\n\u001b[1;32m   1478\u001b[0m \u001b[38;5;28;01mif\u001b[39;00m \u001b[38;5;28misinstance\u001b[39m(syst[param_name], \u001b[38;5;28mstr\u001b[39m):\n\u001b[0;32m-> 1479\u001b[0m     dat, hdr \u001b[38;5;241m=\u001b[39m \u001b[38;5;28mself\u001b[39m\u001b[38;5;241m.\u001b[39mget_param_data(\n\u001b[1;32m   1480\u001b[0m         syst[param_name],\n\u001b[1;32m   1481\u001b[0m         left_col_name\u001b[38;5;241m=\u001b[39msyst[\u001b[38;5;124m\"\u001b[39m\u001b[38;5;124mcsv_angsep_colname\u001b[39m\u001b[38;5;124m\"\u001b[39m],\n\u001b[1;32m   1482\u001b[0m         param_name\u001b[38;5;241m=\u001b[39mparam_name,\n\u001b[1;32m   1483\u001b[0m         expected_ndim\u001b[38;5;241m=\u001b[39mexpected_ndim,\n\u001b[1;32m   1484\u001b[0m         expected_first_dim\u001b[38;5;241m=\u001b[39mexpected_first_dim,\n\u001b[1;32m   1485\u001b[0m     )\n\u001b[1;32m   1486\u001b[0m     WA, D \u001b[38;5;241m=\u001b[39m dat[\u001b[38;5;241m0\u001b[39m]\u001b[38;5;241m.\u001b[39mastype(\u001b[38;5;28mfloat\u001b[39m), dat[\u001b[38;5;241m1\u001b[39m]\u001b[38;5;241m.\u001b[39mastype(\u001b[38;5;28mfloat\u001b[39m)\n\u001b[1;32m   1488\u001b[0m     \u001b[38;5;66;03m# check values as needed\u001b[39;00m\n",
      "File \u001b[0;32m~/EXOSIMS-master/EXOSIMS/Prototypes/OpticalSystem.py:1714\u001b[0m, in \u001b[0;36mOpticalSystem.get_param_data\u001b[0;34m(self, ipth, left_col_name, param_name, expected_ndim, expected_first_dim)\u001b[0m\n\u001b[1;32m   1706\u001b[0m \u001b[38;5;28;01massert\u001b[39;00m (\n\u001b[1;32m   1707\u001b[0m     param_name \u001b[38;5;129;01mis\u001b[39;00m \u001b[38;5;129;01mnot\u001b[39;00m \u001b[38;5;28;01mNone\u001b[39;00m\n\u001b[1;32m   1708\u001b[0m ), \u001b[38;5;124m\"\u001b[39m\u001b[38;5;124mIf left_col_name is nont None, param_name cannot be None.\u001b[39m\u001b[38;5;124m\"\u001b[39m\n\u001b[1;32m   1710\u001b[0m \u001b[38;5;28;01massert\u001b[39;00m (\n\u001b[1;32m   1711\u001b[0m     left_col_name \u001b[38;5;129;01min\u001b[39;00m hdr\n\u001b[1;32m   1712\u001b[0m ), \u001b[38;5;124mf\u001b[39m\u001b[38;5;124m\"\u001b[39m\u001b[38;5;132;01m{\u001b[39;00mleft_col_name\u001b[38;5;132;01m}\u001b[39;00m\u001b[38;5;124m not found in table header for file \u001b[39m\u001b[38;5;132;01m{\u001b[39;00mipth\u001b[38;5;132;01m}\u001b[39;00m\u001b[38;5;124m\"\u001b[39m\n\u001b[1;32m   1713\u001b[0m \u001b[38;5;28;01massert\u001b[39;00m (\n\u001b[0;32m-> 1714\u001b[0m     param_name \u001b[38;5;129;01min\u001b[39;00m hdr\n\u001b[1;32m   1715\u001b[0m ), \u001b[38;5;124mf\u001b[39m\u001b[38;5;124m\"\u001b[39m\u001b[38;5;132;01m{\u001b[39;00mparam_name\u001b[38;5;132;01m}\u001b[39;00m\u001b[38;5;124m not found in table header for file \u001b[39m\u001b[38;5;132;01m{\u001b[39;00mipth\u001b[38;5;132;01m}\u001b[39;00m\u001b[38;5;124m\"\u001b[39m\n\u001b[1;32m   1717\u001b[0m left_column_location \u001b[38;5;241m=\u001b[39m np\u001b[38;5;241m.\u001b[39mwhere(hdr \u001b[38;5;241m==\u001b[39m left_col_name)[\u001b[38;5;241m0\u001b[39m][\u001b[38;5;241m0\u001b[39m]\n\u001b[1;32m   1718\u001b[0m param_location \u001b[38;5;241m=\u001b[39m np\u001b[38;5;241m.\u001b[39mwhere(hdr \u001b[38;5;241m==\u001b[39m param_name)[\u001b[38;5;241m0\u001b[39m][\u001b[38;5;241m0\u001b[39m]\n",
      "\u001b[0;31mAssertionError\u001b[0m: core_thruput not found in table header for file ./inputs/throughput_9189413862.csv"
     ]
    }
   ],
   "source": [
    "ebt.log_merit(state)"
   ]
  },
  {
   "cell_type": "code",
   "execution_count": null,
   "id": "f7769690",
   "metadata": {},
   "outputs": [],
   "source": [
    "with fits.open('inputs/ppFact_3373820693.fits') as hdu:\n",
    "    print(hdu[0].data)"
   ]
  },
  {
   "cell_type": "code",
   "execution_count": null,
   "id": "2fc5aa80",
   "metadata": {
    "scrolled": true
   },
   "outputs": [],
   "source": []
  },
  {
   "cell_type": "code",
   "execution_count": null,
   "id": "9d50a192",
   "metadata": {},
   "outputs": [],
   "source": []
  },
  {
   "cell_type": "code",
   "execution_count": null,
   "id": "399d9c7b",
   "metadata": {},
   "outputs": [],
   "source": []
  }
 ],
 "metadata": {
  "kernelspec": {
   "display_name": "Python 3 (ipykernel)",
   "language": "python",
   "name": "python3"
  },
  "language_info": {
   "codemirror_mode": {
    "name": "ipython",
    "version": 3
   },
   "file_extension": ".py",
   "mimetype": "text/x-python",
   "name": "python",
   "nbconvert_exporter": "python",
   "pygments_lexer": "ipython3",
   "version": "3.11.2"
  }
 },
 "nbformat": 4,
 "nbformat_minor": 5
}
