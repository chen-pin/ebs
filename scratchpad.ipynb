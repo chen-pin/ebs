{
 "cells": [
  {
   "cell_type": "code",
   "execution_count": 1,
   "id": "505fabcb",
   "metadata": {},
   "outputs": [],
   "source": [
    "import os\n",
    "import time\n",
    "import numpy as np\n",
    "import matplotlib.pyplot as plt\n",
    "import yaml\n",
    "import json\n",
    "import astropy.units as u\n",
    "from astropy.io import fits\n",
    "import EXOSIMS\n",
    "import EXOSIMS.MissionSim as ems\n",
    "import ebs.error_budget as eb\n"
   ]
  },
  {
   "cell_type": "code",
   "execution_count": 2,
   "id": "84130e55",
   "metadata": {},
   "outputs": [
    {
     "name": "stdout",
     "output_type": "stream",
     "text": [
      "Wrote ppFact FITS file ./inputs/ppFact_5144675304.fits\n"
     ]
    }
   ],
   "source": [
    "ebt = eb.ErrorBudget2()\n",
    "ebt.initialize_for_exosims()"
   ]
  },
  {
   "cell_type": "code",
   "execution_count": 3,
   "id": "5bca37b0",
   "metadata": {},
   "outputs": [],
   "source": [
    "# t1 = time.time()\n",
    "# smp = ebt.run_mcmc(parallel=False)\n",
    "# print(f\"elapsed time: {time.time()-t1} s\")"
   ]
  },
  {
   "cell_type": "code",
   "execution_count": 4,
   "id": "b707c78c",
   "metadata": {},
   "outputs": [],
   "source": [
    "# import corner"
   ]
  },
  {
   "cell_type": "code",
   "execution_count": 5,
   "id": "3d4cd18f",
   "metadata": {
    "scrolled": true
   },
   "outputs": [
    {
     "name": "stdout",
     "output_type": "stream",
     "text": [
      "[1.00339203e-05 4.98452244e-07 4.98053630e-03 4.95928727e-07\n",
      " 5.04226805e-03 5.03022443e-07 4.95617209e-03 5.00340230e-07\n",
      " 5.04517066e-03 5.02812295e-07 4.99763028e-03 5.02022062e-07\n",
      " 5.03417319e-03 1.00627846e-10 9.90366266e-11 1.00957193e-10\n",
      " 9.94598430e-11 1.00095644e-10 1.00122053e-10 1.50098716e-01\n",
      " 1.49710379e-01 1.49818347e-01 1.49389279e-01 1.49745444e-01\n",
      " 1.50383119e-01]\n"
     ]
    }
   ],
   "source": [
    "state = ebt.initialize_walkers()[0]\n",
    "print(state)"
   ]
  },
  {
   "cell_type": "code",
   "execution_count": 6,
   "id": "6b52febb",
   "metadata": {
    "scrolled": true
   },
   "outputs": [
    {
     "name": "stdout",
     "output_type": "stream",
     "text": [
      "ppFact1: [1. 1. 1. 1. 1. 1.]\n",
      "var_name: idark\n",
      "arr: 3e-05\n",
      "use_values: [1.00339203e-05]\n",
      "var_name: wfsc_factor\n",
      "arr: [[1.e-06 1.e+00 1.e+00 1.e+00]\n",
      " [2.e-04 1.e+00 1.e+00 1.e+00]\n",
      " [2.e-03 1.e+00 1.e+00 1.e+00]\n",
      " [2.e-01 1.e+00 1.e+00 1.e+00]\n",
      " [1.e+00 1.e+00 1.e+00 1.e+00]\n",
      " [1.e+00 1.e+00 1.e+00 1.e+00]]\n",
      "use_values: [4.98452244e-07 4.98053630e-03 4.95928727e-07 5.04226805e-03\n",
      " 5.03022443e-07 4.95617209e-03 5.00340230e-07 5.04517066e-03\n",
      " 5.02812295e-07 4.99763028e-03 5.02022062e-07 5.03417319e-03]\n",
      "ppFact2: [0.01264299 0.03194892 0.03779138 0.03779138 0.01889569 0.01889569]\n",
      "Wrote ppFact FITS file ./inputs/ppFact_2907101373.fits\n",
      "var_name: contrast\n",
      "arr: [1.e-09 2.e-10 1.e-10 1.e-10 1.e-10 1.e-10]\n",
      "use_values: [1.00627846e-10 9.90366266e-11 1.00957193e-10 9.94598430e-11\n",
      " 1.00095644e-10 1.00122053e-10]\n",
      "ppFact2: [0.12564102 0.06451941 0.03743308 0.03799663 0.01887764 0.01887266]\n",
      "Wrote ppFact FITS file ./inputs/ppFact_6135726251.fits\n",
      "var_name: throughput\n",
      "arr: [0.01 0.08 0.15 0.15 0.15 0.08]\n",
      "use_values: [0.15009872 0.14971038 0.14981835 0.14938928 0.14974544 0.15038312]\n",
      "ppFact3: [0.12564102 0.06451941 0.03743308 0.03799663 0.01887764 0.01887266]\n",
      "exosims_pars_dict:ppFact: ./inputs/ppFact_6135726251.fits\n",
      "exosims_pars_dict:ppFact: ./inputs/contrast_4454365339.csv\n",
      "exosims_pars_dict:ppFact:./inputs/throughput_7402384553.csv\n",
      "Imported SurveySimulation (prototype) from EXOSIMS.Prototypes.SurveySimulation\n",
      "Numpy random seed is: 156324300\n",
      "Imported SimulatedUniverse (prototype) from EXOSIMS.Prototypes.SimulatedUniverse\n"
     ]
    },
    {
     "name": "stderr",
     "output_type": "stream",
     "text": [
      "/home/pinchen/EXOSIMS-master/EXOSIMS/Prototypes/OpticalSystem.py:580: UserWarning: Input FoV (9.5 arcsec) is larger than FoV computed from pixelScale (4.75 arcsec) for instrument CONS_NF_Imager. This feels like a mistkae.\n",
      "  warnings.warn(\n",
      "/home/pinchen/EXOSIMS-master/EXOSIMS/Prototypes/OpticalSystem.py:1418: UserWarning: core_contrast has smaller OWA than current system value for coronagraph-550. Updating to match table, but you should check your inputs.\n",
      "  warnings.warn(\n"
     ]
    },
    {
     "name": "stdout",
     "output_type": "stream",
     "text": [
      "Imported TargetList (prototype) from EXOSIMS.Prototypes.TargetList\n",
      "Imported HWOMissionStars (implementation) from EXOSIMS.StarCatalog.HWOMissionStars\n",
      "Loaded data from /home/pinchen/.EXOSIMS/downloads/HWOStarList_20230523183444.pkl\n",
      "Imported Nemati (implementation) from EXOSIMS.OpticalSystem.Nemati\n",
      "Imported ZodiacalLight (prototype) from EXOSIMS.Prototypes.ZodiacalLight\n",
      "Imported PostProcessing (prototype) from EXOSIMS.Prototypes.PostProcessing\n",
      "Imported BackgroundSources (prototype) from EXOSIMS.Prototypes.BackgroundSources\n",
      "Imported Completeness (prototype) from EXOSIMS.Prototypes.Completeness\n",
      "Imported PlanetPopulation (prototype) from EXOSIMS.Prototypes.PlanetPopulation\n",
      "Imported PlanetPhysicalModel (prototype) from EXOSIMS.Prototypes.PlanetPhysicalModel\n",
      "Star fluxes stored in /home/pinchen/.EXOSIMS/cache/TargetList_HWOMissionStars_nStars_5_mode_825b6da26cb6dfc97b90b4fcb738af0d.star_fluxes\n",
      "Calculating intCutoff_dMag\n",
      "intCutoff_dMag values stored in /home/pinchen/.EXOSIMS/cache/TargetList_HWOMissionStars_Nemati_ZodiacalLight_vals_9718b8d90ff820dcd8491deb5f824718_mode_825b6da26cb6dfc97b90b4fcb738af0d.intCutoff_dMag\n",
      "Calculating the integration cutoff time completeness\n",
      "intCutoff_comp values stored in /home/pinchen/.EXOSIMS/cache/TargetList_HWOMissionStars_Completeness_vals_86c37d32c9aaf274a9eb9f479afab4a9.intCutoff_comp\n",
      "No planets were generated. Creating single fake planet.\n",
      "Imported Observatory (prototype) from EXOSIMS.Prototypes.Observatory\n",
      "Imported TimeKeeping (prototype) from EXOSIMS.Prototypes.TimeKeeping\n",
      "OBendTimes is: [36.525] d\n",
      "Loading cached keepout map file from /home/pinchen/.EXOSIMS/cache/koMap_7e11e80dbc5ae5b0c6e96016d3de71e9.komap\n",
      "Keepout Map loaded from cache.\n",
      "coronagraph-550\n",
      "Loading cached fZ from /home/pinchen/.EXOSIMS/cache/CompletenessTargetListNematif4ba627a7eabd3ca5a538901257cd1c8_5_coronagraph-550.starkfZ\n",
      "Loading cached fZmins from /home/pinchen/.EXOSIMS/cache/CompletenessTargetListNematif4ba627a7eabd3ca5a538901257cd1c8_5_coronagraph-550.fZmin\n",
      "Imported SurveyEnsemble (prototype) from EXOSIMS.Prototypes.SurveyEnsemble\n",
      "\n",
      "The following keywords are used in multiple inits (this is ok):\n",
      "\tcachedir\n",
      "\tmissionStart\n",
      "\n",
      "132 keywords were set to their default values.\n",
      "integration time: [[1.62567759 1.76406896 4.29785168]\n",
      " [0.65768825 0.71911117 1.96338874]\n",
      " [0.5640509  0.62067364 1.64830945]\n",
      " [0.37316446 0.41146914 1.13822922]\n",
      " [0.09305624 0.10310089 0.28842969]] d\n"
     ]
    },
    {
     "name": "stderr",
     "output_type": "stream",
     "text": [
      "/home/pinchen/EXOSIMS-master/EXOSIMS/MissionSim.py:265: UserWarning: \n",
      "The following outspec keywords were not used in any module init:\n",
      "\t  default_vals_extra (Nemati)\n",
      "\n",
      "  warnings.warn(warnstr)\n"
     ]
    },
    {
     "data": {
      "text/plain": [
       "0.0"
      ]
     },
     "execution_count": 6,
     "metadata": {},
     "output_type": "execute_result"
    }
   ],
   "source": [
    "ebt.log_merit(state)"
   ]
  },
  {
   "cell_type": "code",
   "execution_count": 7,
   "id": "f7769690",
   "metadata": {},
   "outputs": [
    {
     "name": "stdout",
     "output_type": "stream",
     "text": [
      "[[0.0435     0.12435385]\n",
      " [0.061      0.06379724]\n",
      " [0.0785     0.03719909]\n",
      " [0.0955     0.03751007]\n",
      " [0.113      0.01875384]\n",
      " [0.1305     0.01876169]]\n"
     ]
    }
   ],
   "source": [
    "with fits.open('inputs/ppFact_3433275331.fits') as hdu:\n",
    "    print(hdu[0].data)"
   ]
  },
  {
   "cell_type": "code",
   "execution_count": null,
   "id": "2fc5aa80",
   "metadata": {
    "scrolled": true
   },
   "outputs": [],
   "source": []
  },
  {
   "cell_type": "code",
   "execution_count": null,
   "id": "9d50a192",
   "metadata": {},
   "outputs": [],
   "source": []
  },
  {
   "cell_type": "code",
   "execution_count": null,
   "id": "399d9c7b",
   "metadata": {},
   "outputs": [],
   "source": []
  }
 ],
 "metadata": {
  "kernelspec": {
   "display_name": "Python 3 (ipykernel)",
   "language": "python",
   "name": "python3"
  },
  "language_info": {
   "codemirror_mode": {
    "name": "ipython",
    "version": 3
   },
   "file_extension": ".py",
   "mimetype": "text/x-python",
   "name": "python",
   "nbconvert_exporter": "python",
   "pygments_lexer": "ipython3",
   "version": "3.11.2"
  }
 },
 "nbformat": 4,
 "nbformat_minor": 5
}
