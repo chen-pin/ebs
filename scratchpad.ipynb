{
 "cells": [
  {
   "cell_type": "code",
   "execution_count": 1,
   "id": "505fabcb",
   "metadata": {},
   "outputs": [],
   "source": [
    "import os\n",
    "import time\n",
    "import numpy as np\n",
    "import matplotlib.pyplot as plt\n",
    "import yaml\n",
    "import json\n",
    "import astropy.units as u\n",
    "import EXOSIMS\n",
    "import EXOSIMS.MissionSim as ems\n",
    "import ebs.error_budget as eb\n",
    "import ebs.log_pdf as pdf"
   ]
  },
  {
   "cell_type": "code",
   "execution_count": 2,
   "id": "84130e55",
   "metadata": {},
   "outputs": [],
   "source": [
    "ebt = eb.ErrorBudget2()\n",
    "ebt.initialize_for_exosims()"
   ]
  },
  {
   "cell_type": "code",
   "execution_count": 3,
   "id": "8abf2a5a",
   "metadata": {},
   "outputs": [
    {
     "name": "stdout",
     "output_type": "stream",
     "text": [
      "[9.97336228e-06 9.96336741e-07 1.00082417e-06 9.99734260e-07\n",
      " 1.00076509e-06 9.95071126e-05 9.98051959e-05 9.99250376e-05\n",
      " 1.00180165e-04 9.89210082e-03 9.90823967e-03 9.86302346e-03\n",
      " 9.94537541e-03 5.60101946e-10 6.65305123e-10 6.83148949e-10\n",
      " 6.82110984e-10 4.70667970e-10]\n"
     ]
    }
   ],
   "source": [
    "pos = ebt.initialize_walkers()\n",
    "print(pos[0])"
   ]
  },
  {
   "cell_type": "code",
   "execution_count": 4,
   "id": "f8856e93",
   "metadata": {
    "scrolled": false
   },
   "outputs": [
    {
     "name": "stdout",
     "output_type": "stream",
     "text": [
      "Imported SurveySimulation (prototype) from EXOSIMS.Prototypes.SurveySimulation\n",
      "Numpy random seed is: 720541073\n",
      "Imported SimulatedUniverse (prototype) from EXOSIMS.Prototypes.SimulatedUniverse\n"
     ]
    },
    {
     "name": "stderr",
     "output_type": "stream",
     "text": [
      "/home/pinchen/EXOSIMS-master/EXOSIMS/Prototypes/OpticalSystem.py:1418: UserWarning: core_contrast has smaller OWA than current system value for coronagraph. Updating to match table, but you should check your inputs.\n",
      "  warnings.warn(\n"
     ]
    },
    {
     "name": "stdout",
     "output_type": "stream",
     "text": [
      "Imported TargetList (prototype) from EXOSIMS.Prototypes.TargetList\n",
      "Imported HWOMissionStars (implementation) from EXOSIMS.StarCatalog.HWOMissionStars\n",
      "Loaded data from /home/pinchen/.EXOSIMS/downloads/HWOStarList_20230523183444.pkl\n",
      "Imported Nemati (implementation) from EXOSIMS.OpticalSystem.Nemati\n",
      "Imported ZodiacalLight (prototype) from EXOSIMS.Prototypes.ZodiacalLight\n",
      "Imported PostProcessing (prototype) from EXOSIMS.Prototypes.PostProcessing\n",
      "Imported BackgroundSources (prototype) from EXOSIMS.Prototypes.BackgroundSources\n",
      "Imported Completeness (prototype) from EXOSIMS.Prototypes.Completeness\n",
      "Imported PlanetPopulation (prototype) from EXOSIMS.Prototypes.PlanetPopulation\n",
      "Imported PlanetPhysicalModel (prototype) from EXOSIMS.Prototypes.PlanetPhysicalModel\n",
      "Loaded star fluxes values from /home/pinchen/.EXOSIMS/cache/TargetList_HWOMissionStars_nStars_5_mode_305fba0c5e7d27c6e2f3679a361e56ec.star_fluxes\n",
      "Calculating intCutoff_dMag\n",
      "intCutoff_dMag values stored in /home/pinchen/.EXOSIMS/cache/TargetList_HWOMissionStars_Nemati_ZodiacalLight_vals_1c54fa0ec09983917e504d83cbc998d1_mode_305fba0c5e7d27c6e2f3679a361e56ec.intCutoff_dMag\n",
      "Calculating the integration cutoff time completeness\n",
      "intCutoff_comp values stored in /home/pinchen/.EXOSIMS/cache/TargetList_HWOMissionStars_Completeness_vals_5bc73c3aa09cec550c30346bc86bd8c8.intCutoff_comp\n",
      "No planets were generated. Creating single fake planet.\n",
      "Imported Observatory (prototype) from EXOSIMS.Prototypes.Observatory\n",
      "Imported TimeKeeping (prototype) from EXOSIMS.Prototypes.TimeKeeping\n",
      "OBendTimes is: [36.525] d\n",
      "Loading cached keepout map file from /home/pinchen/.EXOSIMS/cache/koMap_7e11e80dbc5ae5b0c6e96016d3de71e9.komap\n",
      "Keepout Map loaded from cache.\n",
      "coronagraph\n",
      "Loading cached fZ from /home/pinchen/.EXOSIMS/cache/CompletenessTargetListNematif4ba627a7eabd3ca5a538901257cd1c8_5_coronagraph.starkfZ\n",
      "Loading cached fZmins from /home/pinchen/.EXOSIMS/cache/CompletenessTargetListNematif4ba627a7eabd3ca5a538901257cd1c8_5_coronagraph.fZmin\n",
      "Imported SurveyEnsemble (prototype) from EXOSIMS.Prototypes.SurveyEnsemble\n",
      "\n",
      "The following keywords are used in multiple inits (this is ok):\n",
      "\tcachedir\n",
      "\tmissionStart\n",
      "\n",
      "132 keywords were set to their default values.\n",
      "[[       nan        nan        nan]\n",
      " [0.33945499 0.30551235 1.41446432]\n",
      " [0.17853664 0.17986827        nan]\n",
      " [0.49381078 0.23186219 0.22100683]\n",
      " [0.05437448 0.04598915 0.04420108]] d\n"
     ]
    },
    {
     "name": "stderr",
     "output_type": "stream",
     "text": [
      "/home/pinchen/EXOSIMS-master/EXOSIMS/MissionSim.py:250: UserWarning: \n",
      "Unknown key(s): Pceff, radDos for science instrument CONF_NF_Imager\n",
      "\n",
      "  warnings.warn(f\"\\n{out}\")\n",
      "/home/pinchen/EXOSIMS-master/EXOSIMS/MissionSim.py:267: UserWarning: \n",
      "The following outspec keywords were not used in any module init:\n",
      "\t  default_vals_extra (Nemati)\n",
      "\n",
      "  warnings.warn(warnstr)\n"
     ]
    }
   ],
   "source": [
    "output = ebt.log_merit(pos[0])"
   ]
  },
  {
   "cell_type": "code",
   "execution_count": 5,
   "id": "b4d872ba",
   "metadata": {},
   "outputs": [
    {
     "name": "stdout",
     "output_type": "stream",
     "text": [
      "-inf\n"
     ]
    }
   ],
   "source": [
    "print(output)"
   ]
  }
 ],
 "metadata": {
  "kernelspec": {
   "display_name": "Python 3 (ipykernel)",
   "language": "python",
   "name": "python3"
  },
  "language_info": {
   "codemirror_mode": {
    "name": "ipython",
    "version": 3
   },
   "file_extension": ".py",
   "mimetype": "text/x-python",
   "name": "python",
   "nbconvert_exporter": "python",
   "pygments_lexer": "ipython3",
   "version": "3.11.2"
  }
 },
 "nbformat": 4,
 "nbformat_minor": 5
}
