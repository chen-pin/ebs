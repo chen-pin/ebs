{
 "cells": [
  {
   "cell_type": "code",
   "execution_count": 1,
   "id": "505fabcb",
   "metadata": {},
   "outputs": [
    {
     "ename": "SyntaxError",
     "evalue": "unexpected character after line continuation character (error_budget.py, line 745)",
     "output_type": "error",
     "traceback": [
      "Traceback \u001b[0;36m(most recent call last)\u001b[0m:\n",
      "\u001b[0m  File \u001b[1;32m~/anaconda3/envs/exosims/lib/python3.11/site-packages/IPython/core/interactiveshell.py:3505\u001b[0m in \u001b[1;35mrun_code\u001b[0m\n    exec(code_obj, self.user_global_ns, self.user_ns)\u001b[0m\n",
      "\u001b[0;36m  Cell \u001b[0;32mIn[1], line 10\u001b[0;36m\n\u001b[0;31m    import ebs.error_budget as eb\u001b[0;36m\n",
      "\u001b[0;36m  File \u001b[0;32m/media/sf_C_DRIVE/Users/pinchen/Documents/ExEP_Technology_Office/Coronagraph_Roadmap_Working_Group/Error_Budget/ebs/ebs/error_budget.py:745\u001b[0;36m\u001b[0m\n\u001b[0;31m    if self.contrast_filename != None \\\u001b[0m\n\u001b[0m                                       ^\u001b[0m\n\u001b[0;31mSyntaxError\u001b[0m\u001b[0;31m:\u001b[0m unexpected character after line continuation character\n"
     ]
    }
   ],
   "source": [
    "import os\n",
    "import time\n",
    "import numpy as np\n",
    "import matplotlib.pyplot as plt\n",
    "import yaml\n",
    "import json\n",
    "import astropy.units as u\n",
    "import EXOSIMS\n",
    "import EXOSIMS.MissionSim as ems\n",
    "import ebs.error_budget as eb"
   ]
  },
  {
   "cell_type": "code",
   "execution_count": null,
   "id": "84130e55",
   "metadata": {},
   "outputs": [],
   "source": [
    "ebt = eb.ErrorBudget2()"
   ]
  },
  {
   "cell_type": "code",
   "execution_count": null,
   "id": "f8856e93",
   "metadata": {
    "scrolled": false
   },
   "outputs": [],
   "source": [
    "ebt.run_exosims()"
   ]
  },
  {
   "cell_type": "code",
   "execution_count": null,
   "id": "4ee8711b",
   "metadata": {},
   "outputs": [],
   "source": [
    "print(ebt.int_time)"
   ]
  },
  {
   "cell_type": "code",
   "execution_count": null,
   "id": "49052e2f",
   "metadata": {
    "scrolled": true
   },
   "outputs": [],
   "source": [
    "positions = ebt.initialize_walkers()\n",
    "print(positions[0])"
   ]
  },
  {
   "cell_type": "code",
   "execution_count": null,
   "id": "6bfe05dd",
   "metadata": {},
   "outputs": [],
   "source": [
    "plt.hist(positions[:, 12])"
   ]
  },
  {
   "cell_type": "code",
   "execution_count": null,
   "id": "8d04ec33",
   "metadata": {},
   "outputs": [],
   "source": [
    "ebt.update_attributes(positions[0,:])"
   ]
  },
  {
   "cell_type": "code",
   "execution_count": null,
   "id": "8af27286",
   "metadata": {},
   "outputs": [],
   "source": []
  }
 ],
 "metadata": {
  "kernelspec": {
   "display_name": "Python 3 (ipykernel)",
   "language": "python",
   "name": "python3"
  },
  "language_info": {
   "codemirror_mode": {
    "name": "ipython",
    "version": 3
   },
   "file_extension": ".py",
   "mimetype": "text/x-python",
   "name": "python",
   "nbconvert_exporter": "python",
   "pygments_lexer": "ipython3",
   "version": "3.11.2"
  }
 },
 "nbformat": 4,
 "nbformat_minor": 5
}
