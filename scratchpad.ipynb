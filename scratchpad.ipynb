{
 "cells": [
  {
   "cell_type": "code",
   "execution_count": 1,
   "id": "ec659089",
   "metadata": {},
   "outputs": [],
   "source": [
    "import os\n",
    "import time\n",
    "import numpy as np\n",
    "import EXOSIMS\n",
    "import EXOSIMS.MissionSim as ems"
   ]
  },
  {
   "cell_type": "code",
   "execution_count": 2,
   "id": "41b53efe",
   "metadata": {},
   "outputs": [],
   "source": [
    "spec = {\n",
    "    \"ppFact\": 0.2,\n",
    "    \"minComp\": 0,\n",
    "    \"filterBinaries\": False,\n",
    "    \"keepStarCatalog\": True,\n",
    "    \"pupilDiam\": 6.0,\n",
    "    \"obscurFac\": 0.1,\n",
    "    \"modules\": {\n",
    "        \"PlanetPopulation\": \" \",\n",
    "        \"StarCatalog\": \"HWOMissionStars\",\n",
    "        \"OpticalSystem\": \"Nemati\",\n",
    "        \"ZodiacalLight\": \" \",\n",
    "        \"BackgroundSources\": \" \",\n",
    "        \"PlanetPhysicalModel\": \" \",\n",
    "        \"Observatory\": \" \",\n",
    "        \"TimeKeeping\": \" \",\n",
    "        \"PostProcessing\": \" \",\n",
    "        \"Completeness\": \" \",\n",
    "        \"TargetList\": \" \",\n",
    "        \"SimulatedUniverse\": \" \",\n",
    "        \"SurveySimulation\": \" \",\n",
    "        \"SurveyEnsemble\": \" \"\n",
    "    },\n",
    "    \"scienceInstruments\": [\n",
    "        {\n",
    "            \"name\": \"CONF_NF_Imager\",\n",
    "            \"QE\": 0.835,\n",
    "            \"optics\": 0.66,\n",
    "            \"sread\": 1.7e-06,\n",
    "            \"idark\": 3e-5,\n",
    "            \"texp\": 3,\n",
    "            \"pixelNumber\": 1024,\n",
    "            \"pixelSize\": 1.3e-05,\n",
    "            \"FoV\": 9.5,\n",
    "            \"pixelScale\": 0.02,\n",
    "            \"CIC\": 2.1e-3,\n",
    "            \"radDos\": 0,\n",
    "            \"Pceff\": 1.0,\n",
    "            \"ENF\": 1.0\n",
    "        }\n",
    "    ],\n",
    "    \"starlightSuppressionSystems\": [\n",
    "        {\n",
    "            \"name\": \"coronagraph\",\n",
    "            \"optics\": 1.0,\n",
    "            \"lam\": 550.0,\n",
    "            \"BW\": 0.2,\n",
    "            \"ohTime\": 1.0,\n",
    "            \"occulter\": False,\n",
    "            \"IWA\": 0.055,\n",
    "            \"OWA\": 0.5,\n",
    "            \"occ_trans\": 0.2,\n",
    "            \"core_thruput\": \"./inputs/example_throughput.csv\",\n",
    "            \"core_area\": 5.52e-4,\n",
    "            \"core_contrast\": \"./inputs/example_contrast.csv\"\n",
    "        }\n",
    "    ],\n",
    "    \"observingModes\": [\n",
    "        {\n",
    "            \"SNR\": 3.0,\n",
    "            \"detectionMode\": True,\n",
    "            \"instName\": \"CONF_NF_Imager\",\n",
    "            \"systName\": \"coronagraph\",\n",
    "            \"timeMultiplier\": 1.0\n",
    "        }\n",
    "    ]\n",
    "}"
   ]
  },
  {
   "cell_type": "code",
   "execution_count": 3,
   "id": "6230cbc9",
   "metadata": {},
   "outputs": [],
   "source": [
    "# start = time.time()\n",
    "# sim = ems.MissionSim(os.path.join(EXOSIMS.__path__[0], 'Scripts', 'sampleScript_coron.json'))\n",
    "# # sim = ems.MissionSim(**spec)\n",
    "# end = time.time()"
   ]
  },
  {
   "cell_type": "code",
   "execution_count": 4,
   "id": "4e56fc51",
   "metadata": {},
   "outputs": [],
   "source": [
    "# print(f\"Execution time = {(end-start)} s\")"
   ]
  },
  {
   "cell_type": "code",
   "execution_count": 5,
   "id": "1e3a282a",
   "metadata": {},
   "outputs": [],
   "source": [
    "# str(int(1e10*np.random.rand()))"
   ]
  },
  {
   "cell_type": "code",
   "execution_count": 6,
   "id": "fec19bb2",
   "metadata": {},
   "outputs": [],
   "source": [
    "import ebs.error_budget as eb"
   ]
  },
  {
   "cell_type": "code",
   "execution_count": 7,
   "id": "550d2670",
   "metadata": {},
   "outputs": [],
   "source": [
    "t = eb.ErrorBudget2()"
   ]
  },
  {
   "cell_type": "code",
   "execution_count": 8,
   "id": "7738feeb",
   "metadata": {},
   "outputs": [],
   "source": [
    "t.wfe = np.random.rand(2,3)\n",
    "t.wfsc_factor = np.random.rand(2,3)\n",
    "t.sensitivity = np.random.rand(4,3)\n",
    "t.contrast = np.random.rand(4)"
   ]
  },
  {
   "cell_type": "code",
   "execution_count": 9,
   "id": "52f7a04e",
   "metadata": {},
   "outputs": [
    {
     "data": {
      "text/plain": [
       "array([2.97373342e-13, 4.26127162e-13, 2.03416313e-13, 5.50570618e-13])"
      ]
     },
     "execution_count": 9,
     "metadata": {},
     "output_type": "execute_result"
    }
   ],
   "source": [
    "t.ppFact"
   ]
  },
  {
   "cell_type": "code",
   "execution_count": 10,
   "id": "f5d94849",
   "metadata": {},
   "outputs": [
    {
     "ename": "ValueError",
     "evalue": "all the input array dimensions except for the concatenation axis must match exactly, but along dimension 1, the array at index 0 has size 1 and the array at index 1 has size 4",
     "output_type": "error",
     "traceback": [
      "\u001b[0;31m---------------------------------------------------------------------------\u001b[0m",
      "\u001b[0;31mValueError\u001b[0m                                Traceback (most recent call last)",
      "Cell \u001b[0;32mIn[10], line 1\u001b[0m\n\u001b[0;32m----> 1\u001b[0m t\u001b[38;5;241m.\u001b[39mwrite_ppFact_fits(\u001b[38;5;124m\"\u001b[39m\u001b[38;5;124m.\u001b[39m\u001b[38;5;124m\"\u001b[39m)\n",
      "File \u001b[0;32m/media/sf_C_DRIVE/Users/pinchen/Documents/ExEP_Technology_Office/Coronagraph_Roadmap_Working_Group/Error_Budget/ebs/ebs/error_budget.py:498\u001b[0m, in \u001b[0;36mErrorBudget2.write_ppFact_fits\u001b[0;34m(self, input_dir)\u001b[0m\n\u001b[1;32m    496\u001b[0m path \u001b[38;5;241m=\u001b[39m os\u001b[38;5;241m.\u001b[39mpath\u001b[38;5;241m.\u001b[39mjoin(input_dir, filename)\n\u001b[1;32m    497\u001b[0m \u001b[38;5;28;01mwith\u001b[39;00m \u001b[38;5;28mopen\u001b[39m(path, \u001b[38;5;124m'\u001b[39m\u001b[38;5;124mwb\u001b[39m\u001b[38;5;124m'\u001b[39m) \u001b[38;5;28;01mas\u001b[39;00m f:\n\u001b[0;32m--> 498\u001b[0m     arr \u001b[38;5;241m=\u001b[39m np\u001b[38;5;241m.\u001b[39mvstack((\u001b[38;5;28mself\u001b[39m\u001b[38;5;241m.\u001b[39mangles, \u001b[38;5;28mself\u001b[39m\u001b[38;5;241m.\u001b[39mppFact))\u001b[38;5;241m.\u001b[39mT\n",
      "File \u001b[0;32m<__array_function__ internals>:200\u001b[0m, in \u001b[0;36mvstack\u001b[0;34m(*args, **kwargs)\u001b[0m\n",
      "File \u001b[0;32m~/anaconda3/envs/exosims/lib/python3.11/site-packages/numpy/core/shape_base.py:296\u001b[0m, in \u001b[0;36mvstack\u001b[0;34m(tup, dtype, casting)\u001b[0m\n\u001b[1;32m    294\u001b[0m \u001b[38;5;28;01mif\u001b[39;00m \u001b[38;5;129;01mnot\u001b[39;00m \u001b[38;5;28misinstance\u001b[39m(arrs, \u001b[38;5;28mlist\u001b[39m):\n\u001b[1;32m    295\u001b[0m     arrs \u001b[38;5;241m=\u001b[39m [arrs]\n\u001b[0;32m--> 296\u001b[0m \u001b[38;5;28;01mreturn\u001b[39;00m _nx\u001b[38;5;241m.\u001b[39mconcatenate(arrs, \u001b[38;5;241m0\u001b[39m, dtype\u001b[38;5;241m=\u001b[39mdtype, casting\u001b[38;5;241m=\u001b[39mcasting)\n",
      "File \u001b[0;32m<__array_function__ internals>:200\u001b[0m, in \u001b[0;36mconcatenate\u001b[0;34m(*args, **kwargs)\u001b[0m\n",
      "\u001b[0;31mValueError\u001b[0m: all the input array dimensions except for the concatenation axis must match exactly, but along dimension 1, the array at index 0 has size 1 and the array at index 1 has size 4"
     ]
    }
   ],
   "source": [
    "t.write_ppFact_fits(\".\")"
   ]
  },
  {
   "cell_type": "code",
   "execution_count": null,
   "id": "e3270fd9",
   "metadata": {},
   "outputs": [],
   "source": []
  }
 ],
 "metadata": {
  "kernelspec": {
   "display_name": "Python 3 (ipykernel)",
   "language": "python",
   "name": "python3"
  },
  "language_info": {
   "codemirror_mode": {
    "name": "ipython",
    "version": 3
   },
   "file_extension": ".py",
   "mimetype": "text/x-python",
   "name": "python",
   "nbconvert_exporter": "python",
   "pygments_lexer": "ipython3",
   "version": "3.11.2"
  }
 },
 "nbformat": 4,
 "nbformat_minor": 5
}
